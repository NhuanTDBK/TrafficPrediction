{
 "metadata": {
  "name": "",
  "signature": "sha256:e9d67fcdc155c9f910c840e207a65490f3a792fcfbaa7029fe035524c4099399"
 },
 "nbformat": 3,
 "nbformat_minor": 0,
 "worksheets": [
  {
   "cells": [
    {
     "cell_type": "code",
     "collapsed": false,
     "input": [
      "from initNN import *\n",
      "from sklearn.metrics import mean_squared_error\n",
      "def mean_percentage_error(y_pred,y_actual):\n",
      "    'Calculate the mean percentage absolute error',\n",
      "    n = y_pred.shape[0]\n",
      "    temp = [np.abs((i-j)/j) for i,j in zip(y_pred,y_actual)],\n",
      "    return (1.0/n) * np.sum(temp)\n",
      "def getPredict(start_idx,end_idx,type_mode,n_input=15):\n",
      "    ax = pl.subplot()\n",
      "    nn_mode = LoadParam(type_mode,n_input)\n",
      "    X_test,y_test = nn_mode.generate((start_idx,end_idx))\n",
      "    ax.set_color_cycle(['blue','red'])\n",
      "    ax.plot(nn_mode.predict(X_test),'--',label='Predict')\n",
      "    ax.plot(y_test,label='Actual')\n",
      "    pl.show()"
     ],
     "language": "python",
     "metadata": {},
     "outputs": [],
     "prompt_number": 1
    },
    {
     "cell_type": "code",
     "collapsed": false,
     "input": [
      "# list_nresult = []\n",
      "# for n_input in np.arange(2,21):\n",
      "# #     n_input=15\n",
      "#     temp = []\n",
      "#     nn = LoadParam(\"NN\",n_input)\n",
      "#     gn = LoadParam(\"GN\",n_input)\n",
      "#     i=46\n",
      "#     skip_list = 3\n",
      "#     X_test,y_test = nn.generate((i,i+skip_list))\n",
      "#     X_ptest, y_ptest = gn.generate((i,i+skip_list))\n",
      "#     gn_pred = gn.convert(gn.predict(X_ptest))\n",
      "#     nn_pred = nn.convert(nn.predict(X_test))\n",
      "\n",
      "#     temp.append(np.sqrt(mean_squared_error(nn_pred,y_test)))\n",
      "#     temp.append(mean_absolute_error(nn_pred,y_test))\n",
      "#     temp.append(mean_percentage_error(y_test,nn_pred))\n",
      "\n",
      "#     temp.append(np.sqrt(mean_squared_error(gn_pred,y_ptest)))\n",
      "#     temp.append(mean_absolute_error(gn_pred,y_ptest))\n",
      "#     temp.append(mean_percentage_error(y_ptest,gn_pred))\n",
      "\n",
      "#     list_nresult.append(temp)"
     ],
     "language": "python",
     "metadata": {},
     "outputs": [],
     "prompt_number": 11
    },
    {
     "cell_type": "code",
     "collapsed": false,
     "input": [
      "n_input=19\n",
      "temp = []\n",
      "nn = LoadParam(\"NN\",n_input)\n",
      "gn = LoadParam(\"GN\",n_input)\n",
      "i=46\n",
      "skip_list = 3\n",
      "X_test,y_test = nn.generate((i,i+skip_list))\n",
      "X_ptest, y_ptest = gn.generate((i,i+skip_list))\n",
      "gn_pred = gn.convert(gn.predict(X_ptest))\n",
      "nn_pred = nn.convert(nn.predict(X_test))"
     ],
     "language": "python",
     "metadata": {},
     "outputs": [
      {
       "output_type": "stream",
       "stream": "stdout",
       "text": [
        "Neural network initialize\n",
        "Neural network initialize"
       ]
      },
      {
       "output_type": "stream",
       "stream": "stdout",
       "text": [
        "\n",
        "Loading storage"
       ]
      },
      {
       "output_type": "stream",
       "stream": "stdout",
       "text": [
        "\n",
        "generate data\n",
        "Generate X_traing, y_traing\n",
        "X_training loading...\n",
        "Loading storage"
       ]
      },
      {
       "output_type": "stream",
       "stream": "stdout",
       "text": [
        "\n",
        "generate data\n",
        "Generate X_traing, y_traing\n",
        "X_training loading...\n"
       ]
      }
     ],
     "prompt_number": 18
    },
    {
     "cell_type": "code",
     "collapsed": false,
     "input": [
      "%matplotlib\n",
      "ax = pl.subplot()\n",
      "ax.set_color_cycle(['blue','red'])\n",
      "ax.plot(gn_pred,'--',label='Predict')\n",
      "ax.plot(y_test,label='Actual')\n",
      "ax.set_title(\"Neural Network with Periodic Input based Prediction (Sliding Window Size = 4)\")\n",
      "ax.set_ylabel(\"Connections\")\n",
      "ax.set_xlabel(\"Time (minutes)\")\n",
      "ax.legend()\n",
      "pl.show()"
     ],
     "language": "python",
     "metadata": {},
     "outputs": [
      {
       "output_type": "stream",
       "stream": "stdout",
       "text": [
        "Using matplotlib backend: Qt4Agg\n"
       ]
      }
     ],
     "prompt_number": 43
    },
    {
     "cell_type": "code",
     "collapsed": false,
     "input": [
      "# results = np.load(\"experiement_12-1-mae_window.npz\")\n",
      "# results.files\n",
      "%matplotlib\n",
      "pd.DataFrame(list_nresult)[2].plot(kind=\"line\")"
     ],
     "language": "python",
     "metadata": {},
     "outputs": [
      {
       "output_type": "stream",
       "stream": "stdout",
       "text": [
        "Using matplotlib backend: Qt4Agg\n"
       ]
      },
      {
       "metadata": {},
       "output_type": "pyout",
       "prompt_number": 42,
       "text": [
        "<matplotlib.axes._subplots.AxesSubplot at 0x7f6459753e10>"
       ]
      }
     ],
     "prompt_number": 42
    },
    {
     "cell_type": "code",
     "collapsed": false,
     "input": [
      "# %matplotlib\n",
      "# results = np.load(\"experiement_12-1-mae_window.npz\")\n",
      "# ax = pd.Series(results['mae_gn_window_size']).plot(kind=\"line\",color='red',title=\"Periodic Input vs MAE\",grid=False)\n",
      "# ax.set_xlabel(\"Periodic Size\")\n",
      "# ax.set_ylabel(\"Mean Absolute Error (MAE)\")"
     ],
     "language": "python",
     "metadata": {},
     "outputs": [
      {
       "output_type": "stream",
       "stream": "stdout",
       "text": [
        "Using matplotlib backend: Qt4Agg\n"
       ]
      },
      {
       "metadata": {},
       "output_type": "pyout",
       "prompt_number": 33,
       "text": [
        "<matplotlib.text.Text at 0x7f645b069510>"
       ]
      }
     ],
     "prompt_number": 33
    },
    {
     "cell_type": "code",
     "collapsed": false,
     "input": [
      "# %matplotlib\n",
      "# results = np.load(\"experiement_12-1.npz\")\n",
      "# ax = pl.subplot()\n",
      "# ax.set_color_cycle(['blue','red'])\n",
      "# ax.plot(results[\"nn_pred\"],'--',label=\"Predict\")\n",
      "# ax.plot(results[\"y_actual\"],label=\"Actual\")\n",
      "# ax.set_title(\"Genetic Neural Network based Prediction (Sliding Window Size = 4)\")\n",
      "# ax.set_ylabel(\"Connections\")\n",
      "# ax.set_xlabel(\"Time (minutes)\")\n",
      "# ax.legend()\n",
      "# pl.show()"
     ],
     "language": "python",
     "metadata": {},
     "outputs": [
      {
       "output_type": "stream",
       "stream": "stdout",
       "text": [
        "Using matplotlib backend: Qt4Agg\n"
       ]
      }
     ],
     "prompt_number": 49
    },
    {
     "cell_type": "code",
     "collapsed": false,
     "input": [
      "%matplotlib\n",
      "results = np.load(\"experiement_12-1.npz\")\n",
      "ax = pl.subplot()\n",
      "ax.set_color_cycle(['blue','red'])\n",
      "ax.plot(results[\"gn_pred\"],'--',label=\"Predict\")\n",
      "ax.plot(results[\"y_actual\"],label=\"Actual\")\n",
      "ax.set_title(\"Genetic Neural Network with Periodic based Prediction (Sliding Window Size = 4)\")\n",
      "ax.set_ylabel(\"Connections\")\n",
      "ax.set_xlabel(\"Time (minutes)\")\n",
      "ax.legend()\n",
      "pl.show()"
     ],
     "language": "python",
     "metadata": {},
     "outputs": [
      {
       "output_type": "stream",
       "stream": "stdout",
       "text": [
        "Using matplotlib backend: Qt4Agg\n"
       ]
      }
     ],
     "prompt_number": 50
    },
    {
     "cell_type": "code",
     "collapsed": false,
     "input": [
      "mean_absolute_error(zip(results[\"gn_pred\"],results[\"nn_pred\"]))"
     ],
     "language": "python",
     "metadata": {},
     "outputs": [
      {
       "ename": "TypeError",
       "evalue": "mean_absolute_error() takes at least 2 arguments (1 given)",
       "output_type": "pyerr",
       "traceback": [
        "\u001b[0;31m---------------------------------------------------------------------------\u001b[0m\n\u001b[0;31mTypeError\u001b[0m                                 Traceback (most recent call last)",
        "\u001b[0;32m<ipython-input-56-27206bce7bdf>\u001b[0m in \u001b[0;36m<module>\u001b[0;34m()\u001b[0m\n\u001b[0;32m----> 1\u001b[0;31m \u001b[0mmean_absolute_error\u001b[0m\u001b[0;34m(\u001b[0m\u001b[0mzip\u001b[0m\u001b[0;34m(\u001b[0m\u001b[0mresults\u001b[0m\u001b[0;34m[\u001b[0m\u001b[0;34m\"gn_pred\"\u001b[0m\u001b[0;34m]\u001b[0m\u001b[0;34m,\u001b[0m\u001b[0mresults\u001b[0m\u001b[0;34m[\u001b[0m\u001b[0;34m\"nn_pred\"\u001b[0m\u001b[0;34m]\u001b[0m\u001b[0;34m)\u001b[0m\u001b[0;34m)\u001b[0m\u001b[0;34m\u001b[0m\u001b[0m\n\u001b[0m",
        "\u001b[0;31mTypeError\u001b[0m: mean_absolute_error() takes at least 2 arguments (1 given)"
       ]
      }
     ],
     "prompt_number": 56
    }
   ],
   "metadata": {}
  }
 ]
}