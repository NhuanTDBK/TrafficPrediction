{
 "cells": [
  {
   "cell_type": "code",
   "execution_count": 12,
   "metadata": {
    "collapsed": false
   },
   "outputs": [
    {
     "name": "stdout",
     "output_type": "stream",
     "text": [
      "Reading file......\n",
      "Generate X_traing, y_traing\n",
      "X_training loading...\n",
      "y_training loading...\n",
      "X_test...\n",
      "y_test...\n",
      "Generate X_test and y_test\n",
      "X_test...\n",
      "Multi Layer Perceptron...\n",
      "Neural network initialize\n",
      "Training time!!!!!.....\n",
      "Score rate = \n"
     ]
    }
   ],
   "source": [
    "\n",
    "\n",
    "import numpy as np\n",
    "import pandas as pd\n",
    "import matplotlib.pyplot as pl\n",
    "import pickle\n",
    "import sklearn\n",
    "from sklearn.metrics import mean_squared_error\n",
    "import theano\n",
    "import lasagne as ls\n",
    "from theano import tensor as T\n",
    "from lasagne.layers import InputLayer, DenseLayer\n",
    "from lasagne.updates import nesterov_momentum,sgd\n",
    "from lasagne.nonlinearities import rectify\n",
    "from nolearn.lasagne import NeuralNet\n",
    "from __init__ import *\n",
    "#Init data training\n",
    "print \"Reading file......\"\n",
    "X_training, y_training,n_sample2,n_test2 = get_training(18)\n",
    "if(X_training.shape[0]!=y_training.shape[0]):\n",
    "    print \"X_training shape must match y_training shape\"\n",
    "print \"Generate X_test and y_test\"\n",
    "n_input = 18\n",
    "print \"X_test...\"\n",
    "\n",
    "print \"Multi Layer Perceptron...\"\n",
    "#Build layer for MLP\n",
    "l_in = ls.layers.InputLayer(shape=(None,n_input),input_var=None)\n",
    "l_hidden = ls.layers.DenseLayer(l_in,num_units=15,nonlinearity=ls.nonlinearities.rectify)\n",
    "network = l_out = ls.layers.DenseLayer(l_hidden,num_units=1)\n",
    "print \"Neural network initialize\"\n",
    "#Init Neural net\n",
    "net1 = NeuralNet(\n",
    "    layers=network,\n",
    "    # optimization method:\n",
    "    update=nesterov_momentum,\n",
    "    update_learning_rate=0.00001,\n",
    "    update_momentum=0.9,\n",
    "    regression=True,  # flag to indicate we're dealing with regression problem\n",
    "    max_epochs=700  # we want to train this many epochs\n",
    ")\n",
    "#\n",
    "print \"Training time!!!!!.....\"\n",
    "net1.fit(X_training,y_training)\n",
    "net1.save_params_to(\"saveNeuralNetwork.tdn\")\n",
    "print \"Score rate = \"\n",
    "nn_pred = net1.predict(X_training)"
   ]
  },
  {
   "cell_type": "code",
   "execution_count": 13,
   "metadata": {
    "collapsed": true
   },
   "outputs": [],
   "source": [
    "ax = pl.subplot()\n",
    "ax.set_color_cycle(['blue','red'])\n",
    "# ax.plot(y_training,label=\"actual\")\n",
    "ax.plot(nn_pred,label=\"NN Pred\")\n",
    "# ax.plot(n_test2,label=\"Actual\")\n",
    "\n",
    "ax.legend()\n",
    "pl.show()"
   ]
  },
  {
   "cell_type": "code",
   "execution_count": 5,
   "metadata": {
    "collapsed": false
   },
   "outputs": [
    {
     "data": {
      "text/plain": [
       "array([[ 0.00466573,  0.00534927,  0.00579467, ...,  0.0046084 ,\n",
       "         0.00681778,  0.00414976],\n",
       "       [ 0.00678691,  0.00466573,  0.00534927, ...,  0.00261951,\n",
       "         0.0046084 ,  0.00681778],\n",
       "       [ 0.0106809 ,  0.00678691,  0.00466573, ...,  0.0023505 ,\n",
       "         0.00261951,  0.0046084 ],\n",
       "       ..., \n",
       "       [ 0.04504763,  0.04610602,  0.04528576, ...,  0.03845475,\n",
       "         0.0323117 ,  0.02970101],\n",
       "       [ 0.05487299,  0.04504763,  0.04610602, ...,  0.04347328,\n",
       "         0.03845475,  0.0323117 ],\n",
       "       [ 0.05354119,  0.05487299,  0.04504763, ...,  0.02782237,\n",
       "         0.04347328,  0.03845475]])"
      ]
     },
     "execution_count": 5,
     "metadata": {},
     "output_type": "execute_result"
    }
   ],
   "source": [
    "X_training"
   ]
  },
  {
   "cell_type": "code",
   "execution_count": null,
   "metadata": {
    "collapsed": true
   },
   "outputs": [],
   "source": []
  }
 ],
 "metadata": {
  "kernelspec": {
   "display_name": "Python 2",
   "language": "python",
   "name": "python2"
  },
  "language_info": {
   "codemirror_mode": {
    "name": "ipython",
    "version": 2
   },
   "file_extension": ".py",
   "mimetype": "text/x-python",
   "name": "python",
   "nbconvert_exporter": "python",
   "pygments_lexer": "ipython2",
   "version": "2.7.6"
  }
 },
 "nbformat": 4,
 "nbformat_minor": 0
}
