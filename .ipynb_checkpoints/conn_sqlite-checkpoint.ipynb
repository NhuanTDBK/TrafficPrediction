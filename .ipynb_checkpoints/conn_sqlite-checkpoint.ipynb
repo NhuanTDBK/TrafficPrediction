{
 "cells": [
  {
   "cell_type": "code",
   "execution_count": 36,
   "metadata": {
    "collapsed": true
   },
   "outputs": [],
   "source": [
    "import numpy as np\n",
    "import pandas as pd\n",
    "import sqlite3\n",
    "from os import listdir"
   ]
  },
  {
   "cell_type": "code",
   "execution_count": 31,
   "metadata": {
    "collapsed": false
   },
   "outputs": [],
   "source": [
    "class TrafficExtract():\n",
    "    def __init__(self):\n",
    "        self.conn = sqlite3.connect('trafficdb')\n",
    "        self.c = conn.cursor()\n",
    "        self.table_name = \"timetraffic\"\n",
    "        self.table_workload = \"workload\"\n",
    "        self.c.execute(\"DELETE FROM %s\"%table_workload)\n",
    "    def record_traffic(self,raw_data_name):\n",
    "        raw_data = pd.read_csv(raw_data_name)\n",
    "        length = raw_data.shape[0]\n",
    "        # In[ ]:\n",
    "        # dataCount = np.array(np.zeros(length))\n",
    "        print \"Flush out all data...\"\n",
    "        self.c.execute(\"DELETE FROM %s\"%table_name)\n",
    "        for i in np.arange(0,length):\n",
    "            index = raw_data.irow(i)[\"Timestamp\"]\n",
    "            self.c.execute('INSERT INTO %s VALUES (%d,%d)'%(table_name,index,1))\n",
    "        dt = self.c.execute('select timestamp,count(timestamp) from %s group by timestamp'%table_name).fetchall()\n",
    "        for item in dt:\n",
    "            self.c.execute('INSERT INTO %s VALUES (%d,%d)'%(table_workload,item[0],item[1]))\n",
    "    def readFolder(self,folder_name):\n",
    "        files = listdir(folder_name)\n",
    "        for filename in files:\n",
    "            print \"Reading %s\"%filename\n",
    "            self.record_traffic(\"%s/%s\"%(folder_name,filename))\n",
    "        self.conn.commit()\n",
    "    def finalize(self):\n",
    "        self.conn.close()"
   ]
  },
  {
   "cell_type": "code",
   "execution_count": 32,
   "metadata": {
    "collapsed": false
   },
   "outputs": [
    {
     "name": "stdout",
     "output_type": "stream",
     "text": [
      "Flush out all data...\n"
     ]
    }
   ],
   "source": [
    "# raw_data_name = sys.argv[1]\n",
    "# def record_traffic(raw_data_name):\n",
    "#     raw_data = pd.read_csv(raw_data_name)\n",
    "#     length = raw_data.shape[0]\n",
    "#     # In[ ]:\n",
    "#     # dataCount = np.array(np.zeros(length))\n",
    "#     print \"Flush out all data...\"\n",
    "#     self.c.execute(\"DELETE FROM %s\"%table_name)\n",
    "#     for i in np.arange(0,length):\n",
    "#         index = raw_data.irow(i)[\"Timestamp\"]\n",
    "#         self.c.execute('INSERT INTO %s VALUES (%d,%d)'%(table_name,index,1))\n",
    "#     dt = self.c.execute('select timestamp,count(timestamp) from %s group by timestamp'%table_name).fetchall()\n",
    "#     for item in dt:\n",
    "#         self.c.execute('INSERT INTO %s VALUES (%d,%d)'%(table_workload,item[0],item[1]))"
   ]
  },
  {
   "cell_type": "code",
   "execution_count": 35,
   "metadata": {
    "collapsed": false
   },
   "outputs": [],
   "source": [
    "\n",
    "#     c.execute('INSERT INTO %s VALUES (%d,%d)'%(table_workload,i,tmp_sum))\n",
    "# start_idx = 0;\n",
    "# jump_list = 600;\n",
    "# size = len(list)/jump_list\n",
    "# dataCount = np.zeros(size)\n",
    "# for i in np.arange(size):\n",
    "#     tmp_sum = sum([pair[0] for pair in list[start_idx:start_idx+jump_list]])\n",
    "#     start_idx += jump_list\n",
    "#     c.execute('INSERT INTO %s VALUES (%d,%d)'%(table_workload,i,tmp_sum))"
   ]
  },
  {
   "cell_type": "code",
   "execution_count": null,
   "metadata": {
    "collapsed": true
   },
   "outputs": [],
   "source": [
    "# files = listdir(sys.argv[1])\n",
    "# for filename in files:\n",
    "#     print \"Reading %s\"%filename\n",
    "#     record_traffic(filename)"
   ]
  },
  {
   "cell_type": "code",
   "execution_count": 6,
   "metadata": {
    "collapsed": true
   },
   "outputs": [],
   "source": []
  },
  {
   "cell_type": "code",
   "execution_count": 16,
   "metadata": {
    "collapsed": true
   },
   "outputs": [],
   "source": []
  },
  {
   "cell_type": "code",
   "execution_count": null,
   "metadata": {
    "collapsed": true
   },
   "outputs": [],
   "source": []
  }
 ],
 "metadata": {
  "kernelspec": {
   "display_name": "Python 2",
   "language": "python",
   "name": "python2"
  },
  "language_info": {
   "codemirror_mode": {
    "name": "ipython",
    "version": 2
   },
   "file_extension": ".py",
   "mimetype": "text/x-python",
   "name": "python",
   "nbconvert_exporter": "python",
   "pygments_lexer": "ipython2",
   "version": "2.7.6"
  }
 },
 "nbformat": 4,
 "nbformat_minor": 0
}
