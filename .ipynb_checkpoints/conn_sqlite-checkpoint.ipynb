{
 "cells": [
  {
   "cell_type": "code",
   "execution_count": 15,
   "metadata": {
    "collapsed": false
   },
   "outputs": [],
   "source": [
    "import numpy as np\n",
    "import pandas as pd\n",
    "import sqlite3\n",
    "import sys\n",
    "import timeit\n",
    "from os import listdir\n",
    "\n",
    "class TrafficExtract():\n",
    "    def __init__(self):\n",
    "        self.conn = sqlite3.connect('trafficdb')\n",
    "        self.c = self.conn.cursor()\n",
    "        self.table_name = \"timetraffic\"\n",
    "        self.table_workload = \"workload\"\n",
    "        self.c.execute(\"DELETE FROM %s\"%self.table_workload)\n",
    "    def record_traffic(self,raw_data_name):\n",
    "        print \"Processing %s\"%raw_data_name\n",
    "        raw_data = pd.read_csv(raw_data_name,low_memory=False)\n",
    "        length = raw_data.shape[0]\n",
    "        bulk_insert_size = 50000\n",
    "        # In[ ]:\n",
    "        # dataCount = np.array(np.zeros(length))\n",
    "        print \"Flush out all data...\"\n",
    "        self.c.execute(\"DELETE FROM %s\"%self.table_name)\n",
    "        try:\n",
    "            tmp_data = raw_data\n",
    "            mapFunction = lambda x: (int(x),1)\n",
    "            list_count =[(item[0][0],item[0][1]) for item in tmp_data.applymap(mapFunction).values.tolist()]\n",
    "            self.conn.executemany(\"INSERT INTO %s(timestamp,count) VALUES (?,?)\"%self.table_name,list_count)\n",
    "        except Exception as ex:\n",
    "            for i in np.arange(0,length):\n",
    "                try:\n",
    "                    index = raw_data.irow(i)[\"Timestamp\"]\n",
    "                    self.c.execute('INSERT INTO %s VALUES (%d,%d)'%(self.table_name,int(index),1))\n",
    "                except Exception as e:\n",
    "                    print index\n",
    "                    pass\n",
    "        dt = self.c.execute('select timestamp,count(timestamp) from %s group by timestamp'%self.table_name).fetchall()\n",
    "        for item in dt:\n",
    "            self.c.execute('INSERT INTO %s VALUES (%d,%d)'%(self.table_workload,int(item[0]),int(item[1])))\n",
    "        self.finalize()\n",
    "    def readFolder(self,folder_name):\n",
    "        files = listdir(folder_name)\n",
    "        total = len(files)\n",
    "        for (index, filename) in enumerate(files):\n",
    "            print \"Reading %s\"%filename\n",
    "            print \"Processing %d/%d\"%(index,total)\n",
    "            self.record_traffic(\"%s/%s\"%(folder_name,filename))\n",
    "    def finalize(self):\n",
    "        self.conn.commit()\n",
    "        self.conn.close()"
   ]
  },
  {
   "cell_type": "code",
   "execution_count": 1,
   "metadata": {
    "collapsed": false
   },
   "outputs": [],
   "source": [
    "worker = TrafficExtract()\n",
    "worker.readFolder(sys.argv[0])\n",
    "# # start = timeit.default_timer()\n",
    "# # worker.record_traffic(\"data_part_9310\")\n",
    "# # stop = timeit.default_timer()\n",
    "# # print stop - start \n",
    "\n",
    "# # raw_data = pd.read_csv(\"data_part_9310\")\n",
    "# # bulk_size = 50000\n",
    "# # start_idx = 0\n",
    "\n",
    "# # tmp_data = raw_data\n",
    "# # mapFunction = lambda x: (int(x),1)\n",
    "# # list_count =[(item[0][0],item[0][1]) for item in tmp_data.applymap(mapFunction).values.tolist()]\n",
    "# # worker.conn.executemany(\"INSERT INTO %s(timestamp,count) VALUES (?,?)\"%worker.table_name,list_count)\n",
    "\n",
    "# # worker.conn.execute(\"DELETE FROM %s\"%worker.table_workload)"
   ]
  },
  {
   "cell_type": "code",
   "execution_count": null,
   "metadata": {
    "collapsed": true
   },
   "outputs": [],
   "source": []
  }
 ],
 "metadata": {
  "kernelspec": {
   "display_name": "Python 2",
   "language": "python",
   "name": "python2"
  },
  "language_info": {
   "codemirror_mode": {
    "name": "ipython",
    "version": 2
   },
   "file_extension": ".py",
   "mimetype": "text/x-python",
   "name": "python",
   "nbconvert_exporter": "python",
   "pygments_lexer": "ipython2",
   "version": "2.7.6"
  }
 },
 "nbformat": 4,
 "nbformat_minor": 0
}
