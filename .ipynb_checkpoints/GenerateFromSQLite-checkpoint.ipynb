{
 "cells": [
  {
   "cell_type": "code",
   "execution_count": 1,
   "metadata": {
    "collapsed": true
   },
   "outputs": [],
   "source": [
    "import pandas as pd\n",
    "import numpy as np\n",
    "import matplotlib.pyplot as pl\n",
    "from pandas import HDFStore\n",
    "import sqlite3\n",
    "import datetime\n",
    "from datetime import datetime"
   ]
  },
  {
   "cell_type": "code",
   "execution_count": 2,
   "metadata": {
    "collapsed": true
   },
   "outputs": [],
   "source": [
    "conn = sqlite3.connect('trafficdb')\n",
    "raw_data = pd.read_sql(\"SELECT * FROM workload\",conn)\n",
    "raw_data_conn = pd.read_sql(\"SELECT count FROM workload\",conn)"
   ]
  },
  {
   "cell_type": "code",
   "execution_count": 3,
   "metadata": {
    "collapsed": false
   },
   "outputs": [
    {
     "name": "stdout",
     "output_type": "stream",
     "text": [
      "Count list\n"
     ]
    }
   ],
   "source": [
    "# data = pd.read_sql(\"SELECT count FROM workload where time < 895096802\",conn)[\"count\"]\n",
    "range_list = len(raw_data_conn)\n",
    "jump_list = 600\n",
    "init_list = 0;\n",
    "length = range_list/jump_list\n",
    "# In[ ]:\n",
    "\n",
    "dataCount = pd.Series(np.zeros(length))\n",
    "print \"Count list\"\n",
    "for i in np.arange(0,length):\n",
    "    tmp = raw_data_conn[init_list:init_list+jump_list]\n",
    "    dataCount[i] = tmp.sum()\n",
    "    init_list+=jump_list"
   ]
  },
  {
   "cell_type": "code",
   "execution_count": 6,
   "metadata": {
    "collapsed": false
   },
   "outputs": [
    {
     "data": {
      "text/plain": [
       "(1995, 1995)"
      ]
     },
     "execution_count": 6,
     "metadata": {},
     "output_type": "execute_result"
    }
   ],
   "source": [
    "dataCount.shape[0], raw_data_conn.shape[0]/600"
   ]
  },
  {
   "cell_type": "code",
   "execution_count": 4,
   "metadata": {
    "collapsed": false
   },
   "outputs": [],
   "source": [
    "ax = pl.subplot()\n",
    "ax.set_color_cycle(['blue','red','green'])\n",
    "# ax.plot(gn_pred,label=\"Genetic Neural Network\")\n",
    "t = np.arange(0,dataCount.shape[0],142)\n",
    "ax.plot(dataCount,label=\"Actual\")\n",
    "for i in np.arange(0,dataCount.shape[0],142):\n",
    "    ax.axvline(i,color='r')\n",
    "ax.legend()\n",
    "pl.show()"
   ]
  },
  {
   "cell_type": "code",
   "execution_count": 6,
   "metadata": {
    "collapsed": true
   },
   "outputs": [],
   "source": [
    "ex=dataCount[142*7:142*9]\n",
    "ax = pl.subplot()\n",
    "ax.set_color_cycle(['blue','red','green'])\n",
    "# ax.plot(gn_pred,label=\"Genetic Neural Network\")\n",
    "t = np.arange(0,ex.shape[0],142)\n",
    "ax.plot(ex,label=\"Actual\")\n",
    "for i in np.arange(0,ex.shape[0],142):\n",
    "    ax.axvline(i,color='r')\n",
    "ax.legend()\n",
    "pl.show()"
   ]
  },
  {
   "cell_type": "code",
   "execution_count": 4,
   "metadata": {
    "collapsed": false
   },
   "outputs": [],
   "source": [
    "from pandas import HDFStore\n",
    "def normalize(dataCount):\n",
    "    dataNorm = pd.Series(np.zeros(dataCount.shape[0]),dtype=np.float64)\n",
    "    dataNorm = (dataCount - dataCount.min())/(dataCount.max()-dataCount.min())\n",
    "    return dataNorm\n",
    "# store = HDFStore(\"storeTraffic.h5\")\n",
    "# # In[62]:\n",
    "dataTraining = dataCount[142*3:142*5]\n",
    "# print \"Loading storage\"\n",
    "store[\"connTrain\"]=normalize(pd.Series(dataTraining))\n",
    "store[\"connTest\"] = normalize(pd.Series(dataTraining))\n",
    "store[\"raw_conn_train\"]=pd.Series(dataTraining)\n",
    "store[\"raw_conn_test\"] = pd.Series(dataTraining)\n",
    "\n",
    "store.close()"
   ]
  },
  {
   "cell_type": "code",
   "execution_count": 8,
   "metadata": {
    "collapsed": false
   },
   "outputs": [
    {
     "data": {
      "text/plain": [
       "<class 'pandas.io.pytables.HDFStore'>\n",
       "File path: storeTraffic.h5\n",
       "/connTest                  series       (shape->[284]) \n",
       "/connTrain                 series       (shape->[284]) \n",
       "/raw_conn_test             series       (shape->[284]) \n",
       "/raw_conn_train            series       (shape->[284]) \n",
       "/raw_data                  series       (shape->[1995])\n",
       "/raw_data_conn             series       (shape->[1995])"
      ]
     },
     "execution_count": 8,
     "metadata": {},
     "output_type": "execute_result"
    }
   ],
   "source": [
    "store = HDFStore(\"storeTraffic.h5\")\n",
    "store[\"raw_data_conn\"]=normalize(pd.Series(dataCount))\n",
    "store\n",
    "# from datetime import datetime\n",
    "\n",
    "# print datetime.fromtimestamp(raw_data.irow(0)[\"time\"]+86400*2)\n",
    "\n",
    "#2012-08-29 11:38:22"
   ]
  },
  {
   "cell_type": "code",
   "execution_count": 12,
   "metadata": {
    "collapsed": false
   },
   "outputs": [
    {
     "data": {
      "text/plain": [
       "<class 'pandas.io.pytables.HDFStore'>\n",
       "File path: storeTraffic.h5\n",
       "File is CLOSED"
      ]
     },
     "execution_count": 12,
     "metadata": {},
     "output_type": "execute_result"
    }
   ],
   "source": [
    "store = HDFStore(\"storeTraffic.h5\")\n",
    "store "
   ]
  },
  {
   "cell_type": "code",
   "execution_count": 1,
   "metadata": {
    "collapsed": false
   },
   "outputs": [
    {
     "name": "stdout",
     "output_type": "stream",
     "text": [
      "Generate X_traing, y_traing\n",
      "X_training loading...\n",
      "y_training loading...\n",
      "X_test...\n",
      "y_test...\n"
     ]
    }
   ],
   "source": [
    "from __init__ import *\n",
    "x,y,z,t = get_training(7,1)"
   ]
  },
  {
   "cell_type": "code",
   "execution_count": 10,
   "metadata": {
    "collapsed": false
   },
   "outputs": [
    {
     "data": {
      "text/plain": [
       "0     0.026242\n",
       "1     0.030656\n",
       "2     0.027001\n",
       "3     0.023711\n",
       "4     0.023265\n",
       "5     0.023411\n",
       "6     0.023535\n",
       "7     0.020683\n",
       "8     0.023287\n",
       "9     0.023681\n",
       "10    0.029751\n",
       "11    0.029022\n",
       "12    0.038841\n",
       "13    0.026103\n",
       "14    0.034355\n",
       "...\n",
       "1980    0.119851\n",
       "1981    0.127366\n",
       "1982    0.121682\n",
       "1983    0.127657\n",
       "1984    0.115561\n",
       "1985    0.119778\n",
       "1986    0.115970\n",
       "1987    0.133975\n",
       "1988    0.122777\n",
       "1989    0.119961\n",
       "1990    0.114664\n",
       "1991    0.112140\n",
       "1992    0.099686\n",
       "1993    0.111257\n",
       "1994    0.089567\n",
       "Length: 1995, dtype: float64"
      ]
     },
     "execution_count": 10,
     "metadata": {},
     "output_type": "execute_result"
    }
   ],
   "source": [
    "store[\"raw_data_conn\"]"
   ]
  },
  {
   "cell_type": "code",
   "execution_count": null,
   "metadata": {
    "collapsed": true
   },
   "outputs": [],
   "source": [
    "t = []\n",
    "t.append(1)"
   ]
  }
 ],
 "metadata": {
  "kernelspec": {
   "display_name": "Python 2",
   "language": "python",
   "name": "python2"
  },
  "language_info": {
   "codemirror_mode": {
    "name": "ipython",
    "version": 2
   },
   "file_extension": ".py",
   "mimetype": "text/x-python",
   "name": "python",
   "nbconvert_exporter": "python",
   "pygments_lexer": "ipython2",
   "version": "2.7.6"
  }
 },
 "nbformat": 4,
 "nbformat_minor": 0
}
