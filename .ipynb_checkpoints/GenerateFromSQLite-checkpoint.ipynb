{
 "cells": [
  {
   "cell_type": "code",
   "execution_count": 36,
   "metadata": {
    "collapsed": true
   },
   "outputs": [],
   "source": [
    "import pandas as pd\n",
    "import numpy as np\n",
    "import matplotlib.pyplot as pl\n",
    "from pandas import HDFStore\n",
    "import sqlite3\n",
    "import datetime\n",
    "from datetime import datetime"
   ]
  },
  {
   "cell_type": "code",
   "execution_count": 37,
   "metadata": {
    "collapsed": true
   },
   "outputs": [],
   "source": [
    "conn = sqlite3.connect('trafficdb')\n",
    "raw_data = pd.read_sql(\"SELECT * FROM workload\",conn)\n",
    "raw_data_conn = pd.read_sql(\"SELECT count FROM workload\",conn)"
   ]
  },
  {
   "cell_type": "code",
   "execution_count": 49,
   "metadata": {
    "collapsed": false
   },
   "outputs": [
    {
     "name": "stdout",
     "output_type": "stream",
     "text": [
      "Count list\n"
     ]
    }
   ],
   "source": [
    "# data = pd.read_sql(\"SELECT count FROM workload where time < 895096802\",conn)[\"count\"]\n",
    "range_list = len(raw_data_conn)\n",
    "jump_list = 600\n",
    "init_list = 0;\n",
    "length = range_list/jump_list+1\n",
    "# In[ ]:\n",
    "\n",
    "dataCount = pd.Series(np.zeros(length))\n",
    "print \"Count list\"\n",
    "for i in np.arange(0,length):\n",
    "    tmp = raw_data_conn[init_list:init_list+jump_list]\n",
    "    dataCount[i] = tmp.sum()\n",
    "    init_list+=jump_list"
   ]
  },
  {
   "cell_type": "code",
   "execution_count": 50,
   "metadata": {
    "collapsed": false
   },
   "outputs": [
    {
     "data": {
      "text/plain": [
       "0     5460\n",
       "1     6065\n",
       "2     5564\n",
       "3     5113\n",
       "4     5052\n",
       "5     5072\n",
       "6     5089\n",
       "7     4698\n",
       "8     5055\n",
       "9     5109\n",
       "10    5941\n",
       "11    5841\n",
       "12    7187\n",
       "13    5441\n",
       "14    6572\n",
       "...\n",
       "1981    19321\n",
       "1982    18542\n",
       "1983    19361\n",
       "1984    17703\n",
       "1985    18281\n",
       "1986    17759\n",
       "1987    20227\n",
       "1988    18692\n",
       "1989    18306\n",
       "1990    17580\n",
       "1991    17234\n",
       "1992    15527\n",
       "1993    17113\n",
       "1994    14140\n",
       "1995     2003\n",
       "Length: 1996, dtype: float64"
      ]
     },
     "execution_count": 50,
     "metadata": {},
     "output_type": "execute_result"
    }
   ],
   "source": [
    "dataCount"
   ]
  },
  {
   "cell_type": "code",
   "execution_count": 53,
   "metadata": {
    "collapsed": false
   },
   "outputs": [],
   "source": [
    "ax = pl.subplot()\n",
    "ax.set_color_cycle(['blue','red','green'])\n",
    "# ax.plot(gn_pred,label=\"Genetic Neural Network\")\n",
    "t = np.arange(0,dataCount.shape[0],142)\n",
    "ax.plot(dataCount,label=\"Actual\")\n",
    "for i in np.arange(0,dataCount.shape[0],142):\n",
    "    ax.axvline(i,color='r')\n",
    "ax.legend()\n",
    "pl.show()"
   ]
  },
  {
   "cell_type": "code",
   "execution_count": 59,
   "metadata": {
    "collapsed": true
   },
   "outputs": [],
   "source": [
    "ex=dataCount[142*3:142*5]\n",
    "ax = pl.subplot()\n",
    "ax.set_color_cycle(['blue','red','green'])\n",
    "# ax.plot(gn_pred,label=\"Genetic Neural Network\")\n",
    "t = np.arange(0,ex.shape[0],142)\n",
    "ax.plot(ex,label=\"Actual\")\n",
    "for i in np.arange(0,ex.shape[0],142):\n",
    "    ax.axvline(i,color='r')\n",
    "ax.legend()\n",
    "pl.show()"
   ]
  },
  {
   "cell_type": "code",
   "execution_count": 8,
   "metadata": {
    "collapsed": false
   },
   "outputs": [
    {
     "name": "stdout",
     "output_type": "stream",
     "text": [
      "Loading storage\n"
     ]
    }
   ],
   "source": [
    "from pandas import HDFStore\n",
    "def normalize(dataCount):\n",
    "    dataNorm = pd.Series(np.zeros(dataCount.shape[0]),dtype=np.float64)\n",
    "    dataNorm = (dataCount - dataCount.min())/(dataCount.max()-dataCount.min())\n",
    "    return dataNorm\n",
    "store = HDFStore(\"storeTraffic.h5\")\n",
    "# In[62]:\n",
    "dataTraining = dataCount[142*3:142*5]\n",
    "print \"Loading storage\"\n",
    "store[\"connTrain\"]=normalize(pd.Series(dataTraining))\n",
    "store[\"connTest\"] = normalize(pd.Series(dataTraining))\n",
    "store[\"raw_conn_train\"]=pd.Series(dataTraining)\n",
    "store[\"raw_conn_test\"] = pd.Series(dataTraining)\n",
    "# store[\"raw_data\"]=pd.Series(dataTotalCount)\n",
    "store.close()"
   ]
  },
  {
   "cell_type": "code",
   "execution_count": 12,
   "metadata": {
    "collapsed": false
   },
   "outputs": [
    {
     "data": {
      "text/plain": [
       "<class 'pandas.io.pytables.HDFStore'>\n",
       "File path: storeTraffic.h5\n",
       "/connTest                  series       (shape->[431]) \n",
       "/connTrain                 series       (shape->[431]) \n",
       "/raw_conn_test             series       (shape->[431]) \n",
       "/raw_conn_train            series       (shape->[431]) \n",
       "/raw_data                  series       (shape->[1995])"
      ]
     },
     "execution_count": 12,
     "metadata": {},
     "output_type": "execute_result"
    }
   ],
   "source": [
    "store = HDFStore(\"storeTraffic.h5\")\n",
    "store\n",
    "# from datetime import datetime\n",
    "\n",
    "# print datetime.fromtimestamp(raw_data.irow(0)[\"time\"]+86400*2)\n",
    "\n",
    "#2012-08-29 11:38:22\n"
   ]
  }
 ],
 "metadata": {
  "kernelspec": {
   "display_name": "Python 2",
   "language": "python",
   "name": "python2"
  },
  "language_info": {
   "codemirror_mode": {
    "name": "ipython",
    "version": 2
   },
   "file_extension": ".py",
   "mimetype": "text/x-python",
   "name": "python",
   "nbconvert_exporter": "python",
   "pygments_lexer": "ipython2",
   "version": "2.7.6"
  }
 },
 "nbformat": 4,
 "nbformat_minor": 0
}
