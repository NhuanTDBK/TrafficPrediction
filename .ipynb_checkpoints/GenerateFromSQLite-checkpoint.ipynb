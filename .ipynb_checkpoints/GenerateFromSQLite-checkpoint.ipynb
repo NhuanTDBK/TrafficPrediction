{
 "cells": [
  {
   "cell_type": "code",
   "execution_count": 1,
   "metadata": {
    "collapsed": true
   },
   "outputs": [],
   "source": [
    "import pandas as pd\n",
    "import numpy as np\n",
    "import matplotlib.pyplot as pl\n",
    "from pandas import HDFStore\n",
    "import sqlite3\n",
    "import datetime\n",
    "from datetime import datetime"
   ]
  },
  {
   "cell_type": "code",
   "execution_count": 3,
   "metadata": {
    "collapsed": false
   },
   "outputs": [],
   "source": [
    "conn = sqlite3.connect('trafficdb')\n",
    "raw_data = pd.read_sql(\"SELECT * FROM workload\",conn)\n",
    "raw_data_conn = pd.Series.from_csv(\"10min_workload.csv\",header=None,index_col=None)"
   ]
  },
  {
   "cell_type": "code",
   "execution_count": 5,
   "metadata": {
    "collapsed": false
   },
   "outputs": [],
   "source": [
    "# # # data = pd.read_sql(\"SELECT count FROM workload where time < 895096802\",conn)[\"count\"]\n",
    "# range_list = len(raw_data)\n",
    "# jump_list = 600\n",
    "# init_list = 0;\n",
    "# length = range_list/jump_list\n",
    "# # In[ ]:\n",
    "\n",
    "# dataCount = pd.Series(np.zeros(length))\n",
    "# print \"Count list\"\n",
    "# for i in np.arange(0,length):\n",
    "#     tmp = raw_data[init_list:init_list+jump_list]\n",
    "#     dataCount[i] = tmp.sum()\n",
    "#     init_list+=jump_list"
   ]
  },
  {
   "cell_type": "code",
   "execution_count": 6,
   "metadata": {
    "collapsed": false
   },
   "outputs": [],
   "source": [
    "ax = pl.subplot()\n",
    "ax.set_color_cycle(['blue','red','green'])\n",
    "# ax.plot(gn_pred,label=\"Genetic Neural Network\")\n",
    "t = np.arange(0,raw_data_conn.shape[0],142)\n",
    "ax.plot(raw_data_conn,label=\"Actual\")\n",
    "for i in np.arange(0,raw_data_conn.shape[0],142):\n",
    "    ax.axvline(i,color='r')\n",
    "ax.legend()\n",
    "pl.show()"
   ]
  },
  {
   "cell_type": "code",
   "execution_count": null,
   "metadata": {
    "collapsed": true
   },
   "outputs": [],
   "source": [
    "# ex=raw_data_conn[142*40:142*46]\n",
    "# ax = pl.subplot()\n",
    "# ax.set_color_cycle(['blue','red','green'])\n",
    "# # ax.plot(gn_pred,label=\"Genetic Neural Network\")\n",
    "# t = np.arange(0,ex.shape[0],142)\n",
    "# ax.plot(ex,label=\"Actual\")\n",
    "# for i in np.arange(0,ex.shape[0],142):\n",
    "#     ax.axvline(i,color='r')\n",
    "# ax.legend()\n",
    "# pl.show()"
   ]
  },
  {
   "cell_type": "code",
   "execution_count": 3,
   "metadata": {
    "collapsed": false
   },
   "outputs": [],
   "source": [
    "from pandas import HDFStore\n",
    "def normalize(dataCount):\n",
    "    dataNorm = pd.Series(np.zeros(dataCount.shape[0]),dtype=np.float64)\n",
    "    dataNorm = (dataCount - dataCount.min())/(dataCount.max()-dataCount.min())\n",
    "    return dataNorm\n",
    "store = HDFStore(\"storeTraffic.h5\")\n",
    "# # In[62]:\n",
    "dataTraining = raw_data_conn[142*3:142*7]\n",
    "# dataTraining = raw_data_conn[142*40:142*46]\n",
    "# print \"Loading storage\"\n",
    "store[\"connTrain\"]=normalize(pd.Series(dataTraining))\n",
    "store[\"connTest\"] = normalize(pd.Series(dataTraining))\n",
    "store[\"raw_conn_train\"]=pd.Series(dataTraining)\n",
    "store[\"raw_conn_test\"] = pd.Series(dataTraining)\n",
    "# store[\"raw_data_conn\"]=normalize(raw_data_conn)\n",
    "store.close()"
   ]
  },
  {
   "cell_type": "code",
   "execution_count": null,
   "metadata": {
    "collapsed": false
   },
   "outputs": [],
   "source": [
    "from __init__ import *"
   ]
  },
  {
   "cell_type": "code",
   "execution_count": 4,
   "metadata": {
    "collapsed": false
   },
   "outputs": [
    {
     "data": {
      "text/plain": [
       "<class 'pandas.io.pytables.HDFStore'>\n",
       "File path: storeTraffic.h5\n",
       "/connTest                  series       (shape->[852]) \n",
       "/connTrain                 series       (shape->[852]) \n",
       "/raw_conn_test             series       (shape->[852]) \n",
       "/raw_conn_train            series       (shape->[852]) \n",
       "/raw_data                  series       (shape->[1995])\n",
       "/raw_data_conn             series       (shape->[8755])"
      ]
     },
     "execution_count": 4,
     "metadata": {},
     "output_type": "execute_result"
    }
   ],
   "source": [
    "store = HDFStore(\"storeTraffic.h5\")\n",
    "store"
   ]
  },
  {
   "cell_type": "code",
   "execution_count": null,
   "metadata": {
    "collapsed": false
   },
   "outputs": [],
   "source": [
    "X,y,x_t,y_t = get_training(17,1)"
   ]
  },
  {
   "cell_type": "code",
   "execution_count": 7,
   "metadata": {
    "collapsed": false
   },
   "outputs": [],
   "source": [
    "dataTraining = raw_data_conn[142*3:142*7]"
   ]
  }
 ],
 "metadata": {
  "kernelspec": {
   "display_name": "Python 2",
   "language": "python",
   "name": "python2"
  },
  "language_info": {
   "codemirror_mode": {
    "name": "ipython",
    "version": 2
   },
   "file_extension": ".py",
   "mimetype": "text/x-python",
   "name": "python",
   "nbconvert_exporter": "python",
   "pygments_lexer": "ipython2",
   "version": "2.7.6"
  }
 },
 "nbformat": 4,
 "nbformat_minor": 0
}
