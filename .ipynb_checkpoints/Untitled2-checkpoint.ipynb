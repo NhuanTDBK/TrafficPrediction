{
 "cells": [
  {
   "cell_type": "code",
   "execution_count": null,
   "metadata": {
    "collapsed": true
   },
   "outputs": [],
   "source": [
    "\n",
    "# coding: utf-8\n",
    "\n",
    "# In[46]:\n",
    "\n",
    "import pandas as pd\n",
    "import numpy as np\n",
    "import sys\n",
    "from pandas import HDFStore\n",
    "\n",
    "def normalize(dataCount):\n",
    "    dataNorm = pd.Series(np.zeros(dataCount.shape[0]),dtype=np.float64)\n",
    "    dataNorm = (dataCount - dataCount.min())/(dataCount.max()-dataCount.min())\n",
    "    return dataNorm\n",
    "\n",
    "# In[53]:\n",
    "\n",
    "raw_data_name = sys.argv[1]\n",
    "#\"ita_public_tools/output/data.csv\"\n",
    "raw_data = pd.read_csv(raw_data_name)\n",
    "store = HDFStore(\"storeTraffic.h5\")\n",
    "# In[62]:\n",
    "print \"Loading storage\"\n",
    "data = raw_data.groupby('Timestamp').count()[\"Timestamp\"]\n",
    "print \"generate data\"\n",
    "# Config variable\n",
    "range_list = data.shape[0]\n",
    "jump_list = 600\n",
    "init_list = 0;\n",
    "length = data.shape[0]/jump_list\n",
    "# In[ ]:\n",
    "\n",
    "dataCount = np.array(np.zeros(length))\n",
    "print \"Count list\"\n",
    "for i in np.arange(0,length):\n",
    "    tmp = data[init_list:init_list+jump_list]\n",
    "    dataCount[i] = tmp.sum()\n",
    "    init_list+=jump_list\n",
    "print \"Saving...\"\n",
    "store[\"connTrain\"]=normalize(pd.Series(dataCount))\n",
    "# raw_data_name = \"ita_public_tools/output/data.csv\"\n",
    "# raw_data = pd.read_csv(raw_data_name)\n",
    "# store = HDFStore(\"storeTraffic.h5\")\n",
    "# data = raw_data.groupby('Timestamp').count()[\"Timestamp\"]\n",
    "store[\"connTest\"] = normalize(pd.Series(dataCount))\n",
    "store[\"raw_conn_train\"]=pd.Series(dataCount)\n",
    "store[\"raw_conn_test\"] = pd.Series(dataCount)\n",
    "\n",
    "\n"
   ]
  }
 ],
 "metadata": {
  "kernelspec": {
   "display_name": "Python 2",
   "language": "python",
   "name": "python2"
  },
  "language_info": {
   "codemirror_mode": {
    "name": "ipython",
    "version": 2
   },
   "file_extension": ".py",
   "mimetype": "text/x-python",
   "name": "python",
   "nbconvert_exporter": "python",
   "pygments_lexer": "ipython2",
   "version": "2.7.6"
  }
 },
 "nbformat": 4,
 "nbformat_minor": 0
}
