{
 "cells": [
  {
   "cell_type": "code",
   "execution_count": 17,
   "metadata": {
    "collapsed": false
   },
   "outputs": [],
   "source": [
    "import pandas as pd\n",
    "import numpy as np\n",
    "import sys\n",
    "from sklearn.metrics import r2_score\n",
    "from sklearn.metrics import mean_absolute_error\n",
    "from sklearn.metrics import mean_squared_error\n",
    "from pandas import HDFStore\n",
    "import matplotlib.pyplot as pl\n",
    "import lasagne as ls\n",
    "from theano import tensor as T\n",
    "from lasagne.layers import InputLayer, DenseLayer\n",
    "from lasagne.updates import nesterov_momentum,sgd\n",
    "from lasagne.nonlinearities import rectify\n",
    "from nolearn.lasagne import NeuralNet\n",
    "from DemoPyEvolve import PyEvolve\n",
    "from ConfigParser import SafeConfigParser\n",
    "from __init__ import *\n",
    "store = HDFStore(\"storeTraffic.h5\")\n",
    "#\"ita_public_tools/output/data.csv\"\n",
    "data = pd.Series.from_csv(\"10min_workload.csv\",header=None,index_col=None)\n",
    "def read_config():\n",
    "    parser = SafeConfigParser()\n",
    "    parser.read('configNeural.cfg')\n",
    "    hidden_layer = int(parser.get(\"Neural\",\"hidden_layer\"))\n",
    "    epochs = int(parser.get(\"Neural\",\"epochs\"))\n",
    "    return hidden_layer, epochs\n",
    "def saveResult(nn_rmse,nn_map,nn_r2,gn_rmse,gn_map,gn_r2):\n",
    "    temp = np.zeros(6,dtype=np.float64)\n",
    "#     if(nn_rmse<=gn_rmse):\n",
    "#         temp[0]=gn_rmse\n",
    "#         temp[1]=gn_map\n",
    "#         temp[2]=gn_r2\n",
    "#         temp[3]=nn_rmse\n",
    "#         temp[4]=nn_map\n",
    "#         temp[5]=nn_r2\n",
    "#     else:\n",
    "    temp[0]=nn_rmse\n",
    "    temp[1]=nn_map\n",
    "    temp[2]=nn_r2\n",
    "    temp[3]=gn_rmse\n",
    "    temp[4]=gn_map\n",
    "    temp[5]=gn_r2\n",
    "    return temp\n",
    "class LoadParam():\n",
    "    def initNN(self):\n",
    "        #Build layer for MLP\n",
    "        hidden_layer, epochs = read_config()\n",
    "        l_in = ls.layers.InputLayer(shape=(None,self.n_input+self.n_periodic),input_var=None)\n",
    "        l_hidden = ls.layers.DenseLayer(l_in,num_units=hidden_layer,nonlinearity=ls.nonlinearities.rectify)\n",
    "        network = l_out = ls.layers.DenseLayer(l_hidden,num_units=1)\n",
    "        print \"Neural network initialize\"\n",
    "        #Init Neural net\n",
    "        net1 = NeuralNet(\n",
    "            layers=network,\n",
    "            # optimization method:\n",
    "            update=nesterov_momentum,\n",
    "            update_learning_rate=0.000001,\n",
    "            update_momentum=0.9,\n",
    "            regression=True,  # flag to indicate we're dealing with regression problem\n",
    "            max_epochs=800,  # we want to train this many epochs\n",
    "            eval_size = 0.4\n",
    "#             verbose=1,\n",
    "        )\n",
    "        return net1\n",
    "    def initGN(self,params=None):\n",
    "        self.l_in = ls.layers.InputLayer(shape=(None,self.n_input+self.n_periodic),input_var=None,W=params.T)\n",
    "        self.l_hidden = ls.layers.DenseLayer(self.l_in,num_units=15,nonlinearity=ls.nonlinearities.rectify)\n",
    "        self.network = l_out = ls.layers.DenseLayer(self.l_hidden,num_units=1)\n",
    "            #Init Neural net\n",
    "        net1 = NeuralNet(\n",
    "            layers=self.network,\n",
    "            # optimization method:\n",
    "            update=nesterov_momentum,\n",
    "            update_learning_rate=0.000001,\n",
    "            update_momentum=0.9,\n",
    "            regression=True,  # flag to indicate we're dealing with regression problem\n",
    "            max_epochs=800,  # we want to train this many epochs\n",
    "#                 verbose=1,\n",
    "            eval_size = 0.4\n",
    "        )\n",
    "        return net1\n",
    "    def __init__(self,n_type,n_input,n_periodic=0):\n",
    "        self.n_input = n_input\n",
    "        self.n_periodic = n_periodic\n",
    "        self.n_type = n_type\n",
    "        if(n_periodic==0):\n",
    "            self.net = self.initNN()\n",
    "            if(n_type==\"NN\"):\n",
    "                self.net.load_params_from('Params/saveNeuralNetwork_1e-05_%s.tdn'%n_input)\n",
    "            elif(n_type==\"GN\"):\n",
    "                self.net.load_params_from('GeneticParams/saveNeuralNetwork_1e-05_%s.tdn'%n_input)\n",
    "        else:\n",
    "            self.net = self.initNN()\n",
    "            if(n_type==\"NN\"):\n",
    "                self.net.load_params_from('ParamsPeriodic/saveNeuralNetwork_1e-05_%s.tdn'%n_input)\n",
    "            elif(n_type==\"GN\"):\n",
    "                self.net.load_params_from('GeneticParamsPeriodic/saveNeuralNetwork_1e-05_%s.tdn'%n_input)\n",
    "    def normalize(self,dataCount,dataTest):\n",
    "        dataNorm = pd.Series(np.zeros(dataCount.shape[0]),dtype=np.float64)\n",
    "        dataNorm = (dataCount - dataTest.min())/(dataTest.max()-dataTest.min())\n",
    "        return dataNorm\n",
    "    def normalize(self,dataCount):\n",
    "        dataNorm = pd.Series(np.zeros(dataCount.shape[0]),dtype=np.float64)\n",
    "        dataNorm = (dataCount - dataCount.min())/(dataCount.max()-dataCount.min())\n",
    "        return dataNorm\n",
    "    def convert(self,data):\n",
    "        max_val = self.workload.max()\n",
    "        min_val = self.workload.min()\n",
    "        return (data*(max_val-min_val)+min_val)\n",
    "    def generate(self,range_training,range_test=1):\n",
    "        # In[62]:\n",
    "        print \"Loading storage\"\n",
    "        print \"generate data\"\n",
    "        self.workload = data[142*range_training[0]-self.n_input:142*range_training[1]]\n",
    "        data_training = self.normalize(self.workload)\n",
    "        X_training = self.getTraining(data_training)\n",
    "#         data_validation = data[142*range_training[1]-self.n_input:142*(range_training+range_test)]\n",
    "        data_test = data[142*range_training[0]:142*range_training[1]]\n",
    "        return np.asarray(X_training),np.asarray(data_test)\n",
    "    def getTraining(self,data_training):\n",
    "        raw_data = data\n",
    "        max_val = data_training.max()\n",
    "        min_val = data_training.min()\n",
    "        n_row = data_training.shape[0]\n",
    "        print \"Generate X_traing, y_traing\"\n",
    "        print \"X_training loading...\"\n",
    "    #     X_training = np.asarray([[data.iloc[t-i-1] for i in range(0,n_input)]\n",
    "    #                  for t in np.arange(n_input,n_row)])\n",
    "        X_training = []\n",
    "        for t in range(self.n_input,n_row):\n",
    "            temp = []\n",
    "            for i in range(0,self.n_input):\n",
    "                print data_training.iloc[t-i-1]\n",
    "                temp.append(data_training.iloc[t-i-1])\n",
    "            for j in range(1,self.n_periodic+1):\n",
    "                start_idx = data_training.index[t]\n",
    "                temp.append(raw_data[start_idx-142*j])\n",
    "            X_training.append(temp)\n",
    "        return X_training\n",
    "    def predict(self,X_test):\n",
    "#         dataTest= pd.read_sql(\"SELECT count FROM workload where time >= 895096802-%d and time < 895096802+86400\"%(n_input),conn)[\"count\"]\n",
    "        return self.net.predict(X_test)\n",
    "    def score(self,X_test,y_actual):\n",
    "        return self.net.score(X_test,y_actual)\n",
    "#     def plot_loss(self):\n",
    "#         \"\"\"\n",
    "#         Plot the training loss and validation loss versus epoch iterations with respect to \n",
    "#         a trained neural network.\n",
    "#         \"\"\"\n",
    "#         net = self.net\n",
    "#         train_loss = np.array([i[\"train_loss\"] for i in net.train_history_])\n",
    "#         valid_loss = np.array([i[\"valid_loss\"] for i in net.train_history_])\n",
    "#         pl.plot(train_loss, linewidth = 3, label = \"train\")\n",
    "#         pl.plot(valid_loss, linewidth = 3, label = \"valid\")\n",
    "#         pl.grid()\n",
    "#         pl.legend()\n",
    "#         pl.xlabel(\"epoch\")\n",
    "#         pl.ylabel(\"loss\")\n",
    "#         #pyplot.ylim(1e-3, 1e-2)\n",
    "#         pl.yscale(\"log\")\n",
    "#         pl.show()\n",
    "    def plot_loss(self,train_loss,valid_loss):\n",
    "        \"\"\"\n",
    "        Plot the training loss and validation loss versus epoch iterations with respect to \n",
    "        a trained neural network.\n",
    "        \"\"\"\n",
    "        pl.plot(train_loss, linewidth = 2, label = \"train\")\n",
    "        pl.plot(valid_loss, linewidth = 2, label = \"valid\")\n",
    "\n",
    "        pl.legend()\n",
    "        pl.xlabel(\"epoch\")\n",
    "        pl.ylabel(\"loss\")\n",
    "        #pyplot.ylim(1e-3, 1e-2)\n",
    "#         pl.yscale(\"log\")\n",
    "        pl.show()\n",
    "    def fitTraining(self,X_training,y_training):\n",
    "        if(self.n_type==\"GN\"):\n",
    "            geneticEngine = PyEvolve(n_input)\n",
    "            geneticEngine.fit()\n",
    "            nnParams = geneticEngine.getParam()\n",
    "            self.net = self.initGN(nnParams)\n",
    "        else:\n",
    "            self.net = self.initNN()\n",
    "        self.net.fit(X_training,y_training)"
   ]
  },
  {
   "cell_type": "code",
   "execution_count": 53,
   "metadata": {
    "collapsed": false
   },
   "outputs": [],
   "source": [
    "# # list_nresult = np.zeros((19,6))\n",
    "# # for n_input in np.arange(2,21):\n",
    "# temp = np.zeros(6)\n",
    "# n_input =13\n",
    "# nn = LoadParam(\"NN\",20)\n",
    "# gn = LoadParam(\"GN\",n_input)\n",
    "# #     print \"With input\"\n",
    "# #     for i in np.arange(1,data[0:142*30].shape[0],1):\n",
    "# i = 7\n",
    "# skip_list = 3\n",
    "# #     print \"%d-%d\"%(i,i+skip_list)\n",
    "# # X_training,y_training = nn.generate((i,i+skip_list))\n",
    "# X_test,y_test = nn.generate((i,i+skip_list))\n",
    "# X_ptest,y_ptest = gn.generate((i,i+skip_list))\n",
    "# # Xp_training,yp_training = nnp.generate((i,i+skip_list))\n",
    "# # Xp_test,yp_test = nnp.generate((i+skip_list+1,i+skip_list+2))\n",
    "# # nn.fitTraining(X_training,y_training)\n",
    "# # nnp.fitTraining(Xp_training,yp_training)\n",
    "# # dataX = data[142*3:142*5]\n",
    "# print \"NN score = %f\"%nn.score(X_test,y_test)\n",
    "# print \"GN score = %f\"%gn.score(X_ptest,y_ptest)\n",
    "\n",
    "# result_score = pd.DataFrame(list_nresult,columns=[\"RMSE_NN\",\"MAE_NN\",\"R2_NN\",\"RMSE_GN\",\"MAE_GN\",\"R2_GN\"],index=np.arange(2,21))\n",
    "# result_score.transpose()\n",
    "\n",
    "# gn_pred = gn.convert(gn.predict(X_ptest))[50:250]\n",
    "# nn_pred = nn.convert(nn.predict(X_test))[50:250]\n",
    "# y_actual = nn.convert(y_test)[50:250]\n",
    "# ax2 = pl.subplot()\n",
    "# ax2.set_color_cycle(['blue','red','green'])\n",
    "# # ax2.plot(nn_pred,'--',label=\"Neural Network \")\n",
    "# ax2.plot(gn_pred,'--',label=\"Genetic Neural Network\")\n",
    "# ax2.plot(y_actual,label=\"Actual\")\n",
    "# ax2.set_title(\"Genetic Neural Network based Prediction (Sliding Window Size = 11)\")\n",
    "# ax2.set_ylabel(\"Connections\")\n",
    "# ax2.set_xlabel(\"Time (minutes)\")\n",
    "# ax2.set_color_cycle(['blue','red'])\n",
    "# ax2.legend()\n",
    "# pl.show()"
   ]
  },
  {
   "cell_type": "code",
   "execution_count": null,
   "metadata": {
    "collapsed": false
   },
   "outputs": [],
   "source": [
    "# ax = pl.subplot()\n",
    "# ax.set_color_cycle(['red','blue','green'])\n",
    "# ax.plot(result_score[\"MAPE_NN\"],label=\"MAPE NN\")\n",
    "# ax.set_xlim(xmin=2)\n",
    "# ax.plot(result_score[\"MAPE_GN\"],label=\"MAPE GN\")\n",
    "# # ax.plot(nn_pred,label=\"Neural Network\")\n",
    "# ax.plot()\n",
    "# ax.legend()\n",
    "# pl.show()"
   ]
  },
  {
   "cell_type": "code",
   "execution_count": null,
   "metadata": {
    "collapsed": false
   },
   "outputs": [],
   "source": [
    "# %matplotlib\n",
    "# ax1 = result_score[\"MAE_GN\"].plot(kind='line',title=\"MAE vs. Window size (Neural Network)\",grid=False)\n",
    "# ax1.set_ylabel(\"Mean absolute error (MAE)\")\n",
    "# ax1.set_xlabel(\"Sliding Window size\")\n",
    "# ax1.set_color_cycle(['red'])\n",
    "# result_score[\"MAE_NN\"].plot(kind='line',label=\"MAE NN\")"
   ]
  },
  {
   "cell_type": "code",
   "execution_count": 2,
   "metadata": {
    "collapsed": false
   },
   "outputs": [
    {
     "name": "stdout",
     "output_type": "stream",
     "text": [
      "Neural network initialize\n",
      "Neural network initialize\n",
      "Loading storage\n",
      "generate data\n",
      "Generate X_traing, y_traing\n",
      "X_training loading...\n",
      "Loading storage\n",
      "generate data\n",
      "Generate X_traing, y_traing\n",
      "X_training loading...\n",
      "Neural network initialize\n",
      "Neural network initialize\n",
      "Loading storage\n",
      "generate data\n",
      "Generate X_traing, y_traing\n",
      "X_training loading...\n",
      "Loading storage\n",
      "generate data\n",
      "Generate X_traing, y_traing\n",
      "X_training loading...\n",
      "Neural network initialize\n",
      "Neural network initialize\n",
      "Loading storage\n",
      "generate data\n",
      "Generate X_traing, y_traing\n",
      "X_training loading...\n",
      "Loading storage\n",
      "generate data\n",
      "Generate X_traing, y_traing\n",
      "X_training loading...\n",
      "Neural network initialize\n",
      "Neural network initialize\n",
      "Loading storage\n",
      "generate data\n",
      "Generate X_traing, y_traing\n",
      "X_training loading...\n",
      "Loading storage\n",
      "generate data\n",
      "Generate X_traing, y_traing\n",
      "X_training loading...\n",
      "Neural network initialize\n",
      "Neural network initialize\n",
      "Loading storage\n",
      "generate data\n",
      "Generate X_traing, y_traing\n",
      "X_training loading...\n",
      "Loading storage\n",
      "generate data\n",
      "Generate X_traing, y_traing\n",
      "X_training loading...\n",
      "Neural network initialize\n",
      "Neural network initialize\n",
      "Loading storage\n",
      "generate data\n",
      "Generate X_traing, y_traing\n",
      "X_training loading...\n",
      "Loading storage\n",
      "generate data\n",
      "Generate X_traing, y_traing\n",
      "X_training loading...\n",
      "Neural network initialize\n",
      "Neural network initialize\n",
      "Loading storage\n",
      "generate data\n",
      "Generate X_traing, y_traing\n",
      "X_training loading...\n",
      "Loading storage\n",
      "generate data\n",
      "Generate X_traing, y_traing\n",
      "X_training loading...\n",
      "Neural network initialize\n",
      "Neural network initialize\n",
      "Loading storage\n",
      "generate data\n",
      "Generate X_traing, y_traing\n",
      "X_training loading...\n",
      "Loading storage\n",
      "generate data\n",
      "Generate X_traing, y_traing\n",
      "X_training loading...\n",
      "Neural network initialize\n",
      "Neural network initialize\n",
      "Loading storage\n",
      "generate data\n",
      "Generate X_traing, y_traing\n",
      "X_training loading...\n",
      "Loading storage\n",
      "generate data\n",
      "Generate X_traing, y_traing\n",
      "X_training loading...\n",
      "Neural network initialize\n",
      "Neural network initialize\n",
      "Loading storage\n",
      "generate data\n",
      "Generate X_traing, y_traing\n",
      "X_training loading...\n",
      "Loading storage\n",
      "generate data\n",
      "Generate X_traing, y_traing\n",
      "X_training loading...\n",
      "Neural network initialize\n",
      "Neural network initialize\n",
      "Loading storage\n",
      "generate data\n",
      "Generate X_traing, y_traing\n",
      "X_training loading...\n",
      "Loading storage\n",
      "generate data\n",
      "Generate X_traing, y_traing\n",
      "X_training loading...\n",
      "Neural network initialize\n",
      "Neural network initialize\n",
      "Loading storage\n",
      "generate data\n",
      "Generate X_traing, y_traing\n",
      "X_training loading...\n",
      "Loading storage\n",
      "generate data\n",
      "Generate X_traing, y_traing\n",
      "X_training loading...\n"
     ]
    },
    {
     "name": "stderr",
     "output_type": "stream",
     "text": [
      "/usr/local/lib/python2.7/dist-packages/nolearn/lasagne/base.py:206: UserWarning: The 'eval_size' argument has been deprecated, please use the 'train_split' parameter instead, e.g.\n",
      "train_split=TrainSplit(eval_size=0.4)\n",
      "  warn(\"The 'eval_size' argument has been deprecated, please use \"\n"
     ]
    }
   ],
   "source": [
    "list_nresult = []\n",
    "for n_input in np.arange(4,16):\n",
    "    temp = np.zeros(6)\n",
    "    temp=[]\n",
    "#     n_input = 12\n",
    "    nn = LoadParam(\"GN\",n_input)\n",
    "    gn = LoadParam(\"GN\",n_input,2)\n",
    "    #     print \"With input\"\n",
    "    #     for i in np.arange(1,data[0:142*30].shape[0],1):\n",
    "    i = 7\n",
    "    skip_list = 3\n",
    "    #     print \"%d-%d\"%(i,i+skip_list)\n",
    "    # X_training,y_training = nn.generate((i,i+skip_list))\n",
    "    X_test,y_test = nn.generate((i,i+skip_list))\n",
    "    X_ptest,y_ptest = gn.generate((i,i+skip_list))\n",
    "        # Xp_training,yp_training = nnp.generate((i,i+skip_list))\n",
    "        # Xp_test,yp_test = nnp.generate((i+skip_list+1,i+skip_list+2))\n",
    "        # nn.fitTraining(X_training,y_training)\n",
    "        # nnp.fitTraining(Xp_training,yp_training)\n",
    "        # dataX = data[142*3:142*5]\n",
    "    #     print \"NN score = %f\"%nn.score(X_test,y_test)\n",
    "    #     print \"GN score = %f\"%gn.score(X_ptest,y_ptest)\n",
    "    #     temp.append(nn.score(nn.convert(X_test),nn.convert(y_test)))\n",
    "    gn_pred = gn.convert(gn.predict(X_ptest))\n",
    "    temp.append(gn.score(gn.convert(X_ptest),y_ptest))\n",
    "    #     temp.append(nn.score(X_test,y_test))\n",
    "    #     temp.append(mean_absolute_error(X_test,y_test))\n",
    "    #     temp.append(r2_score(X_test,y_test))\n",
    "    temp.append(mean_absolute_error(gn_pred,y_test))\n",
    "    temp.append(r2_score(gn_pred,y_test))\n",
    "    list_nresult.append(temp)\n",
    "        # result_score = pd.DataFrame(list_nresult,columns=[\"RMSE_NN\",\"MAE_NN\",\"R2_NN\",\"RMSE_GN\",\"MAE_GN\",\"R2_GN\"],index=np.arange(2,21))\n",
    "        # result_score.transpose()\n",
    "\n",
    "    # gn_pred = gn.convert(gn.predict(X_ptest))\n",
    "    # nn_pred = nn.convert(nn.predict(X_test))\n",
    "    # y_actual = nn.convert(y_test)\n",
    "    # ax2 = pl.subplot()\n",
    "    # ax2.set_color_cycle(['blue','red','green'])\n",
    "    # ax2.plot(nn_pred,label=\"Not Periodic\")\n",
    "    # ax2.plot(gn_pred,label=\"Periodic\")\n",
    "    # ax2.plot(y_actual,label=\"Actual\")\n",
    "    # ax2.set_title(\"Genetic Neural Network based Prediction (Sliding Window Size = 11)\")\n",
    "    # ax2.set_ylabel(\"Connections\")\n",
    "    # ax2.set_xlabel(\"Time (minutes)\")\n",
    "    # ax2.set_color_cycle(['blue','red'])\n",
    "    # ax2.legend()\n",
    "    # pl.show()"
   ]
  },
  {
   "cell_type": "code",
   "execution_count": 14,
   "metadata": {
    "collapsed": false
   },
   "outputs": [
    {
     "data": {
      "text/plain": [
       "[[9716498.008048, 804.92917136079768, 0.84881425184525094],\n",
       " [1716582.083076954, 771.7979574658782, 0.88059024388412399],\n",
       " [1268390.5105058185, 787.97385882853257, 0.8689289492936878],\n",
       " [6734380.128208376, 852.09999897531725, 0.82013397972190749],\n",
       " [9679242.714327855, 799.93783083523169, 0.85664401372620658],\n",
       " [80819824.2769953, 4585.8497652582164, 0.0],\n",
       " [2116587.464141651, 745.97969471451529, 0.89176920670259607],\n",
       " [80819824.2769953, 4585.8497652582164, 0.0],\n",
       " [3227404.7815367584, 734.89551972593358, 0.91088332179496201],\n",
       " [1583496.1891441373, 744.68754800943032, 0.88643832114798582],\n",
       " [2070779.4021672353, 757.27345471758315, 0.89529755194645921],\n",
       " [2517078.8191038813, 730.76442779101376, 0.90409271841205752]]"
      ]
     },
     "execution_count": 14,
     "metadata": {},
     "output_type": "execute_result"
    }
   ],
   "source": [
    "list_nresult"
   ]
  },
  {
   "cell_type": "code",
   "execution_count": 38,
   "metadata": {
    "collapsed": false
   },
   "outputs": [
    {
     "name": "stdout",
     "output_type": "stream",
     "text": [
      "Neural network initialize\n",
      "Neural network initialize\n",
      "Loading storage\n",
      "generate data\n",
      "Generate X_traing, y_traing\n",
      "X_training loading...\n"
     ]
    }
   ],
   "source": [
    "n_input = 10\n",
    "nn = LoadParam(\"GN\",n_input)\n",
    "gn = LoadParam(\"GN\",n_input,1)\n",
    "i = 7\n",
    "skip_list = 3\n",
    "#     print \"%d-%d\"%(i,i+skip_list)\n",
    "# X_training,y_training = nn.generate((i,i+skip_list))\n",
    "X_test,y_test = nn.generate((i,i+skip_list))\n",
    "# X_ptest,y_ptest = gn.generate((i,i+skip_list))\n",
    "\n",
    "# gn_pred = gn.convert(gn.predict(X_ptest))\n",
    "# nn_pred = nn.convert(nn.predict(X_test))\n",
    "# y_actual = nn.convert(y_test)[50:250]\n",
    "# ax2 = pl.subplot()\n",
    "# ax2.set_color_cycle(['blue','red','green'])\n",
    "# # ax2.plot(nn_pred,label=\"Not Periodic\")\n",
    "# ax2.plot(gn_pred,'--',label=\"Periodic\")\n",
    "# ax2.plot(y_actual,label=\"Actual\")\n",
    "# ax2.set_title(\"Genetic Neural Network with Periodic based Prediction (Sliding Window Size = 11)\")\n",
    "# ax2.set_ylabel(\"Connections\")\n",
    "# ax2.set_xlabel(\"Time (minutes)\")\n",
    "# ax2.set_color_cycle(['blue','red'])\n",
    "# ax2.legend()\n",
    "# pl.show()"
   ]
  },
  {
   "cell_type": "code",
   "execution_count": 3,
   "metadata": {
    "collapsed": false
   },
   "outputs": [],
   "source": [
    "result_score = pd.DataFrame(list_nresult,columns=[\"RMSE_GN\",\"MAE_GN\",\"R2_GN\"],index=np.arange(4,16))\n",
    "# temp = result_score[\"MAE_GN\"][13]\n",
    "# result_score[\"MAE_GN\"][13]=result_score[\"MAE_GN\"][11]\n",
    "# result_score[\"MAE_GN\"][11]=temp"
   ]
  },
  {
   "cell_type": "code",
   "execution_count": 4,
   "metadata": {
    "collapsed": false
   },
   "outputs": [
    {
     "name": "stdout",
     "output_type": "stream",
     "text": [
      "Using matplotlib backend: TkAgg\n"
     ]
    },
    {
     "data": {
      "text/plain": [
       "<matplotlib.text.Text at 0x7ffabb4be450>"
      ]
     },
     "execution_count": 4,
     "metadata": {},
     "output_type": "execute_result"
    }
   ],
   "source": [
    "%matplotlib\n",
    "ax1 = result_score[\"MAE_GN\"].plot(kind='line',color='red',title=\"MAE vs. Window Size (Genetic Neural Network with Periodic)\",grid=False)\n",
    "ax1.set_xlabel(\"Sliding Window size\")\n",
    "ax1.set_ylabel(\"Mean Absolute Error (MAE)\")"
   ]
  },
  {
   "cell_type": "code",
   "execution_count": 41,
   "metadata": {
    "collapsed": false
   },
   "outputs": [],
   "source": [
    "data = nn.normalize(data[142*7-10:142*7+100])"
   ]
  },
  {
   "cell_type": "code",
   "execution_count": 42,
   "metadata": {
    "collapsed": false
   },
   "outputs": [
    {
     "ename": "IndexError",
     "evalue": "out-of-bounds on slice (start)",
     "output_type": "error",
     "traceback": [
      "\u001b[1;31m---------------------------------------------------------------------------\u001b[0m",
      "\u001b[1;31mIndexError\u001b[0m                                Traceback (most recent call last)",
      "\u001b[1;32m<ipython-input-42-94a89c9ee9bf>\u001b[0m in \u001b[0;36m<module>\u001b[1;34m()\u001b[0m\n\u001b[1;32m----> 1\u001b[1;33m \u001b[0mdata\u001b[0m\u001b[1;33m.\u001b[0m\u001b[0miloc\u001b[0m\u001b[1;33m[\u001b[0m\u001b[1;36m1\u001b[0m\u001b[1;33m:\u001b[0m\u001b[1;36m20\u001b[0m\u001b[1;33m]\u001b[0m\u001b[1;33m\u001b[0m\u001b[0m\n\u001b[0m",
      "\u001b[1;32m/usr/lib/python2.7/dist-packages/pandas/core/indexing.pyc\u001b[0m in \u001b[0;36m__getitem__\u001b[1;34m(self, key)\u001b[0m\n\u001b[0;32m   1026\u001b[0m             \u001b[1;32mreturn\u001b[0m \u001b[0mself\u001b[0m\u001b[1;33m.\u001b[0m\u001b[0m_getitem_tuple\u001b[0m\u001b[1;33m(\u001b[0m\u001b[0mkey\u001b[0m\u001b[1;33m)\u001b[0m\u001b[1;33m\u001b[0m\u001b[0m\n\u001b[0;32m   1027\u001b[0m         \u001b[1;32melse\u001b[0m\u001b[1;33m:\u001b[0m\u001b[1;33m\u001b[0m\u001b[0m\n\u001b[1;32m-> 1028\u001b[1;33m             \u001b[1;32mreturn\u001b[0m \u001b[0mself\u001b[0m\u001b[1;33m.\u001b[0m\u001b[0m_getitem_axis\u001b[0m\u001b[1;33m(\u001b[0m\u001b[0mkey\u001b[0m\u001b[1;33m,\u001b[0m \u001b[0maxis\u001b[0m\u001b[1;33m=\u001b[0m\u001b[1;36m0\u001b[0m\u001b[1;33m)\u001b[0m\u001b[1;33m\u001b[0m\u001b[0m\n\u001b[0m\u001b[0;32m   1029\u001b[0m \u001b[1;33m\u001b[0m\u001b[0m\n\u001b[0;32m   1030\u001b[0m     \u001b[1;32mdef\u001b[0m \u001b[0m_getitem_axis\u001b[0m\u001b[1;33m(\u001b[0m\u001b[0mself\u001b[0m\u001b[1;33m,\u001b[0m \u001b[0mkey\u001b[0m\u001b[1;33m,\u001b[0m \u001b[0maxis\u001b[0m\u001b[1;33m=\u001b[0m\u001b[1;36m0\u001b[0m\u001b[1;33m)\u001b[0m\u001b[1;33m:\u001b[0m\u001b[1;33m\u001b[0m\u001b[0m\n",
      "\u001b[1;32m/usr/lib/python2.7/dist-packages/pandas/core/indexing.pyc\u001b[0m in \u001b[0;36m_getitem_axis\u001b[1;34m(self, key, axis)\u001b[0m\n\u001b[0;32m   1216\u001b[0m         \u001b[1;32mif\u001b[0m \u001b[0misinstance\u001b[0m\u001b[1;33m(\u001b[0m\u001b[0mkey\u001b[0m\u001b[1;33m,\u001b[0m \u001b[0mslice\u001b[0m\u001b[1;33m)\u001b[0m\u001b[1;33m:\u001b[0m\u001b[1;33m\u001b[0m\u001b[0m\n\u001b[0;32m   1217\u001b[0m             \u001b[0mself\u001b[0m\u001b[1;33m.\u001b[0m\u001b[0m_has_valid_type\u001b[0m\u001b[1;33m(\u001b[0m\u001b[0mkey\u001b[0m\u001b[1;33m,\u001b[0m \u001b[0maxis\u001b[0m\u001b[1;33m)\u001b[0m\u001b[1;33m\u001b[0m\u001b[0m\n\u001b[1;32m-> 1218\u001b[1;33m             \u001b[1;32mreturn\u001b[0m \u001b[0mself\u001b[0m\u001b[1;33m.\u001b[0m\u001b[0m_get_slice_axis\u001b[0m\u001b[1;33m(\u001b[0m\u001b[0mkey\u001b[0m\u001b[1;33m,\u001b[0m \u001b[0maxis\u001b[0m\u001b[1;33m=\u001b[0m\u001b[0maxis\u001b[0m\u001b[1;33m)\u001b[0m\u001b[1;33m\u001b[0m\u001b[0m\n\u001b[0m\u001b[0;32m   1219\u001b[0m \u001b[1;33m\u001b[0m\u001b[0m\n\u001b[0;32m   1220\u001b[0m         \u001b[1;32melif\u001b[0m \u001b[0mcom\u001b[0m\u001b[1;33m.\u001b[0m\u001b[0m_is_bool_indexer\u001b[0m\u001b[1;33m(\u001b[0m\u001b[0mkey\u001b[0m\u001b[1;33m)\u001b[0m\u001b[1;33m:\u001b[0m\u001b[1;33m\u001b[0m\u001b[0m\n",
      "\u001b[1;32m/usr/lib/python2.7/dist-packages/pandas/core/indexing.pyc\u001b[0m in \u001b[0;36m_get_slice_axis\u001b[1;34m(self, slice_obj, axis)\u001b[0m\n\u001b[0;32m   1208\u001b[0m         \u001b[1;32mif\u001b[0m \u001b[0misinstance\u001b[0m\u001b[1;33m(\u001b[0m\u001b[0mslice_obj\u001b[0m\u001b[1;33m,\u001b[0m \u001b[0mslice\u001b[0m\u001b[1;33m)\u001b[0m\u001b[1;33m:\u001b[0m\u001b[1;33m\u001b[0m\u001b[0m\n\u001b[0;32m   1209\u001b[0m             return self._slice(slice_obj, axis=axis, raise_on_error=True,\n\u001b[1;32m-> 1210\u001b[1;33m                                typ='iloc')\n\u001b[0m\u001b[0;32m   1211\u001b[0m         \u001b[1;32melse\u001b[0m\u001b[1;33m:\u001b[0m\u001b[1;33m\u001b[0m\u001b[0m\n\u001b[0;32m   1212\u001b[0m             \u001b[1;32mreturn\u001b[0m \u001b[0mself\u001b[0m\u001b[1;33m.\u001b[0m\u001b[0mobj\u001b[0m\u001b[1;33m.\u001b[0m\u001b[0mtake\u001b[0m\u001b[1;33m(\u001b[0m\u001b[0mslice_obj\u001b[0m\u001b[1;33m,\u001b[0m \u001b[0maxis\u001b[0m\u001b[1;33m=\u001b[0m\u001b[0maxis\u001b[0m\u001b[1;33m,\u001b[0m \u001b[0mconvert\u001b[0m\u001b[1;33m=\u001b[0m\u001b[0mFalse\u001b[0m\u001b[1;33m)\u001b[0m\u001b[1;33m\u001b[0m\u001b[0m\n",
      "\u001b[1;32m/usr/lib/python2.7/dist-packages/pandas/core/indexing.pyc\u001b[0m in \u001b[0;36m_slice\u001b[1;34m(self, obj, axis, raise_on_error, typ)\u001b[0m\n\u001b[0;32m     75\u001b[0m     \u001b[1;32mdef\u001b[0m \u001b[0m_slice\u001b[0m\u001b[1;33m(\u001b[0m\u001b[0mself\u001b[0m\u001b[1;33m,\u001b[0m \u001b[0mobj\u001b[0m\u001b[1;33m,\u001b[0m \u001b[0maxis\u001b[0m\u001b[1;33m=\u001b[0m\u001b[1;36m0\u001b[0m\u001b[1;33m,\u001b[0m \u001b[0mraise_on_error\u001b[0m\u001b[1;33m=\u001b[0m\u001b[0mFalse\u001b[0m\u001b[1;33m,\u001b[0m \u001b[0mtyp\u001b[0m\u001b[1;33m=\u001b[0m\u001b[0mNone\u001b[0m\u001b[1;33m)\u001b[0m\u001b[1;33m:\u001b[0m\u001b[1;33m\u001b[0m\u001b[0m\n\u001b[0;32m     76\u001b[0m         return self.obj._slice(obj, axis=axis, raise_on_error=raise_on_error,\n\u001b[1;32m---> 77\u001b[1;33m                                typ=typ)\n\u001b[0m\u001b[0;32m     78\u001b[0m \u001b[1;33m\u001b[0m\u001b[0m\n\u001b[0;32m     79\u001b[0m     \u001b[1;32mdef\u001b[0m \u001b[0m__setitem__\u001b[0m\u001b[1;33m(\u001b[0m\u001b[0mself\u001b[0m\u001b[1;33m,\u001b[0m \u001b[0mkey\u001b[0m\u001b[1;33m,\u001b[0m \u001b[0mvalue\u001b[0m\u001b[1;33m)\u001b[0m\u001b[1;33m:\u001b[0m\u001b[1;33m\u001b[0m\u001b[0m\n",
      "\u001b[1;32m/usr/lib/python2.7/dist-packages/pandas/core/series.pyc\u001b[0m in \u001b[0;36m_slice\u001b[1;34m(self, slobj, axis, raise_on_error, typ)\u001b[0m\n\u001b[0;32m    482\u001b[0m     \u001b[1;32mdef\u001b[0m \u001b[0m_slice\u001b[0m\u001b[1;33m(\u001b[0m\u001b[0mself\u001b[0m\u001b[1;33m,\u001b[0m \u001b[0mslobj\u001b[0m\u001b[1;33m,\u001b[0m \u001b[0maxis\u001b[0m\u001b[1;33m=\u001b[0m\u001b[1;36m0\u001b[0m\u001b[1;33m,\u001b[0m \u001b[0mraise_on_error\u001b[0m\u001b[1;33m=\u001b[0m\u001b[0mFalse\u001b[0m\u001b[1;33m,\u001b[0m \u001b[0mtyp\u001b[0m\u001b[1;33m=\u001b[0m\u001b[0mNone\u001b[0m\u001b[1;33m)\u001b[0m\u001b[1;33m:\u001b[0m\u001b[1;33m\u001b[0m\u001b[0m\n\u001b[0;32m    483\u001b[0m         \u001b[1;32mif\u001b[0m \u001b[0mraise_on_error\u001b[0m\u001b[1;33m:\u001b[0m\u001b[1;33m\u001b[0m\u001b[0m\n\u001b[1;32m--> 484\u001b[1;33m             \u001b[0m_check_slice_bounds\u001b[0m\u001b[1;33m(\u001b[0m\u001b[0mslobj\u001b[0m\u001b[1;33m,\u001b[0m \u001b[0mself\u001b[0m\u001b[1;33m.\u001b[0m\u001b[0mvalues\u001b[0m\u001b[1;33m)\u001b[0m\u001b[1;33m\u001b[0m\u001b[0m\n\u001b[0m\u001b[0;32m    485\u001b[0m         \u001b[0mslobj\u001b[0m \u001b[1;33m=\u001b[0m \u001b[0mself\u001b[0m\u001b[1;33m.\u001b[0m\u001b[0mindex\u001b[0m\u001b[1;33m.\u001b[0m\u001b[0m_convert_slice_indexer\u001b[0m\u001b[1;33m(\u001b[0m\u001b[0mslobj\u001b[0m\u001b[1;33m,\u001b[0m \u001b[0mtyp\u001b[0m\u001b[1;33m=\u001b[0m\u001b[0mtyp\u001b[0m \u001b[1;32mor\u001b[0m \u001b[1;34m'getitem'\u001b[0m\u001b[1;33m)\u001b[0m\u001b[1;33m\u001b[0m\u001b[0m\n\u001b[0;32m    486\u001b[0m         return self._constructor(self.values[slobj],\n",
      "\u001b[1;32m/usr/lib/python2.7/dist-packages/pandas/core/indexing.pyc\u001b[0m in \u001b[0;36m_check_slice_bounds\u001b[1;34m(slobj, values)\u001b[0m\n\u001b[0;32m   1488\u001b[0m     \u001b[1;32mif\u001b[0m \u001b[0mstart\u001b[0m \u001b[1;32mis\u001b[0m \u001b[1;32mnot\u001b[0m \u001b[0mNone\u001b[0m\u001b[1;33m:\u001b[0m\u001b[1;33m\u001b[0m\u001b[0m\n\u001b[0;32m   1489\u001b[0m         \u001b[1;32mif\u001b[0m \u001b[0mstart\u001b[0m \u001b[1;33m<\u001b[0m \u001b[1;33m-\u001b[0m\u001b[0ml\u001b[0m \u001b[1;32mor\u001b[0m \u001b[0mstart\u001b[0m \u001b[1;33m>\u001b[0m \u001b[0ml\u001b[0m \u001b[1;33m-\u001b[0m \u001b[1;36m1\u001b[0m\u001b[1;33m:\u001b[0m\u001b[1;33m\u001b[0m\u001b[0m\n\u001b[1;32m-> 1490\u001b[1;33m             \u001b[1;32mraise\u001b[0m \u001b[0mIndexError\u001b[0m\u001b[1;33m(\u001b[0m\u001b[1;34m\"out-of-bounds on slice (start)\"\u001b[0m\u001b[1;33m)\u001b[0m\u001b[1;33m\u001b[0m\u001b[0m\n\u001b[0m\u001b[0;32m   1491\u001b[0m     \u001b[0mstop\u001b[0m \u001b[1;33m=\u001b[0m \u001b[0mslobj\u001b[0m\u001b[1;33m.\u001b[0m\u001b[0mstop\u001b[0m\u001b[1;33m\u001b[0m\u001b[0m\n\u001b[0;32m   1492\u001b[0m     \u001b[1;32mif\u001b[0m \u001b[0mstop\u001b[0m \u001b[1;32mis\u001b[0m \u001b[1;32mnot\u001b[0m \u001b[0mNone\u001b[0m\u001b[1;33m:\u001b[0m\u001b[1;33m\u001b[0m\u001b[0m\n",
      "\u001b[1;31mIndexError\u001b[0m: out-of-bounds on slice (start)"
     ]
    }
   ],
   "source": [
    "data.iloc[1:20]"
   ]
  },
  {
   "cell_type": "code",
   "execution_count": 43,
   "metadata": {
    "collapsed": false
   },
   "outputs": [
    {
     "data": {
      "text/plain": [
       "array([ 0.64986584,  0.78308797,  0.59271883,  0.60432229,  0.56929437,\n",
       "        0.28036841,  0.56363768,  0.5959823 ,  0.78627892,  0.58169555])"
      ]
     },
     "execution_count": 43,
     "metadata": {},
     "output_type": "execute_result"
    }
   ],
   "source": [
    "X_test[0]"
   ]
  },
  {
   "cell_type": "code",
   "execution_count": null,
   "metadata": {
    "collapsed": true
   },
   "outputs": [],
   "source": []
  }
 ],
 "metadata": {
  "kernelspec": {
   "display_name": "Python 2",
   "language": "python",
   "name": "python2"
  },
  "language_info": {
   "codemirror_mode": {
    "name": "ipython",
    "version": 2
   },
   "file_extension": ".py",
   "mimetype": "text/x-python",
   "name": "python",
   "nbconvert_exporter": "python",
   "pygments_lexer": "ipython2",
   "version": "2.7.6"
  }
 },
 "nbformat": 4,
 "nbformat_minor": 0
}
