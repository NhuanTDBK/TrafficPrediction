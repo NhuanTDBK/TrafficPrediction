{
 "cells": [
  {
   "cell_type": "code",
   "execution_count": 8,
   "metadata": {
    "collapsed": true
   },
   "outputs": [],
   "source": [
    "import pandas as pd\n",
    "import numpy as np\n",
    "import sys\n",
    "from pandas import HDFStore\n",
    "import matplotlib.pyplot as pl\n",
    "\n",
    "store = HDFStore(\"storeTraffic.h5\")\n",
    "#\"ita_public_tools/output/data.csv\"\n",
    "data = pd.read_csv(\"10min_workload.csv\",names=[\"Count\"])\n",
    "def normalize(dataCount):\n",
    "    dataNorm = pd.Series(np.zeros(dataCount.shape[0]),dtype=np.float64)\n",
    "    dataNorm = (dataCount - dataCount.min())/(dataCount.max()-dataCount.min())\n",
    "    return dataNorm\n",
    "def generate(range_training,range_test=1):\n",
    "    # In[62]:\n",
    "    print \"Loading storage\"\n",
    "    print \"generate data\"\n",
    "    data_training = data[142*range_training[0]:142*range_training[1]]\n",
    "    data_test = data[142*range_training[1]:142*(range_training+range_test)]\n",
    "    # Config variable\n",
    "    store[\"connTrain\"]=normalize(pd.Series(dataCount))\n",
    "    # raw_data_name = \"ita_public_tools/output/data.csv\"\n",
    "    # raw_data = pd.read_csv(raw_data_name)\n",
    "    # store = HDFStore(\"storeTraffic.h5\")\n",
    "    # data = raw_data.groupby('Timestamp').count()[\"Timestamp\"]\n",
    "    store[\"connTest\"] = normalize(pd.Series(data_test))\n",
    "    store[\"raw_conn_train\"]=pd.Series(data_training)\n",
    "    store[\"raw_conn_test\"] = pd.Series(data_test)\n",
    "def read_config():\n",
    "    parser = SafeConfigParser()\n",
    "    parser.read('configNeural.cfg')\n",
    "    print parser.get(\"Neural\",\"hidden_layer\")"
   ]
  },
  {
   "cell_type": "code",
   "execution_count": 16,
   "metadata": {
    "collapsed": false
   },
   "outputs": [],
   "source": [
    "# data = pd.read_csv(\"10min_workload.csv\",names=[\"Count\"])\n",
    "# lst = (142*30,142*61)\n",
    "# data_total = data[lst[0]:lst[1]]\n",
    "# ax = pl.subplot()\n",
    "# ax.set_color_cycle(['blue','red','green'])\n",
    "# # ax.plot(gn_pred,label=\"Genetic Neural Network\")\n",
    "# t = np.arange(0,data_total.shape[0],142)\n",
    "# ax.plot(data_total,label=\"Actual\")\n",
    "# for i in np.arange(0,data_total.shape[0],142):\n",
    "#     ax.axvline(i,color='r')\n",
    "# ax.legend()\n",
    "# pl.show()"
   ]
  },
  {
   "cell_type": "code",
   "execution_count": null,
   "metadata": {
    "collapsed": true
   },
   "outputs": [],
   "source": []
  },
  {
   "cell_type": "code",
   "execution_count": null,
   "metadata": {
    "collapsed": true
   },
   "outputs": [],
   "source": []
  },
  {
   "cell_type": "code",
   "execution_count": null,
   "metadata": {
    "collapsed": true
   },
   "outputs": [],
   "source": []
  }
 ],
 "metadata": {
  "kernelspec": {
   "display_name": "Python 2",
   "language": "python",
   "name": "python2"
  },
  "language_info": {
   "codemirror_mode": {
    "name": "ipython",
    "version": 2
   },
   "file_extension": ".py",
   "mimetype": "text/x-python",
   "name": "python",
   "nbconvert_exporter": "python",
   "pygments_lexer": "ipython2",
   "version": "2.7.6"
  }
 },
 "nbformat": 4,
 "nbformat_minor": 0
}
