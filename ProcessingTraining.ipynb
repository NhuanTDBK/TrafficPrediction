{
 "cells": [
  {
   "cell_type": "code",
   "execution_count": 1,
   "metadata": {
    "collapsed": false
   },
   "outputs": [],
   "source": [
    "import pandas as pd\n",
    "import numpy as np\n",
    "import sys\n",
    "from pandas import HDFStore\n",
    "import matplotlib.pyplot as pl\n",
    "import lasagne as ls\n",
    "from theano import tensor as T\n",
    "from lasagne.layers import InputLayer, DenseLayer\n",
    "from lasagne.updates import nesterov_momentum\n",
    "from lasagne.nonlinearities import rectify\n",
    "from nolearn.lasagne import NeuralNet\n",
    "from ConfigParser import SafeConfigParser\n",
    "store = HDFStore(\"storeTraffic.h5\")\n",
    "#\"ita_public_tools/output/data.csv\"\n",
    "data = pd.read_csv(\"10min_workload.csv\",names=[\"Count\"])\n",
    "\n",
    "def read_config():\n",
    "    parser = SafeConfigParser()\n",
    "    parser.read('configNeural.cfg')\n",
    "    hidden_layer = int(parser.get(\"Neural\",\"hidden_layer\"))\n",
    "    epochs = int(parser.get(\"Neural\",\"epochs\"))\n",
    "    return hidden_layer, epochs\n",
    "class LoadParam():\n",
    "    def initNN(self,n_input):\n",
    "        #Build layer for MLP\n",
    "        hidden_layer, epochs = read_config()\n",
    "        l_in = ls.layers.InputLayer(shape=(None,n_input),input_var=None)\n",
    "        l_hidden = ls.layers.DenseLayer(l_in,num_units=hidden_layer,nonlinearity=ls.nonlinearities.rectify)\n",
    "        network = l_out = ls.layers.DenseLayer(l_hidden,num_units=1)\n",
    "        print \"Neural network initialize\"\n",
    "        #Init Neural net\n",
    "        net1 = NeuralNet(\n",
    "            layers=network,\n",
    "            # optimization method:\n",
    "            update=nesterov_momentum,\n",
    "            update_learning_rate=0.000001,\n",
    "            update_momentum=0.9,\n",
    "            regression=True,  # flag to indicate we're dealing with regression problem\n",
    "            max_epochs=epochs,  # we want to train this many epochs\n",
    "            verbose=1,\n",
    "        )\n",
    "        return net1\n",
    "    def __init__(self,n_input,type=\"NN\"):\n",
    "        self.n_input = n_input\n",
    "        self.net = self.initNN(n_input)\n",
    "        if(type==\"NN\"):\n",
    "            self.net.load_params_from('Params/saveNeuralNetwork_1e-05_%s.tdn'%n_input)\n",
    "        elif(type==\"GN\"):\n",
    "            self.net.load_params_from('GeneticParams/saveNeuralNetwork_1e-05_%s.tdn'%n_input)\n",
    "    def normalize(self,dataCount,dataTest):\n",
    "        dataNorm = pd.Series(np.zeros(dataCount.shape[0]),dtype=np.float64)\n",
    "        dataNorm = (dataCount - dataTest.min())/(dataTest.max()-dataTest.min())\n",
    "        return dataNorm\n",
    "    def convert(self,data,dataTest):\n",
    "        max = dataTest.max()\n",
    "        min = dataTest.min()\n",
    "        return (data*(max-min)+min)\n",
    "    def generate(self,range_training,range_test=1):\n",
    "        # In[62]:\n",
    "        print \"Loading storage\"\n",
    "        print \"generate data\"\n",
    "        data_training = data[142*range_training[0]:142*range_training[1]]\n",
    "        data_validation = data[142*range_training[1]-self.n_input:142*(range_training+range_test)]\n",
    "        data_test = data[142*range_training[1]:142*(range_training+range_test)]\n",
    "        return data_training,data_test\n",
    "    def predict(self,X_test):\n",
    "#         dataTest= pd.read_sql(\"SELECT count FROM workload where time >= 895096802-%d and time < 895096802+86400\"%(n_input),conn)[\"count\"]\n",
    "        return self.net.predict(X_test)\n",
    "    def score(self,X_test,y_actual):\n",
    "        return self.net.score(X_test,y_actual)"
   ]
  },
  {
   "cell_type": "code",
   "execution_count": 2,
   "metadata": {
    "collapsed": false
   },
   "outputs": [],
   "source": [
    "# data = pd.read_csv(\"10min_workload.csv\",names=[\"Count\"])\n",
    "# lst = (142*30,142*61)\n",
    "# data_total = data[lst[0]:lst[1]]\n",
    "# ax = pl.subplot()\n",
    "# ax.set_color_cycle(['blue','red','green'])\n",
    "# # ax.plot(gn_pred,label=\"Genetic Neural Network\")\n",
    "# t = np.arange(0,data_total.shape[0],142)\n",
    "# ax.plot(data_total,label=\"Actual\")\n",
    "# for i in np.arange(0,data_total.shape[0],142):\n",
    "#     ax.axvline(i,color='r')\n",
    "# ax.legend()\n",
    "# pl.show()"
   ]
  },
  {
   "cell_type": "code",
   "execution_count": 3,
   "metadata": {
    "collapsed": false
   },
   "outputs": [
    {
     "name": "stdout",
     "output_type": "stream",
     "text": [
      "Neural network initialize\n",
      "Could not load parameters to layer 'dense1' because shapes did not match: 19x15 vs 20x10.\n",
      "Could not load parameters to layer 'dense1' because shapes did not match: 15 vs 10.\n",
      "Could not load parameters to layer 'dense2' because shapes did not match: 15x1 vs 10x1.\n",
      "Loaded parameters to layer 'dense2' (shape 1).\n"
     ]
    }
   ],
   "source": [
    "nn = LoadParam(19)"
   ]
  },
  {
   "cell_type": "code",
   "execution_count": 14,
   "metadata": {
    "collapsed": true
   },
   "outputs": [],
   "source": [
    "def initNN(n_input):\n",
    "    #Build layer for MLP\n",
    "    l_in = ls.layers.InputLayer(shape=(None,n_input),input_var=None)\n",
    "    l_hidden = ls.layers.DenseLayer(l_in,num_units=15,nonlinearity=ls.nonlinearities.rectify)\n",
    "    network = l_out = ls.layers.DenseLayer(l_hidden,num_units=1)\n",
    "    print \"Neural network initialize\"\n",
    "    #Init Neural net\n",
    "    net1 = NeuralNet(\n",
    "        layers=network,\n",
    "        # optimization method:\n",
    "        update=nesterov_momentum,\n",
    "        update_learning_rate=0.000001,\n",
    "        update_momentum=0.9,\n",
    "        regression=True,  # flag to indicate we're dealing with regression problem\n",
    "        max_epochs=400,  # we want to train this many epochs\n",
    "        verbose=1,\n",
    "    )\n",
    "    return net1"
   ]
  },
  {
   "cell_type": "code",
   "execution_count": 15,
   "metadata": {
    "collapsed": false
   },
   "outputs": [
    {
     "name": "stdout",
     "output_type": "stream",
     "text": [
      "Neural network initialize\n"
     ]
    }
   ],
   "source": [
    "nn = initNN(19)"
   ]
  },
  {
   "cell_type": "code",
   "execution_count": 16,
   "metadata": {
    "collapsed": false
   },
   "outputs": [
    {
     "name": "stdout",
     "output_type": "stream",
     "text": [
      "Could not load parameters to layer 'dense1' because shapes did not match: 19x15 vs 20x15.\n",
      "Loaded parameters to layer 'dense1' (shape 15).\n",
      "Loaded parameters to layer 'dense2' (shape 15x1).\n",
      "Loaded parameters to layer 'dense2' (shape 1).\n"
     ]
    }
   ],
   "source": [
    "nn.load_params_from('GeneticParams/saveNeuralNetwork_1e-05_%d.tdn'%19)"
   ]
  }
 ],
 "metadata": {
  "kernelspec": {
   "display_name": "Python 2",
   "language": "python",
   "name": "python2"
  },
  "language_info": {
   "codemirror_mode": {
    "name": "ipython",
    "version": 2
   },
   "file_extension": ".py",
   "mimetype": "text/x-python",
   "name": "python",
   "nbconvert_exporter": "python",
   "pygments_lexer": "ipython2",
   "version": "2.7.6"
  }
 },
 "nbformat": 4,
 "nbformat_minor": 0
}
