{
 "cells": [
  {
   "cell_type": "code",
   "execution_count": 1,
   "metadata": {
    "collapsed": true
   },
   "outputs": [],
   "source": [
    "import numpy as np\n",
    "import pandas as pd\n",
    "import matplotlib.pyplot as pl\n",
    "import pickle\n",
    "import sklearn\n",
    "from sklearn.metrics import mean_squared_error\n",
    "import theano\n",
    "import lasagne as ls\n",
    "from theano import tensor as T\n",
    "from lasagne.layers import InputLayer, DenseLayer\n",
    "from lasagne.updates import nesterov_momentum,sgd\n",
    "from lasagne.nonlinearities import rectify\n",
    "from nolearn.lasagne import NeuralNet\n",
    "from nolearn.lasagne import TrainSplit\n",
    "from pandas import HDFStore\n",
    "from DemoPyEvolve import PyEvolve\n",
    "storeResult=HDFStore(\"storeResult.h5\")"
   ]
  },
  {
   "cell_type": "code",
   "execution_count": 2,
   "metadata": {
    "collapsed": false
   },
   "outputs": [],
   "source": [
    "# n_input = 16\n",
    "# n_gen = 400\n",
    "# score = 1\n",
    "# score_min = 1\n",
    "# gen_min = 400\n",
    "# genetic = PyEvolve(n_input)\n",
    "# while((score>=0.001) or (n_gen<100000)):\n",
    "#     print n_gen\n",
    "#     score = genetic.fit(n_gen)\n",
    "#     if(score_min>score):\n",
    "#         score_min = score\n",
    "#     if(gen_min>n_gen):\n",
    "#         gen_min = n_gen\n",
    "#     n_gen += 100\n",
    "# print score_min\n",
    "# print gen_min"
   ]
  },
  {
   "cell_type": "code",
   "execution_count": null,
   "metadata": {
    "collapsed": true
   },
   "outputs": [],
   "source": []
  }
 ],
 "metadata": {
  "kernelspec": {
   "display_name": "Python 2",
   "language": "python",
   "name": "python2"
  },
  "language_info": {
   "codemirror_mode": {
    "name": "ipython",
    "version": 2
   },
   "file_extension": ".py",
   "mimetype": "text/x-python",
   "name": "python",
   "nbconvert_exporter": "python",
   "pygments_lexer": "ipython2",
   "version": "2.7.6"
  }
 },
 "nbformat": 4,
 "nbformat_minor": 0
}
