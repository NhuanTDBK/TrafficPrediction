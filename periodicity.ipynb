{
 "cells": [
  {
   "cell_type": "code",
   "execution_count": 1,
   "metadata": {
    "collapsed": false
   },
   "outputs": [],
   "source": [
    "import numpy as np\n",
    "import matplotlib.pyplot as plt\n",
    "\n",
    "from sklearn.cluster import KMeans\n",
    "from sklearn.datasets import make_blobs\n",
    "import pandas as pd\n",
    "from pandas import HDFStore\n",
    "\n",
    "from scipy import signal"
   ]
  },
  {
   "cell_type": "code",
   "execution_count": 18,
   "metadata": {
    "collapsed": false
   },
   "outputs": [
    {
     "data": {
      "text/plain": [
       "<class 'pandas.io.pytables.HDFStore'>\n",
       "File path: storeTraffic.h5\n",
       "/auto                      series       (shape->[1])  \n",
       "/connTest                  series       (shape->[142])\n",
       "/connTotal                 series       (shape->[852])\n",
       "/connTrain                 series       (shape->[710])\n",
       "/raw_conn_test             series       (shape->[142])\n",
       "/raw_conn_train            series       (shape->[710])"
      ]
     },
     "execution_count": 18,
     "metadata": {},
     "output_type": "execute_result"
    }
   ],
   "source": [
    "# store = HDFStore(\"storeTraffic.h5\")\n",
    "# store"
   ]
  },
  {
   "cell_type": "code",
   "execution_count": 2,
   "metadata": {
    "collapsed": false
   },
   "outputs": [],
   "source": [
    "raw_data = pd.read_csv(\"10min_workload.csv\")\n",
    "n_row = raw_data.size\n",
    "workload = np.asarray([raw_data.ix[i][0]  for i in range(1,n_row)])"
   ]
  },
  {
   "cell_type": "code",
   "execution_count": 23,
   "metadata": {
    "collapsed": false
   },
   "outputs": [
    {
     "name": "stdout",
     "output_type": "stream",
     "text": [
      "(710L,)\n"
     ]
    }
   ],
   "source": [
    "workload = np.array(store[\"raw_conn_train\"])\n",
    "print(workload.shape)"
   ]
  },
  {
   "cell_type": "code",
   "execution_count": 9,
   "metadata": {
    "collapsed": false
   },
   "outputs": [],
   "source": [
    "#tinh autocorrelation\n",
    "# dich ve goc toa do truoc khi chay\n",
    "n = len(workload)\n",
    "variance = workload.var()\n",
    "workload2= workload-workload.mean()\n",
    "r=np.correlate(workload2, workload2,mode = 'full')[-n:]\n",
    "# assert np.allclose(r, np.array([(workload[:n-k]*workload[-(n-k):]).sum() for k in range(n)]))\n",
    "result = r/(n*variance)\n",
    "# result = r/(variance*(np.arange(n, 0, -1)))\n",
    "plt.plot(np.array(range(0,n))/144.0,result)\n",
    "\n",
    "plt.figure(2)\n",
    "plt.plot(np.array(range(0,workload2.size))/144.0, workload);\n",
    "plt.show()"
   ]
  },
  {
   "cell_type": "code",
   "execution_count": 21,
   "metadata": {
    "collapsed": false
   },
   "outputs": [
    {
     "ename": "SyntaxError",
     "evalue": "invalid syntax (<ipython-input-21-6ef0d6436813>, line 5)",
     "output_type": "error",
     "traceback": [
      "\u001b[1;36m  File \u001b[1;32m\"<ipython-input-21-6ef0d6436813>\"\u001b[1;36m, line \u001b[1;32m5\u001b[0m\n\u001b[1;33m    [pklg,lclg] = findpeaks(autocor, ...\u001b[0m\n\u001b[1;37m                                     ^\u001b[0m\n\u001b[1;31mSyntaxError\u001b[0m\u001b[1;31m:\u001b[0m invalid syntax\n"
     ]
    }
   ],
   "source": [
    "# tinh chu ky dua vao autcorrelation\n",
    "[pksh,lcsh] = findpeaks(autocor);\n",
    "short = mean(diff(lcsh))/fs\n",
    "\n",
    "[pklg,lclg] = findpeaks(autocor, ...\n",
    "    'MinPeakDistance',ceil(short)*fs/2,'MinPeakheight',0.1);\n",
    "long = mean(diff(lclg))/fs\n",
    "\n",
    "hold on\n",
    "pks = plot(lags(lcsh)/fs,pksh,'or', ...\n",
    "    lags(lclg)/fs,pklg+0.05,'vk');\n",
    "hold off\n",
    "legend(pks,[repmat('Period: ',[2 1]) num2str([short;long],0)]) "
   ]
  },
  {
   "cell_type": "code",
   "execution_count": 10,
   "metadata": {
    "collapsed": false
   },
   "outputs": [],
   "source": [
    "#circular autocorrelation\n",
    "\n",
    "lag = range(1,144*60)\n",
    "autocorr = [np.correlate(workload,np.roll(workload,-i))[0] / workload.size for i in lag]\n",
    "plt.plot(np.array(range(1,144*60))/144.0,autocorr)\n",
    "# plt.figure(2)\n",
    "# dif = np.diff(autocorr,n=2)\n",
    "# plt.plot(dif)\n",
    "\n",
    "plt.show()"
   ]
  },
  {
   "cell_type": "code",
   "execution_count": 7,
   "metadata": {
    "collapsed": false
   },
   "outputs": [],
   "source": [
    "# mien tan so\n",
    "workload2= workload-workload.mean()\n",
    "fs = 6*24\n",
    "f, Pxx_den = signal.periodogram(workload, fs)\n",
    "plt.figure(4)\n",
    "plt.plot(f, Pxx_den)\n",
    "plt.xlabel('frequency [Hz]')\n",
    "plt.ylabel('PSD [V**2/Hz]')\n",
    "plt.show()\n",
    "\n"
   ]
  },
  {
   "cell_type": "code",
   "execution_count": 26,
   "metadata": {
    "collapsed": false
   },
   "outputs": [
    {
     "ename": "IndentationError",
     "evalue": "expected an indented block (<ipython-input-26-ff63fef5ac8c>, line 2)",
     "output_type": "error",
     "traceback": [
      "\u001b[1;36m  File \u001b[1;32m\"<ipython-input-26-ff63fef5ac8c>\"\u001b[1;36m, line \u001b[1;32m2\u001b[0m\n\u001b[1;33m    \u001b[0m\n\u001b[1;37m    ^\u001b[0m\n\u001b[1;31mIndentationError\u001b[0m\u001b[1;31m:\u001b[0m expected an indented block\n"
     ]
    }
   ],
   "source": [
    "for i in workload:\n",
    "    print i , \", \" ,"
   ]
  },
  {
   "cell_type": "code",
   "execution_count": 24,
   "metadata": {
    "collapsed": false
   },
   "outputs": [
    {
     "name": "stdout",
     "output_type": "stream",
     "text": [
      "[  1.36154059e-03   8.25641393e-04  -1.22591144e-03   3.15116633e-04\n",
      "  -9.16465394e-05   4.20553850e-04   1.07478507e-03  -4.59463972e-03\n",
      "   3.38214004e-03  -2.46598093e-04]\n"
     ]
    }
   ],
   "source": [
    "print dif[110:120]\n"
   ]
  },
  {
   "cell_type": "code",
   "execution_count": 25,
   "metadata": {
    "collapsed": false
   },
   "outputs": [
    {
     "name": "stdout",
     "output_type": "stream",
     "text": [
      "[ 0.00174943 -0.00361615  0.00044671  0.00044636  0.00050024  0.00041486]\n"
     ]
    }
   ],
   "source": [
    "print dif[199:205]"
   ]
  },
  {
   "cell_type": "code",
   "execution_count": 14,
   "metadata": {
    "collapsed": false
   },
   "outputs": [
    {
     "data": {
      "text/plain": [
       "1.25"
      ]
     },
     "execution_count": 14,
     "metadata": {},
     "output_type": "execute_result"
    }
   ],
   "source": [
    "np.array(range(1,5)).var()"
   ]
  },
  {
   "cell_type": "code",
   "execution_count": 38,
   "metadata": {
    "collapsed": false
   },
   "outputs": [
    {
     "data": {
      "text/plain": [
       "array([2, 3, 1])"
      ]
     },
     "execution_count": 38,
     "metadata": {},
     "output_type": "execute_result"
    }
   ],
   "source": [
    "np.roll([1,2,3],-1)"
   ]
  },
  {
   "cell_type": "code",
   "execution_count": null,
   "metadata": {
    "collapsed": true
   },
   "outputs": [],
   "source": []
  }
 ],
 "metadata": {
  "kernelspec": {
   "display_name": "Python 2",
   "language": "python",
   "name": "python2"
  },
  "language_info": {
   "codemirror_mode": {
    "name": "ipython",
    "version": 2
   },
   "file_extension": ".py",
   "mimetype": "text/x-python",
   "name": "python",
   "nbconvert_exporter": "python",
   "pygments_lexer": "ipython2",
   "version": "2.7.10"
  }
 },
 "nbformat": 4,
 "nbformat_minor": 0
}
