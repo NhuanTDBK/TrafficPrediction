{
 "cells": [
  {
   "cell_type": "code",
   "execution_count": 1,
   "metadata": {
    "collapsed": false
   },
   "outputs": [],
   "source": [
    "import numpy as np\n",
    "import matplotlib.pyplot as plt\n",
    "\n",
    "from sklearn.cluster import KMeans\n",
    "from sklearn.datasets import make_blobs\n",
    "import pandas as pd\n",
    "from pandas import HDFStore\n",
    "\n",
    "from scipy import signal"
   ]
  },
  {
   "cell_type": "code",
   "execution_count": 18,
   "metadata": {
    "collapsed": false
   },
   "outputs": [
    {
     "data": {
      "text/plain": [
       "<class 'pandas.io.pytables.HDFStore'>\n",
       "File path: storeTraffic.h5\n",
       "/auto                      series       (shape->[1])  \n",
       "/connTest                  series       (shape->[142])\n",
       "/connTotal                 series       (shape->[852])\n",
       "/connTrain                 series       (shape->[710])\n",
       "/raw_conn_test             series       (shape->[142])\n",
       "/raw_conn_train            series       (shape->[710])"
      ]
     },
     "execution_count": 18,
     "metadata": {},
     "output_type": "execute_result"
    }
   ],
   "source": [
    "# store = HDFStore(\"storeTraffic.h5\")\n",
    "# store"
   ]
  },
  {
   "cell_type": "code",
   "execution_count": 4,
   "metadata": {
    "collapsed": false
   },
   "outputs": [],
   "source": [
    "raw_data = pd.read_csv(\"10min_workload.csv\")\n",
    "n_row = raw_data.shape[0]\n",
    "workload = np.asarray([raw_data.ix[i][0]  for i in range(1,n_row)])\n",
    "workload = workload [144*2:144*7]"
   ]
  },
  {
   "cell_type": "code",
   "execution_count": 3,
   "metadata": {
    "collapsed": false
   },
   "outputs": [
    {
     "ename": "NameError",
     "evalue": "name 'store' is not defined",
     "output_type": "error",
     "traceback": [
      "\u001b[1;31m---------------------------------------------------------------------------\u001b[0m",
      "\u001b[1;31mNameError\u001b[0m                                 Traceback (most recent call last)",
      "\u001b[1;32m<ipython-input-3-9ee262f6e34e>\u001b[0m in \u001b[0;36m<module>\u001b[1;34m()\u001b[0m\n\u001b[1;32m----> 1\u001b[1;33m \u001b[0mworkload\u001b[0m \u001b[1;33m=\u001b[0m \u001b[0mnp\u001b[0m\u001b[1;33m.\u001b[0m\u001b[0marray\u001b[0m\u001b[1;33m(\u001b[0m\u001b[0mstore\u001b[0m\u001b[1;33m[\u001b[0m\u001b[1;34m\"raw_conn_train\"\u001b[0m\u001b[1;33m]\u001b[0m\u001b[1;33m)\u001b[0m\u001b[1;33m\u001b[0m\u001b[0m\n\u001b[0m\u001b[0;32m      2\u001b[0m \u001b[1;32mprint\u001b[0m\u001b[1;33m(\u001b[0m\u001b[0mworkload\u001b[0m\u001b[1;33m.\u001b[0m\u001b[0mshape\u001b[0m\u001b[1;33m)\u001b[0m\u001b[1;33m\u001b[0m\u001b[0m\n",
      "\u001b[1;31mNameError\u001b[0m: name 'store' is not defined"
     ]
    }
   ],
   "source": [
    "workload = np.array(store[\"raw_conn_train\"])\n",
    "print(workload.shape)"
   ]
  },
  {
   "cell_type": "code",
   "execution_count": 5,
   "metadata": {
    "collapsed": false
   },
   "outputs": [],
   "source": [
    "#tinh autocorrelation\n",
    "# dich ve goc toa do truoc khi chay\n",
    "n = len(workload)\n",
    "variance = workload.var()\n",
    "workload2= workload-workload.mean()\n",
    "r=np.correlate(workload2, workload2,mode = 'full')[-n:]\n",
    "# assert np.allclose(r, np.array([(workload[:n-k]*workload[-(n-k):]).sum() for k in range(n)]))\n",
    "result = r/(n*variance)\n",
    "# result = r/(variance*(np.arange(n, 0, -1)))\n",
    "plt.plot(np.array(range(0,n))/144.0,result)\n",
    "\n",
    "plt.figure(2)\n",
    "plt.plot(np.array(range(0,workload2.size))/144.0, workload);\n",
    "plt.show()"
   ]
  },
  {
   "cell_type": "code",
   "execution_count": 11,
   "metadata": {
    "collapsed": false
   },
   "outputs": [
    {
     "name": "stderr",
     "output_type": "stream",
     "text": [
      "/usr/lib/python2.7/dist-packages/scipy/signal/spectral.py:359: DeprecationWarning: Implicitly casting between incompatible kinds. In a future numpy release, this will raise an error. Use casting=\"unsafe\" if this is intentional.\n",
      "  Pxx[..., 1:-1] *= 2*scale\n",
      "/usr/lib/python2.7/dist-packages/scipy/signal/spectral.py:360: DeprecationWarning: Implicitly casting between incompatible kinds. In a future numpy release, this will raise an error. Use casting=\"unsafe\" if this is intentional.\n",
      "  Pxx[..., (0,-1)] *= scale\n"
     ]
    }
   ],
   "source": [
    "# mien tan so\n",
    "workload2= workload-workload.mean()\n",
    "fs = 6*24\n",
    "f, Pxx_den = signal.periodogram(workload, fs)\n",
    "# chon nguong 40 % \n",
    "threshold = 0.4 * np.max(Pxx_den);\n",
    "index_period_candidate = [i for i in range(1,Pxx_den.size-1) if ((Pxx_den[i] > threshold) and (Pxx_den[i] > Pxx_den[i+1]) and (Pxx_den[i] > Pxx_den[i-1]))]\n",
    "period_candidate = [f[i] for i in index_period_candidate]\n",
    "period_candidate_pxx = [Pxx_den[i] for i in index_period_candidate]\n",
    "\n",
    "fig = plt.figure(4)\n",
    "ax = fig.add_subplot(111)\n",
    "\n",
    "plt.plot(f, Pxx_den)\n",
    "plt.scatter(period_candidate, period_candidate_pxx,  c='red')\n",
    "for i,j in zip(period_candidate,period_candidate_pxx):\n",
    "    ax.annotate('= %s' %i, xy=(i,j), xytext=(10,0), textcoords='offset points')\n",
    "    ax.annotate('P' , xy=(i,j))\n",
    "    \n",
    "plt.xlabel('Time')\n",
    "plt.ylabel('Power')\n",
    "plt.xlim(0, 14)\n",
    "plt.show()\n",
    "\n",
    "\n"
   ]
  },
  {
   "cell_type": "code",
   "execution_count": 13,
   "metadata": {
    "collapsed": false
   },
   "outputs": [],
   "source": [
    "#circular autocorrelation\n",
    "\n",
    "lag = range(1,144*5)\n",
    "autocorr = [np.correlate(workload,np.roll(workload,-i))[0] / workload.size for i in lag]\n",
    "ACF_candidate = [autocorr[int(i*144)] for i in period_candidate]\n",
    "fig = plt.figure(5)\n",
    "ax = fig.add_subplot(111)\n",
    "plt.plot(np.array(range(1,144*5))/144.0,autocorr)\n",
    "plt.scatter(period_candidate, ACF_candidate, c = 'red')\n",
    "for i,j in zip(period_candidate,ACF_candidate):\n",
    "    ax.annotate('%s day' %i, xy=(i,j), xytext=(3,0), textcoords='offset points')\n",
    "    ax.annotate('' , xy=(i,j))\n",
    "# plt.figure(2)\n",
    "# dif = np.diff(autocorr,n=2)\n",
    "# plt.plot(dif)\n",
    "plt.xlim(0, 5)\n",
    "plt.xlabel('Time')\n",
    "plt.ylabel('Circular ACF')\n",
    "\n",
    "plt.show()"
   ]
  },
  {
   "cell_type": "code",
   "execution_count": null,
   "metadata": {
    "collapsed": true
   },
   "outputs": [],
   "source": []
  }
 ],
 "metadata": {
  "kernelspec": {
   "display_name": "Python 2",
   "language": "python",
   "name": "python2"
  },
  "language_info": {
   "codemirror_mode": {
    "name": "ipython",
    "version": 2
   },
   "file_extension": ".py",
   "mimetype": "text/x-python",
   "name": "python",
   "nbconvert_exporter": "python",
   "pygments_lexer": "ipython2",
   "version": "2.7.6"
  }
 },
 "nbformat": 4,
 "nbformat_minor": 0
}
