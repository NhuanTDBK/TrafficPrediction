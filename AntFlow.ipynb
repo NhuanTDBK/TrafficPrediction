{
 "metadata": {
  "name": "",
  "signature": "sha256:e9dd68cefa54cc2ccf64597d34942bff8e47bfeeeb52cacb05f04bf254bd010e"
 },
 "nbformat": 3,
 "nbformat_minor": 0,
 "worksheets": [
  {
   "cells": [
    {
     "cell_type": "code",
     "collapsed": false,
     "input": [
      "from SplitTrainTest import SplitTrainTest\n",
      "from sklearn.grid_search import GridSearchCV\n",
      "from initializer import *\n",
      "from TrafficFeeder import TrafficFeeder\n",
      "from NeuralFlow import NeuralFlowRegressor\n",
      "from joblib import Parallel,delayed\n",
      "from multiprocessing import Queue\n",
      "from timeit import timeit\n",
      "from multiprocessing import Pool\n",
      "def get_params():\n",
      "    dataFeeder = TrafficFeeder()\n",
      "    out = Parallel(n_jobs=-1)(delayed(put_queue)\n",
      "                        (n_input,dataFeeder) for n_input in range(4,20))\n",
      "    # out = [put_queue(n_input,dataFeeder) for n_input in range(4,20)]\n",
      "    return out\n",
      "def put_queue(n_input,dataFeeder):\n",
      "    X_train,y_train = dataFeeder.fetch_traffic_training(n_input,1,(40,46))\n",
      "    X_test,y_test = dataFeeder.fetch_traffic_test(n_input,1,(46,48))\n",
      "    retrieve = [n_input,(X_train,y_train,X_test,y_test)]\n",
      "    return retrieve\n",
      "def model_fit(param):\n",
      "    "
     ],
     "language": "python",
     "metadata": {},
     "outputs": [],
     "prompt_number": 2
    },
    {
     "cell_type": "code",
     "collapsed": false,
     "input": [
      "params = get_params()"
     ],
     "language": "python",
     "metadata": {},
     "outputs": [],
     "prompt_number": 3
    },
    {
     "cell_type": "code",
     "collapsed": false,
     "input": [
      "# def f(a):\n",
      "#     x = a[0]\n",
      "#     y = a[1]\n",
      "#     return x+y\n",
      "# pool = Pool(processes=4)\n",
      "# pool.map(f,[(1,2),(1,2)])"
     ],
     "language": "python",
     "metadata": {},
     "outputs": [
      {
       "metadata": {},
       "output_type": "pyout",
       "prompt_number": 7,
       "text": [
        "[3, 3]"
       ]
      }
     ],
     "prompt_number": 7
    },
    {
     "cell_type": "code",
     "collapsed": false,
     "input": [
      "a = {\n",
      "    \"fit\":1\n",
      "}"
     ],
     "language": "python",
     "metadata": {},
     "outputs": [],
     "prompt_number": 9
    },
    {
     "cell_type": "code",
     "collapsed": false,
     "input": [
      "a[\"a\"]=1\n",
      "a"
     ],
     "language": "python",
     "metadata": {},
     "outputs": [
      {
       "metadata": {},
       "output_type": "pyout",
       "prompt_number": 10,
       "text": [
        "{'a': 1, 'fit': 1}"
       ]
      }
     ],
     "prompt_number": 10
    }
   ],
   "metadata": {}
  }
 ]
}