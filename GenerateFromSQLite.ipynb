{
 "cells": [
  {
   "cell_type": "code",
   "execution_count": 43,
   "metadata": {
    "collapsed": true
   },
   "outputs": [],
   "source": [
    "import pandas as pd\n",
    "import numpy as np\n",
    "import matplotlib.pyplot as pl\n",
    "from pandas import HDFStore\n",
    "import sqlite3\n",
    "import datetime\n",
    "from datetime import datetime"
   ]
  },
  {
   "cell_type": "code",
   "execution_count": 28,
   "metadata": {
    "collapsed": true
   },
   "outputs": [],
   "source": [
    "conn = sqlite3.connect('trafficdb')\n",
    "raw_data = pd.read_sql(\"SELECT * FROM workload\",conn)"
   ]
  },
  {
   "cell_type": "code",
   "execution_count": 82,
   "metadata": {
    "collapsed": false
   },
   "outputs": [
    {
     "name": "stdout",
     "output_type": "stream",
     "text": [
      "Count list\n"
     ]
    }
   ],
   "source": [
    "data = pd.read_sql(\"SELECT count FROM workload where time < 895096802\",conn)[\"count\"]\n",
    "\n",
    "range_list = len(data)\n",
    "jump_list = 600\n",
    "init_list = 0;\n",
    "length = range_list/jump_list\n",
    "# In[ ]:\n",
    "\n",
    "dataCount = np.array(np.zeros(length))\n",
    "print \"Count list\"\n",
    "for i in np.arange(0,length):\n",
    "    tmp = data[init_list:init_list+jump_list]\n",
    "    dataCount[i] = tmp.sum()\n",
    "    init_list+=jump_list"
   ]
  },
  {
   "cell_type": "code",
   "execution_count": 101,
   "metadata": {
    "collapsed": true
   },
   "outputs": [],
   "source": [
    "ax = pl.subplot()\n",
    "ax.set_color_cycle(['blue','red','green'])\n",
    "# ax.plot(gn_pred,label=\"Genetic Neural Network\")\n",
    "ax.plot(dataCount[200:],label=\"Actual\")\n",
    "ax.legend()\n",
    "pl.show()"
   ]
  },
  {
   "cell_type": "code",
   "execution_count": 102,
   "metadata": {
    "collapsed": false
   },
   "outputs": [
    {
     "name": "stdout",
     "output_type": "stream",
     "text": [
      "Count list\n"
     ]
    }
   ],
   "source": [
    "dataTotal = pd.read_sql(\"SELECT count FROM workload\",conn)[\"count\"]\n",
    "\n",
    "range_list = len(dataTotal)\n",
    "jump_list = 600\n",
    "init_list = 0;\n",
    "length = range_list/jump_list\n",
    "# In[ ]:\n",
    "\n",
    "dataTotalCount = np.array(np.zeros(length))\n",
    "print \"Count list\"\n",
    "for i in np.arange(0,length):\n",
    "    tmp = dataTotal[init_list:init_list+jump_list]\n",
    "    dataTotalCount[i] = tmp.sum()\n",
    "    init_list+=jump_list"
   ]
  },
  {
   "cell_type": "code",
   "execution_count": 103,
   "metadata": {
    "collapsed": false
   },
   "outputs": [
    {
     "name": "stdout",
     "output_type": "stream",
     "text": [
      "Loading storage\n"
     ]
    }
   ],
   "source": [
    "from pandas import HDFStore\n",
    "def normalize(dataCount):\n",
    "    dataNorm = pd.Series(np.zeros(dataCount.shape[0]),dtype=np.float64)\n",
    "    dataNorm = (dataCount - dataCount.min())/(dataCount.max()-dataCount.min())\n",
    "    return dataNorm\n",
    "store = HDFStore(\"storeTraffic.h5\")\n",
    "# In[62]:\n",
    "dataTraining = dataCount[200:]\n",
    "print \"Loading storage\"\n",
    "store[\"connTrain\"]=normalize(pd.Series(dataTraining))\n",
    "store[\"connTest\"] = normalize(pd.Series(dataTraining))\n",
    "store[\"raw_conn_train\"]=pd.Series(dataTraining)\n",
    "store[\"raw_conn_test\"] = pd.Series(dataTraining)\n",
    "store[\"raw_data\"]=pd.Series(dataTotalCount)\n",
    "store.close()"
   ]
  },
  {
   "cell_type": "code",
   "execution_count": 104,
   "metadata": {
    "collapsed": false
   },
   "outputs": [
    {
     "data": {
      "text/plain": [
       "<class 'pandas.io.pytables.HDFStore'>\n",
       "File path: storeTraffic.h5\n",
       "/connTest                  series       (shape->[231]) \n",
       "/connTrain                 series       (shape->[231]) \n",
       "/raw_conn_test             series       (shape->[231]) \n",
       "/raw_conn_train            series       (shape->[231]) \n",
       "/raw_data                  series       (shape->[1995])"
      ]
     },
     "execution_count": 104,
     "metadata": {},
     "output_type": "execute_result"
    }
   ],
   "source": [
    "store = HDFStore(\"storeTraffic.h5\")\n",
    "store\n",
    "# from datetime import datetime\n",
    "\n",
    "# print datetime.fromtimestamp(raw_data.irow(0)[\"time\"]+86400*2)\n",
    "\n",
    "#2012-08-29 11:38:22\n"
   ]
  },
  {
   "cell_type": "code",
   "execution_count": 105,
   "metadata": {
    "collapsed": false
   },
   "outputs": [
    {
     "data": {
      "text/plain": [
       "14"
      ]
     },
     "execution_count": 105,
     "metadata": {},
     "output_type": "execute_result"
    }
   ],
   "source": [
    "1995/142"
   ]
  },
  {
   "cell_type": "code",
   "execution_count": null,
   "metadata": {
    "collapsed": true
   },
   "outputs": [],
   "source": []
  }
 ],
 "metadata": {
  "kernelspec": {
   "display_name": "Python 2",
   "language": "python",
   "name": "python2"
  },
  "language_info": {
   "codemirror_mode": {
    "name": "ipython",
    "version": 2
   },
   "file_extension": ".py",
   "mimetype": "text/x-python",
   "name": "python",
   "nbconvert_exporter": "python",
   "pygments_lexer": "ipython2",
   "version": "2.7.6"
  }
 },
 "nbformat": 4,
 "nbformat_minor": 0
}
