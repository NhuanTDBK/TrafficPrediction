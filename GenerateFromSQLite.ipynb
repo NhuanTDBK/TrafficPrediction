{
 "cells": [
  {
   "cell_type": "code",
   "execution_count": 3,
   "metadata": {
    "collapsed": true
   },
   "outputs": [],
   "source": [
    "import pandas as pd\n",
    "import numpy as np\n",
    "import matplotlib.pyplot as pl\n",
    "from pandas import HDFStore\n",
    "import sqlite3\n",
    "import datetime\n",
    "from datetime import datetime"
   ]
  },
  {
   "cell_type": "code",
   "execution_count": 4,
   "metadata": {
    "collapsed": true
   },
   "outputs": [],
   "source": [
    "conn = sqlite3.connect('trafficdb')\n",
    "raw_data = pd.read_sql(\"SELECT * FROM workload\",conn)\n",
    "raw_data_conn = pd.read_sql(\"SELECT count FROM workload\",conn)"
   ]
  },
  {
   "cell_type": "code",
   "execution_count": null,
   "metadata": {
    "collapsed": false
   },
   "outputs": [],
   "source": [
    "# data = pd.read_sql(\"SELECT count FROM workload where time < 895096802\",conn)[\"count\"]\n",
    "range_list = len(raw_data_conn)\n",
    "jump_list = 600\n",
    "init_list = 0;\n",
    "length = range_list/jump_list\n",
    "# In[ ]:\n",
    "\n",
    "dataCount = pd.Series(np.zeros(length))\n",
    "print \"Count list\"\n",
    "for i in np.arange(0,length):\n",
    "    tmp = raw_data_conn[init_list:init_list+jump_list]\n",
    "    dataCount[i] = tmp.sum()\n",
    "    init_list+=jump_list"
   ]
  },
  {
   "cell_type": "code",
   "execution_count": null,
   "metadata": {
    "collapsed": false
   },
   "outputs": [],
   "source": [
    "dataCount.shape[0], raw_data_conn.shape[0]/600"
   ]
  },
  {
   "cell_type": "code",
   "execution_count": null,
   "metadata": {
    "collapsed": false
   },
   "outputs": [],
   "source": [
    "ax = pl.subplot()\n",
    "ax.set_color_cycle(['blue','red','green'])\n",
    "# ax.plot(gn_pred,label=\"Genetic Neural Network\")\n",
    "t = np.arange(0,dataCount.shape[0],142)\n",
    "ax.plot(dataCount,label=\"Actual\")\n",
    "for i in np.arange(0,dataCount.shape[0],142):\n",
    "    ax.axvline(i,color='r')\n",
    "ax.legend()\n",
    "pl.show()"
   ]
  },
  {
   "cell_type": "code",
   "execution_count": null,
   "metadata": {
    "collapsed": true
   },
   "outputs": [],
   "source": [
    "ex=dataCount[142*3:142*5]\n",
    "ax = pl.subplot()\n",
    "ax.set_color_cycle(['blue','red','green'])\n",
    "# ax.plot(gn_pred,label=\"Genetic Neural Network\")\n",
    "t = np.arange(0,ex.shape[0],142)\n",
    "ax.plot(ex,label=\"Actual\")\n",
    "for i in np.arange(0,ex.shape[0],142):\n",
    "    ax.axvline(i,color='r')\n",
    "ax.legend()\n",
    "pl.show()"
   ]
  },
  {
   "cell_type": "code",
   "execution_count": null,
   "metadata": {
    "collapsed": false
   },
   "outputs": [],
   "source": [
    "from pandas import HDFStore\n",
    "def normalize(dataCount):\n",
    "    dataNorm = pd.Series(np.zeros(dataCount.shape[0]),dtype=np.float64)\n",
    "    dataNorm = (dataCount - dataCount.min())/(dataCount.max()-dataCount.min())\n",
    "    return dataNorm\n",
    "# store = HDFStore(\"storeTraffic.h5\")\n",
    "# # In[62]:\n",
    "# dataTraining = dataCount[142*3:142*5]\n",
    "# print \"Loading storage\"\n",
    "# store[\"connTrain\"]=normalize(pd.Series(dataTraining))\n",
    "# store[\"connTest\"] = normalize(pd.Series(dataTraining))\n",
    "# store[\"raw_conn_train\"]=pd.Series(dataTraining)\n",
    "# store[\"raw_conn_test\"] = pd.Series(dataTraining)\n",
    "\n",
    "# store.close()"
   ]
  },
  {
   "cell_type": "code",
   "execution_count": null,
   "metadata": {
    "collapsed": false
   },
   "outputs": [],
   "source": [
    "store = HDFStore(\"storeTraffic.h5\")\n",
    "store[\"raw_data_conn\"]=normalize(pd.Series(dataCount))\n",
    "store\n",
    "# from datetime import datetime\n",
    "\n",
    "# print datetime.fromtimestamp(raw_data.irow(0)[\"time\"]+86400*2)\n",
    "\n",
    "#2012-08-29 11:38:22"
   ]
  },
  {
   "cell_type": "code",
   "execution_count": 1,
   "metadata": {
    "collapsed": false
   },
   "outputs": [
    {
     "name": "stdout",
     "output_type": "stream",
     "text": [
      "Generate X_traing, y_traing\n",
      "X_training loading...\n",
      "y_training loading...\n",
      "X_test...\n",
      "y_test...\n"
     ]
    }
   ],
   "source": [
    "from __init__ import *\n",
    "x,y,z,t = get_training(7,1)"
   ]
  },
  {
   "cell_type": "code",
   "execution_count": 2,
   "metadata": {
    "collapsed": false
   },
   "outputs": [
    {
     "data": {
      "text/plain": [
       "((277, 8), (277, 8))"
      ]
     },
     "execution_count": 2,
     "metadata": {},
     "output_type": "execute_result"
    }
   ],
   "source": [
    "x.shape,z.shape"
   ]
  },
  {
   "cell_type": "code",
   "execution_count": null,
   "metadata": {
    "collapsed": true
   },
   "outputs": [],
   "source": [
    "t = []\n",
    "t.append(1)"
   ]
  }
 ],
 "metadata": {
  "kernelspec": {
   "display_name": "Python 2",
   "language": "python",
   "name": "python2"
  },
  "language_info": {
   "codemirror_mode": {
    "name": "ipython",
    "version": 2
   },
   "file_extension": ".py",
   "mimetype": "text/x-python",
   "name": "python",
   "nbconvert_exporter": "python",
   "pygments_lexer": "ipython2",
   "version": "2.7.6"
  }
 },
 "nbformat": 4,
 "nbformat_minor": 0
}
