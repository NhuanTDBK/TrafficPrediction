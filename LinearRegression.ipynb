{
 "cells": [
  {
   "cell_type": "code",
   "execution_count": 59,
   "metadata": {
    "collapsed": false
   },
   "outputs": [],
   "source": [
    "import numpy as np\n",
    "import matplotlib.pyplot as plt\n",
    "\n",
    "from sklearn.cluster import KMeans\n",
    "from sklearn.datasets import make_blobs\n",
    "import pandas as pd\n",
    "from pandas import HDFStore\n",
    "\n",
    "from scipy import signal\n",
    "from sklearn import linear_model\n",
    "\n"
   ]
  },
  {
   "cell_type": "code",
   "execution_count": 60,
   "metadata": {
    "collapsed": false
   },
   "outputs": [],
   "source": [
    "raw_data = pd.read_csv(\"10min_workload.csv\")\n",
    "n_row = raw_data.size\n",
    "workload = np.asarray([raw_data.ix[i][0]  for i in range(1,n_row)])"
   ]
  },
  {
   "cell_type": "code",
   "execution_count": 61,
   "metadata": {
    "collapsed": false
   },
   "outputs": [],
   "source": [
    "# linear regression\n",
    "clf = linear_model.LinearRegression()\n",
    "windwows_size = 5\n",
    "day_start = 2\n",
    "day_finish = 3\n",
    "training_range = [144*(day_start-1), 144*day_finish]\n",
    "X_training = [[workload[i+j] for j in range(0, windwows_size)] for i in range(training_range[0],training_range[1]+1-windwows_size)]\n",
    "Y_training = [workload[i] for i in range(training_range[0]+windwows_size, training_range[1]+1)]\n",
    "clf.fit(X_training, Y_training)\n",
    "\n",
    "Y_predict = [clf.predict([workload[i+j] for j in range(0, windwows_size)]) for i in range(training_range[0],training_range[1]+1-windwows_size)]\n",
    "# plot\n",
    "plt.plot(range(training_range[0],training_range[1]+1-windwows_size), Y_training, 'r')\n",
    "plt.plot(range(training_range[0],training_range[1]+1-windwows_size),Y_predict, 'b')\n",
    "plt.legend(['actual', 'predict'], loc='upper left')\n",
    "plt.title('windows_size = '+str(windwows_size)+'\\nR2 Prediction Accuracy = '+ str(clf.score(X_training, Y_training)))\n",
    "plt.show()"
   ]
  },
  {
   "cell_type": "code",
   "execution_count": null,
   "metadata": {
    "collapsed": true
   },
   "outputs": [],
   "source": []
  }
 ],
 "metadata": {
  "kernelspec": {
   "display_name": "Python 2",
   "language": "python",
   "name": "python2"
  },
  "language_info": {
   "codemirror_mode": {
    "name": "ipython",
    "version": 2
   },
   "file_extension": ".py",
   "mimetype": "text/x-python",
   "name": "python",
   "nbconvert_exporter": "python",
   "pygments_lexer": "ipython2",
   "version": "2.7.10"
  }
 },
 "nbformat": 4,
 "nbformat_minor": 0
}
