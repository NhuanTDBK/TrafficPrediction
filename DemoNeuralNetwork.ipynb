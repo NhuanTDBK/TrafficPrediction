{
 "metadata": {
  "name": "",
  "signature": "sha256:b283f1ae1d266b38c76f3f86b2ce6e9308b5a0786cbfe51fba7026e4b4428e20"
 },
 "nbformat": 3,
 "nbformat_minor": 0,
 "worksheets": [
  {
   "cells": [
    {
     "cell_type": "code",
     "collapsed": false,
     "input": [
      "import tensorflow as tf\n",
      "import numpy as np\n",
      "import matplotlib.pyplot as plt\n",
      "import skflow as sf\n",
      "from sklearn.metrics import mean_squared_error"
     ],
     "language": "python",
     "metadata": {},
     "outputs": [],
     "prompt_number": 2
    },
    {
     "cell_type": "code",
     "collapsed": false,
     "input": [
      "file_data = np.load(\"data.npz\")\n",
      "X_training = file_data[\"X_train\"]\n",
      "y_training = file_data[\"y_train\"].reshape(file_data[\"y_train\"].shape[0],1).astype(\"float32\")\n",
      "X_test = file_data[\"X_test\"]\n",
      "y_test = file_data[\"y_test\"].reshape(file_data[\"y_test\"].shape[0],1).astype(\"float32\")\n",
      "#\n",
      "#\n",
      "# # In[6]:\n",
      "#\n",
      "# #Setup parameter\n",
      "learning_rate = 0.000001\n",
      "training_epoch = 800\n",
      "batch_size = 100\n",
      "momentum = 0.9\n",
      "#Setup layer\n",
      "n_hidden_layer = 15\n",
      "n_input = 4\n",
      "n_output = 1\n",
      "#\n",
      "#\n",
      "# # In[7]:\n",
      "#\n",
      "X = tf.placeholder(\"float\",[None,n_input],name=\"weights\")\n",
      "y = tf.placeholder(\"float\",[None,n_output],name=\"regression\")\n",
      "#\n",
      "def weight_init(shape,dtype):\n",
      "    w = np.random.uniform(0.0,2.0,size=shape)\n",
      "    return tf.convert_to_tensor(w,dtype=dtype,name='weights')\n",
      "def bias_init(shape,dtype):\n",
      "    w = np.random.uniform(0.0,2.0,size=shape)\n",
      "    return tf.convert_to_tensor(w,dtype=dtype,name='bias')\n",
      "def regression_nn(X,y):\n",
      "    input_layer = tf.contrib.layers.fully_connected(X,n_hidden_layer,activation_fn=tf.nn.relu)\n",
      "#     hidden_layer = tf.contrib.layers.fully_connected(input_layer,n_hidden_layer,activation_fn=tf.nn.relu)\n",
      "    pred = tf.contrib.layers.fully_connected(input_layer,n_output)\n",
      "    return sf.models.linear_regression(pred,y)"
     ],
     "language": "python",
     "metadata": {},
     "outputs": [],
     "prompt_number": 3
    },
    {
     "cell_type": "code",
     "collapsed": false,
     "input": [
      "config_addon = sf.addons.ConfigAddon(num_cores=4, gpu_memory_fraction=0.6)\n",
      "regressor = sf.TensorFlowEstimator(model_fn=regression_nn, n_classes=0,\n",
      "    steps=1000, learning_rate=1E-2, batch_size=100,optimizer='Adam',config_addon=config_addon)\n",
      "regressor.fit(X_training,y_training)"
     ],
     "language": "python",
     "metadata": {},
     "outputs": [
      {
       "output_type": "stream",
       "stream": "stdout",
       "text": [
        "Step #100, epoch #11, avg. train loss: 0.03870\n",
        "Step #200, epoch #22, avg. train loss: 0.00154"
       ]
      },
      {
       "output_type": "stream",
       "stream": "stdout",
       "text": [
        "\n",
        "Step #300, epoch #33, avg. train loss: 0.00133"
       ]
      },
      {
       "output_type": "stream",
       "stream": "stdout",
       "text": [
        "\n",
        "Step #400, epoch #44, avg. train loss: 0.00116"
       ]
      },
      {
       "output_type": "stream",
       "stream": "stdout",
       "text": [
        "\n",
        "Step #500, epoch #55, avg. train loss: 0.00106"
       ]
      },
      {
       "output_type": "stream",
       "stream": "stdout",
       "text": [
        "\n",
        "Step #600, epoch #66, avg. train loss: 0.00097"
       ]
      },
      {
       "output_type": "stream",
       "stream": "stdout",
       "text": [
        "\n",
        "Step #700, epoch #77, avg. train loss: 0.00096"
       ]
      },
      {
       "output_type": "stream",
       "stream": "stdout",
       "text": [
        "\n"
       ]
      },
      {
       "output_type": "stream",
       "stream": "stderr",
       "text": [
        "Stopping. Best step:\n",
        " step 503 with loss 0.000145070473081\n"
       ]
      },
      {
       "metadata": {},
       "output_type": "pyout",
       "prompt_number": 4,
       "text": [
        "TensorFlowEstimator(batch_size=100, class_weight=None,\n",
        "          config_addon=<skflow.addons.config_addon.ConfigAddon object at 0x7fbd1b404f10>,\n",
        "          continue_training=False, keep_checkpoint_every_n_hours=10000,\n",
        "          learning_rate=0.01, max_to_keep=5,\n",
        "          model_fn=<function regression_nn at 0x7fbd1ad86a28>, n_classes=0,\n",
        "          optimizer='Adam', steps=1000, tf_master='', tf_random_seed=42,\n",
        "          verbose=1)"
       ]
      }
     ],
     "prompt_number": 4
    },
    {
     "cell_type": "code",
     "collapsed": false,
     "input": [
      "X = np.random.uniform(-1,1,size=(4,15))"
     ],
     "language": "python",
     "metadata": {},
     "outputs": [],
     "prompt_number": 5
    },
    {
     "cell_type": "code",
     "collapsed": false,
     "input": [
      "X_tf = tf.Variable(0,name=\"weights\")\n",
      "sess = tf.Session()\n",
      "X_tf.assign(X)\n",
      "# "
     ],
     "language": "python",
     "metadata": {},
     "outputs": [],
     "prompt_number": 18
    },
    {
     "cell_type": "code",
     "collapsed": false,
     "input": [
      "sess.run(tf.initialize_all_variables())\n",
      "sess.run(X_tf)"
     ],
     "language": "python",
     "metadata": {},
     "outputs": [
      {
       "ename": "TypeError",
       "evalue": "Fetch argument <bound method Variable.initialized_value of <tensorflow.python.ops.variables.Variable object at 0x7fbd4c07e610>> of <bound method Variable.initialized_value of <tensorflow.python.ops.variables.Variable object at 0x7fbd4c07e610>> has invalid type <type 'instancemethod'>, must be a string or Tensor. (Can not convert a instancemethod into a Tensor or Operation.)",
       "output_type": "pyerr",
       "traceback": [
        "\u001b[0;31m---------------------------------------------------------------------------\u001b[0m\n\u001b[0;31mTypeError\u001b[0m                                 Traceback (most recent call last)",
        "\u001b[0;32m<ipython-input-23-00784c1f33d2>\u001b[0m in \u001b[0;36m<module>\u001b[0;34m()\u001b[0m\n\u001b[1;32m      1\u001b[0m \u001b[0;31m# sess.run(tf.initialize_all_variables())\u001b[0m\u001b[0;34m\u001b[0m\u001b[0;34m\u001b[0m\u001b[0m\n\u001b[0;32m----> 2\u001b[0;31m \u001b[0;32mprint\u001b[0m \u001b[0msess\u001b[0m\u001b[0;34m.\u001b[0m\u001b[0mrun\u001b[0m\u001b[0;34m(\u001b[0m\u001b[0mX_tf\u001b[0m\u001b[0;34m.\u001b[0m\u001b[0minitialized_value\u001b[0m\u001b[0;34m)\u001b[0m\u001b[0;34m\u001b[0m\u001b[0m\n\u001b[0m",
        "\u001b[0;32m/usr/local/lib/python2.7/dist-packages/tensorflow/python/client/session.pyc\u001b[0m in \u001b[0;36mrun\u001b[0;34m(self, fetches, feed_dict)\u001b[0m\n\u001b[1;32m    313\u001b[0m         \u001b[0;34m`\u001b[0m\u001b[0mTensor\u001b[0m\u001b[0;34m`\u001b[0m \u001b[0mthat\u001b[0m \u001b[0mdoesn\u001b[0m\u001b[0;31m'\u001b[0m\u001b[0mt\u001b[0m \u001b[0mexist\u001b[0m\u001b[0;34m.\u001b[0m\u001b[0;34m\u001b[0m\u001b[0m\n\u001b[1;32m    314\u001b[0m     \"\"\"\n\u001b[0;32m--> 315\u001b[0;31m     \u001b[0;32mreturn\u001b[0m \u001b[0mself\u001b[0m\u001b[0;34m.\u001b[0m\u001b[0m_run\u001b[0m\u001b[0;34m(\u001b[0m\u001b[0mNone\u001b[0m\u001b[0;34m,\u001b[0m \u001b[0mfetches\u001b[0m\u001b[0;34m,\u001b[0m \u001b[0mfeed_dict\u001b[0m\u001b[0;34m)\u001b[0m\u001b[0;34m\u001b[0m\u001b[0m\n\u001b[0m\u001b[1;32m    316\u001b[0m \u001b[0;34m\u001b[0m\u001b[0m\n\u001b[1;32m    317\u001b[0m   \u001b[0;32mdef\u001b[0m \u001b[0mpartial_run\u001b[0m\u001b[0;34m(\u001b[0m\u001b[0mself\u001b[0m\u001b[0;34m,\u001b[0m \u001b[0mhandle\u001b[0m\u001b[0;34m,\u001b[0m \u001b[0mfetches\u001b[0m\u001b[0;34m,\u001b[0m \u001b[0mfeed_dict\u001b[0m\u001b[0;34m=\u001b[0m\u001b[0mNone\u001b[0m\u001b[0;34m)\u001b[0m\u001b[0;34m:\u001b[0m\u001b[0;34m\u001b[0m\u001b[0m\n",
        "\u001b[0;32m/usr/local/lib/python2.7/dist-packages/tensorflow/python/client/session.pyc\u001b[0m in \u001b[0;36m_run\u001b[0;34m(self, handle, fetches, feed_dict)\u001b[0m\n\u001b[1;32m    477\u001b[0m \u001b[0;34m\u001b[0m\u001b[0m\n\u001b[1;32m    478\u001b[0m     \u001b[0;31m# Validate and process fetches.\u001b[0m\u001b[0;34m\u001b[0m\u001b[0;34m\u001b[0m\u001b[0m\n\u001b[0;32m--> 479\u001b[0;31m     \u001b[0munique_fetches\u001b[0m\u001b[0;34m,\u001b[0m \u001b[0mtarget_list\u001b[0m\u001b[0;34m,\u001b[0m \u001b[0mfetch_info\u001b[0m \u001b[0;34m=\u001b[0m \u001b[0mself\u001b[0m\u001b[0;34m.\u001b[0m\u001b[0m_process_fetches\u001b[0m\u001b[0;34m(\u001b[0m\u001b[0mfetches\u001b[0m\u001b[0;34m)\u001b[0m\u001b[0;34m\u001b[0m\u001b[0m\n\u001b[0m\u001b[1;32m    480\u001b[0m \u001b[0;34m\u001b[0m\u001b[0m\n\u001b[1;32m    481\u001b[0m     \u001b[0;31m# Create request.\u001b[0m\u001b[0;34m\u001b[0m\u001b[0;34m\u001b[0m\u001b[0m\n",
        "\u001b[0;32m/usr/local/lib/python2.7/dist-packages/tensorflow/python/client/session.pyc\u001b[0m in \u001b[0;36m_process_fetches\u001b[0;34m(self, fetches)\u001b[0m\n\u001b[1;32m    447\u001b[0m           raise TypeError('Fetch argument %r of %r has invalid type %r, '\n\u001b[1;32m    448\u001b[0m                           \u001b[0;34m'must be a string or Tensor. (%s)'\u001b[0m\u001b[0;34m\u001b[0m\u001b[0m\n\u001b[0;32m--> 449\u001b[0;31m                           % (subfetch, fetch, type(subfetch), str(e)))\n\u001b[0m\u001b[1;32m    450\u001b[0m         \u001b[0;32mexcept\u001b[0m \u001b[0mValueError\u001b[0m \u001b[0;32mas\u001b[0m \u001b[0me\u001b[0m\u001b[0;34m:\u001b[0m\u001b[0;34m\u001b[0m\u001b[0m\n\u001b[1;32m    451\u001b[0m           raise ValueError('Fetch argument %r of %r cannot be interpreted as a '\n",
        "\u001b[0;31mTypeError\u001b[0m: Fetch argument <bound method Variable.initialized_value of <tensorflow.python.ops.variables.Variable object at 0x7fbd4c07e610>> of <bound method Variable.initialized_value of <tensorflow.python.ops.variables.Variable object at 0x7fbd4c07e610>> has invalid type <type 'instancemethod'>, must be a string or Tensor. (Can not convert a instancemethod into a Tensor or Operation.)"
       ]
      }
     ],
     "prompt_number": 23
    },
    {
     "cell_type": "code",
     "collapsed": false,
     "input": [
      "pred = regressor.predict(X_test)\n",
      "# %matplotlib\n",
      "ax = plt.subplot()\n",
      "ax.plot(pred)\n",
      "ax.plot(y_test)\n",
      "# plt.show()\n",
      "print mean_squared_error(pred,y_training)"
     ],
     "language": "python",
     "metadata": {},
     "outputs": [
      {
       "output_type": "stream",
       "stream": "stdout",
       "text": [
        "0.000864748\n"
       ]
      }
     ],
     "prompt_number": 56
    },
    {
     "cell_type": "code",
     "collapsed": false,
     "input": [
      "regressor.save()"
     ],
     "language": "python",
     "metadata": {},
     "outputs": []
    }
   ],
   "metadata": {}
  }
 ]
}