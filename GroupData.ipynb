{
 "cells": [
  {
   "cell_type": "code",
   "execution_count": 19,
   "metadata": {
    "collapsed": true
   },
   "outputs": [],
   "source": [
    "import numpy as np\n",
    "import pandas as pd\n",
    "import sqlite3\n",
    "import matplotlib.pyplot as plt"
   ]
  },
  {
   "cell_type": "code",
   "execution_count": 20,
   "metadata": {
    "collapsed": false
   },
   "outputs": [],
   "source": [
    "conn = sqlite3.connect('trafficdb')"
   ]
  },
  {
   "cell_type": "code",
   "execution_count": 24,
   "metadata": {
    "collapsed": true
   },
   "outputs": [],
   "source": [
    "class GroupData:\n",
    "    def __init__(self):\n",
    "        self.conn = sqlite3.connect('trafficdb')\n",
    "        self.raw_data = pd.DataFrame(self.conn.execute(\"SELECT * FROM workload\").fetchall(),columns=[\"Timestamp\",\"Count\"])\n",
    "    def getData(self,number_of_second=600):\n",
    "        range_list = self.raw_data.shape[0]\n",
    "        jump_list = number_of_second\n",
    "        init_list = 0;\n",
    "        length = self.raw_data.shape[0]/jump_list\n",
    "        dataCount = np.array(np.zeros(length))\n",
    "        print \"Count list\"\n",
    "        for i in np.arange(0,length):\n",
    "            tmp = self.raw_data[init_list:init_list+jump_list][\"Count\"]\n",
    "            dataCount[i] = tmp.sum()\n",
    "            init_list+=jump_list\n",
    "        return dataCount\n",
    "    def plotData(self,data):\n",
    "        ax = plt.subplot()\n",
    "        ax.set_color_cycle(['blue'])\n",
    "        ax.plot(data,label=\"actual\")\n",
    "        ax.legend()\n",
    "        plt.show()"
   ]
  },
  {
   "cell_type": "code",
   "execution_count": 25,
   "metadata": {
    "collapsed": false
   },
   "outputs": [],
   "source": [
    "worker = GroupData()"
   ]
  },
  {
   "cell_type": "code",
   "execution_count": 27,
   "metadata": {
    "collapsed": false
   },
   "outputs": [
    {
     "name": "stdout",
     "output_type": "stream",
     "text": [
      "Count list\n"
     ]
    }
   ],
   "source": [
    "worker.plotData(worker.getData())"
   ]
  },
  {
   "cell_type": "code",
   "execution_count": null,
   "metadata": {
    "collapsed": true
   },
   "outputs": [],
   "source": []
  }
 ],
 "metadata": {
  "kernelspec": {
   "display_name": "Python 2",
   "language": "python",
   "name": "python2"
  },
  "language_info": {
   "codemirror_mode": {
    "name": "ipython",
    "version": 2
   },
   "file_extension": ".py",
   "mimetype": "text/x-python",
   "name": "python",
   "nbconvert_exporter": "python",
   "pygments_lexer": "ipython2",
   "version": "2.7.6"
  }
 },
 "nbformat": 4,
 "nbformat_minor": 0
}
