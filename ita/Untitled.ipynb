{
 "cells": [
  {
   "cell_type": "code",
   "execution_count": 2,
   "metadata": {
    "collapsed": true
   },
   "outputs": [],
   "source": [
    "import numpy as np\n",
    "import pandas as pd\n"
   ]
  },
  {
   "cell_type": "code",
   "execution_count": 4,
   "metadata": {
    "collapsed": true
   },
   "outputs": [],
   "source": [
    "raw_data = pd.read_csv(\"data.csv\")"
   ]
  },
  {
   "cell_type": "code",
   "execution_count": 5,
   "metadata": {
    "collapsed": false
   },
   "outputs": [
    {
     "data": {
      "text/plain": [
       "(4230894, 8)"
      ]
     },
     "execution_count": 5,
     "metadata": {},
     "output_type": "execute_result"
    }
   ],
   "source": [
    "raw_data.shape"
   ]
  },
  {
   "cell_type": "code",
   "execution_count": 7,
   "metadata": {
    "collapsed": false
   },
   "outputs": [],
   "source": [
    "data = raw_data[\"Timestamp\"]"
   ]
  },
  {
   "cell_type": "code",
   "execution_count": 15,
   "metadata": {
    "collapsed": false
   },
   "outputs": [
    {
     "data": {
      "text/plain": [
       "Timestamp\n",
       "894319202     4\n",
       "894319203     7\n",
       "894319204    12\n",
       "894319205    14\n",
       "894319206    13\n",
       "894319207    14\n",
       "894319208    16\n",
       "894319209    18\n",
       "894319210     9\n",
       "894319211    11\n",
       "894319212     5\n",
       "894319213     4\n",
       "894319214    19\n",
       "894319215     8\n",
       "894319216    11\n",
       "...\n",
       "894319278    17\n",
       "894319279    12\n",
       "894319280    14\n",
       "894319281     5\n",
       "894319282    17\n",
       "894319283    11\n",
       "894319284    13\n",
       "894319285    13\n",
       "894319286    12\n",
       "894319287    13\n",
       "894319288    15\n",
       "894319289    17\n",
       "894319290    12\n",
       "894319291    23\n",
       "894319292     1\n",
       "Name: Timestamp, Length: 91, dtype: int64"
      ]
     },
     "execution_count": 15,
     "metadata": {},
     "output_type": "execute_result"
    }
   ],
   "source": [
    "connection = raw_data[0:1000].groupby('Timestamp').count()\n",
    "connection.Timestamp"
   ]
  },
  {
   "cell_type": "code",
   "execution_count": null,
   "metadata": {
    "collapsed": true
   },
   "outputs": [],
   "source": []
  }
 ],
 "metadata": {
  "kernelspec": {
   "display_name": "Python 2",
   "language": "python",
   "name": "python2"
  },
  "language_info": {
   "codemirror_mode": {
    "name": "ipython",
    "version": 2
   },
   "file_extension": ".py",
   "mimetype": "text/x-python",
   "name": "python",
   "nbconvert_exporter": "python",
   "pygments_lexer": "ipython2",
   "version": "2.7.6"
  }
 },
 "nbformat": 4,
 "nbformat_minor": 0
}
