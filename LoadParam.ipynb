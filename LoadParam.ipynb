{
 "cells": [
  {
   "cell_type": "code",
   "execution_count": 12,
   "metadata": {
    "collapsed": false
   },
   "outputs": [],
   "source": [
    "import numpy as np\n",
    "import pandas as pd\n",
    "import matplotlib.pyplot as pl\n",
    "from sklearn.metrics import mean_squared_error\n",
    "import lasagne as ls\n",
    "from theano import tensor as T\n",
    "from lasagne.layers import InputLayer, DenseLayer\n",
    "from lasagne.updates import nesterov_momentum\n",
    "from lasagne.nonlinearities import rectify\n",
    "from nolearn.lasagne import NeuralNet\n",
    "import sqlite3\n",
    "# from sklearn import mean_squared_error\n",
    "from pandas import HDFStore\n",
    "store = HDFStore(\"storeTraffic.h5\")\n",
    "conn = sqlite3.connect('trafficdb')"
   ]
  },
  {
   "cell_type": "code",
   "execution_count": 13,
   "metadata": {
    "collapsed": false
   },
   "outputs": [],
   "source": [
    "class LoadParam():\n",
    "    def initNN(self,n_input):\n",
    "        #Build layer for MLP\n",
    "        l_in = ls.layers.InputLayer(shape=(None,n_input),input_var=None)\n",
    "        l_hidden = ls.layers.DenseLayer(l_in,num_units=15,nonlinearity=ls.nonlinearities.rectify)\n",
    "        network = l_out = ls.layers.DenseLayer(l_hidden,num_units=1)\n",
    "        print \"Neural network initialize\"\n",
    "        #Init Neural net\n",
    "        net1 = NeuralNet(\n",
    "            layers=network,\n",
    "            # optimization method:\n",
    "            update=nesterov_momentum,\n",
    "            update_learning_rate=0.000001,\n",
    "            update_momentum=0.9,\n",
    "            regression=True,  # flag to indicate we're dealing with regression problem\n",
    "            max_epochs=400,  # we want to train this many epochs\n",
    "            verbose=1,\n",
    "        )\n",
    "        return net1\n",
    "    def __init__(self,n_input,type=\"NN\"):\n",
    "        self.n_input = n_input\n",
    "        self.net = self.initNN(n_input)\n",
    "        if(type==\"NN\"):\n",
    "            self.net.load_params_from('Params/saveNeuralNetwork_1e-05_%s.tdn'%n_input)\n",
    "        elif(type==\"GN\"):\n",
    "            self.net.load_params_from('GeneticParams/saveNeuralNetwork_1e-05_%s.tdn'%n_input)\n",
    "    \n",
    "    def normalize(self,dataCount,dataTest):\n",
    "        dataNorm = pd.Series(np.zeros(dataCount.shape[0]),dtype=np.float64)\n",
    "        dataNorm = (dataCount - dataTest.min())/(dataTest.max()-dataTest.min())\n",
    "        return dataNorm\n",
    "    def convert(self,data,dataTest):\n",
    "        max = dataTest.max()\n",
    "        min = dataTest.min()\n",
    "        return (data*(max-min)+min)\n",
    "    def predict(self,dataTest):\n",
    "#         dataTest= pd.read_sql(\"SELECT count FROM workload where time >= 895096802-%d and time < 895096802+86400\"%(n_input),conn)[\"count\"]\n",
    "        range_list = len(dataTest)\n",
    "        jump_list = 600\n",
    "        init_list = 0;\n",
    "        length = range_list/jump_list\n",
    "        dataCount = np.array(np.zeros(length))\n",
    "        print \"Count list\"\n",
    "        for i in np.arange(0,length):\n",
    "            tmp = dataTest[init_list:init_list+jump_list]\n",
    "            dataCount[i] = tmp.sum()\n",
    "            init_list+=jump_list\n",
    "        n_row = dataCount.shape[0]\n",
    "        self.X_training = self.normalize(np.asarray([[dataCount[t-i-1] for i in range(0,self.n_input)]\n",
    "                         for t in np.arange(self.n_input,n_row)]),store[\"raw_conn_train\"])\n",
    "        print \"y_training loading...\"\n",
    "        self.y_training = np.asarray(dataCount[self.n_input:n_row])\n",
    "        self.result = self.net.predict(self.X_training)\n",
    "        return self.convert(self.result,store[\"raw_conn_train\"])"
   ]
  },
  {
   "cell_type": "code",
   "execution_count": 14,
   "metadata": {
    "collapsed": false
   },
   "outputs": [
    {
     "name": "stdout",
     "output_type": "stream",
     "text": [
      "Neural network initialize\n",
      "Loaded parameters to layer 'dense1' (shape 7x15).\n",
      "Loaded parameters to layer 'dense1' (shape 15).\n",
      "Loaded parameters to layer 'dense2' (shape 15x1).\n",
      "Loaded parameters to layer 'dense2' (shape 1).\n",
      "Neural network initialize\n",
      "Loaded parameters to layer 'dense1' (shape 10x15).\n",
      "Loaded parameters to layer 'dense1' (shape 15).\n",
      "Loaded parameters to layer 'dense2' (shape 15x1).\n",
      "Loaded parameters to layer 'dense2' (shape 1).\n"
     ]
    }
   ],
   "source": [
    "NN = LoadParam(7,\"NN\")\n",
    "GN = LoadParam(10,\"GN\")"
   ]
  },
  {
   "cell_type": "code",
   "execution_count": 15,
   "metadata": {
    "collapsed": true
   },
   "outputs": [],
   "source": [
    "dataTestNN= pd.read_sql(\"SELECT count FROM workload where time >= 895096802-%d and time < 895096802+86400\"%(NN.n_input),conn)[\"count\"]\n",
    "dataTestGN= pd.read_sql(\"SELECT count FROM workload where time >= 895096802-%d and time < 895096802+86400\"%(GN.n_input),conn)[\"count\"]\n",
    "    "
   ]
  },
  {
   "cell_type": "code",
   "execution_count": 19,
   "metadata": {
    "collapsed": false
   },
   "outputs": [
    {
     "name": "stdout",
     "output_type": "stream",
     "text": [
      "Count list\n",
      "y_training loading...\n",
      "Count list\n",
      "y_training loading...\n"
     ]
    }
   ],
   "source": [
    "nn_pred = NN.predict(dataTestNN)\n",
    "gn_pred = GN.predict(dataTestGN)\n",
    "nn_rmse = NN.net.score(NN.X_training,NN.y_training)\n",
    "gn_rmse = GN.net.score(GN.X_training,GN.y_training)"
   ]
  },
  {
   "cell_type": "code",
   "execution_count": 18,
   "metadata": {
    "collapsed": false
   },
   "outputs": [],
   "source": [
    "f,(ax1,ax2) = pl.subplots(2,sharex=True,sharey=True)\n",
    "ax1.plot(gn_pred,label=\"Genetic Neural Network\")\n",
    "ax1.set_title(\"Genetic Neural Network\")\n",
    "ax1.plot(GN.y_training)\n",
    "# ax1.set_color_cycle(['blue','red'])\n",
    "ax2.plot(nn_pred,label=\"Neural Network\")\n",
    "ax2.plot(NN.y_training)\n",
    "ax2.set_title(\"Neural Network\")\n",
    "# ax2.set_color_cycle(['blue','red'])\n",
    "pl.show()"
   ]
  },
  {
   "cell_type": "code",
   "execution_count": 20,
   "metadata": {
    "collapsed": false
   },
   "outputs": [
    {
     "data": {
      "text/plain": [
       "(196632324.83461443, 199208095.32522783)"
      ]
     },
     "execution_count": 20,
     "metadata": {},
     "output_type": "execute_result"
    }
   ],
   "source": [
    "nn_rmse, gn_rmse"
   ]
  },
  {
   "cell_type": "code",
   "execution_count": null,
   "metadata": {
    "collapsed": true
   },
   "outputs": [],
   "source": []
  }
 ],
 "metadata": {
  "kernelspec": {
   "display_name": "Python 2",
   "language": "python",
   "name": "python2"
  },
  "language_info": {
   "codemirror_mode": {
    "name": "ipython",
    "version": 2
   },
   "file_extension": ".py",
   "mimetype": "text/x-python",
   "name": "python",
   "nbconvert_exporter": "python",
   "pygments_lexer": "ipython2",
   "version": "2.7.6"
  }
 },
 "nbformat": 4,
 "nbformat_minor": 0
}
