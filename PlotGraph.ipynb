{
 "metadata": {
  "name": "",
  "signature": "sha256:d8a075caa9473a0fb1cbb8cda21c0fe9fbe38da4338beca0cb5d7d9f989b307a"
 },
 "nbformat": 3,
 "nbformat_minor": 0,
 "worksheets": [
  {
   "cells": [
    {
     "cell_type": "code",
     "collapsed": false,
     "input": [
      "from initNN import *\n",
      "from sklearn.metrics import mean_squared_error\n",
      "def mean_percentage_error(y_pred,y_actual):\n",
      "    'Calculate the mean percentage absolute error',\n",
      "    n = y_pred.shape[0]\n",
      "    temp = [np.abs((i-j)/j) for i,j in zip(y_pred,y_actual)],\n",
      "    return (1.0/n) * np.sum(temp)\n",
      "def getPredict(start_idx,end_idx,type_mode,n_input=15):\n",
      "    ax = pl.subplot()\n",
      "    nn_mode = LoadParam(type_mode,n_input)\n",
      "    X_test,y_test = nn_mode.generate((start_idx,end_idx))\n",
      "    ax.set_color_cycle(['blue','red'])\n",
      "    ax.plot(nn_mode.predict(X_test),'--',label='Predict')\n",
      "    ax.plot(y_test,label='Actual')\n",
      "    pl.show()"
     ],
     "language": "python",
     "metadata": {},
     "outputs": [],
     "prompt_number": 1
    },
    {
     "cell_type": "code",
     "collapsed": false,
     "input": [
      "list_nresult = []\n",
      "for n_input in np.arange(2,21):\n",
      "#     n_input=15\n",
      "    temp = []\n",
      "    nn = LoadParam(\"NN\",n_input)\n",
      "    gn = LoadParam(\"GN\",n_input)\n",
      "    i=46\n",
      "    skip_list = 3\n",
      "    X_test,y_test = nn.generate((i,i+skip_list))\n",
      "    X_ptest, y_ptest = gn.generate((i,i+skip_list))\n",
      "    gn_pred = gn.convert(gn.predict(X_ptest))\n",
      "    nn_pred = nn.convert(nn.predict(X_test))\n",
      "\n",
      "    temp.append(np.sqrt(mean_squared_error(nn_pred,y_test)))\n",
      "    temp.append(mean_absolute_error(nn_pred,y_test))\n",
      "    temp.append(mean_percentage_error(y_test,nn_pred))\n",
      "\n",
      "    temp.append(np.sqrt(mean_squared_error(gn_pred,y_ptest)))\n",
      "    temp.append(mean_absolute_error(gn_pred,y_ptest))\n",
      "    temp.append(mean_percentage_error(y_ptest,gn_pred))\n",
      "\n",
      "    list_nresult.append(temp)"
     ],
     "language": "python",
     "metadata": {},
     "outputs": [
      {
       "output_type": "stream",
       "stream": "stdout",
       "text": [
        "Neural network initialize\n",
        "Neural network initialize"
       ]
      },
      {
       "output_type": "stream",
       "stream": "stdout",
       "text": [
        "\n",
        "Loading storage"
       ]
      },
      {
       "output_type": "stream",
       "stream": "stdout",
       "text": [
        "\n",
        "generate data\n",
        "Generate X_traing, y_traing\n",
        "X_training loading...\n",
        "Loading storage\n",
        "generate data\n",
        "Generate X_traing, y_traing\n",
        "X_training loading...\n",
        "Neural network initialize\n",
        "Neural network initialize"
       ]
      },
      {
       "output_type": "stream",
       "stream": "stdout",
       "text": [
        "\n",
        "Loading storage"
       ]
      },
      {
       "output_type": "stream",
       "stream": "stdout",
       "text": [
        "\n",
        "generate data\n",
        "Generate X_traing, y_traing\n",
        "X_training loading...\n",
        "Loading storage\n",
        "generate data\n",
        "Generate X_traing, y_traing\n",
        "X_training loading...\n",
        "Neural network initialize"
       ]
      },
      {
       "output_type": "stream",
       "stream": "stdout",
       "text": [
        "\n",
        "Neural network initialize"
       ]
      },
      {
       "output_type": "stream",
       "stream": "stdout",
       "text": [
        "\n",
        "Loading storage"
       ]
      },
      {
       "output_type": "stream",
       "stream": "stdout",
       "text": [
        "\n",
        "generate data\n",
        "Generate X_traing, y_traing\n",
        "X_training loading...\n",
        "Loading storage\n",
        "generate data\n",
        "Generate X_traing, y_traing\n",
        "X_training loading...\n",
        "Neural network initialize"
       ]
      },
      {
       "output_type": "stream",
       "stream": "stdout",
       "text": [
        "\n",
        "Neural network initialize"
       ]
      },
      {
       "output_type": "stream",
       "stream": "stdout",
       "text": [
        "\n",
        "Loading storage"
       ]
      },
      {
       "output_type": "stream",
       "stream": "stdout",
       "text": [
        "\n",
        "generate data\n",
        "Generate X_traing, y_traing\n",
        "X_training loading...\n",
        "Loading storage\n",
        "generate data\n",
        "Generate X_traing, y_traing\n",
        "X_training loading...\n",
        "Neural network initialize"
       ]
      },
      {
       "output_type": "stream",
       "stream": "stdout",
       "text": [
        "\n",
        "Neural network initialize"
       ]
      },
      {
       "output_type": "stream",
       "stream": "stdout",
       "text": [
        "\n",
        "Loading storage"
       ]
      },
      {
       "output_type": "stream",
       "stream": "stdout",
       "text": [
        "\n",
        "generate data\n",
        "Generate X_traing, y_traing\n",
        "X_training loading...\n",
        "Loading storage\n",
        "generate data\n",
        "Generate X_traing, y_traing\n",
        "X_training loading...\n",
        "Neural network initialize"
       ]
      },
      {
       "output_type": "stream",
       "stream": "stdout",
       "text": [
        "\n",
        "Neural network initialize"
       ]
      },
      {
       "output_type": "stream",
       "stream": "stdout",
       "text": [
        "\n",
        "Loading storage"
       ]
      },
      {
       "output_type": "stream",
       "stream": "stdout",
       "text": [
        "\n",
        "generate data\n",
        "Generate X_traing, y_traing\n",
        "X_training loading...\n",
        "Loading storage\n",
        "generate data\n",
        "Generate X_traing, y_traing\n",
        "X_training loading...\n",
        "Neural network initialize"
       ]
      },
      {
       "output_type": "stream",
       "stream": "stdout",
       "text": [
        "\n",
        "Neural network initialize"
       ]
      },
      {
       "output_type": "stream",
       "stream": "stdout",
       "text": [
        "\n",
        "Loading storage"
       ]
      },
      {
       "output_type": "stream",
       "stream": "stdout",
       "text": [
        "\n",
        "generate data\n",
        "Generate X_traing, y_traing\n",
        "X_training loading...\n",
        "Loading storage\n",
        "generate data\n",
        "Generate X_traing, y_traing\n",
        "X_training loading...\n",
        "Neural network initialize"
       ]
      },
      {
       "output_type": "stream",
       "stream": "stdout",
       "text": [
        "\n",
        "Neural network initialize"
       ]
      },
      {
       "output_type": "stream",
       "stream": "stdout",
       "text": [
        "\n",
        "Loading storage"
       ]
      },
      {
       "output_type": "stream",
       "stream": "stdout",
       "text": [
        "\n",
        "generate data\n",
        "Generate X_traing, y_traing\n",
        "X_training loading...\n",
        "Loading storage"
       ]
      },
      {
       "output_type": "stream",
       "stream": "stdout",
       "text": [
        "\n",
        "generate data\n",
        "Generate X_traing, y_traing\n",
        "X_training loading...\n",
        "Neural network initialize"
       ]
      },
      {
       "output_type": "stream",
       "stream": "stdout",
       "text": [
        "\n",
        "Neural network initialize"
       ]
      },
      {
       "output_type": "stream",
       "stream": "stdout",
       "text": [
        "\n",
        "Loading storage"
       ]
      },
      {
       "output_type": "stream",
       "stream": "stdout",
       "text": [
        "\n",
        "generate data\n",
        "Generate X_traing, y_traing\n",
        "X_training loading...\n",
        "Loading storage"
       ]
      },
      {
       "output_type": "stream",
       "stream": "stdout",
       "text": [
        "\n",
        "generate data\n",
        "Generate X_traing, y_traing\n",
        "X_training loading...\n",
        "Neural network initialize"
       ]
      },
      {
       "output_type": "stream",
       "stream": "stdout",
       "text": [
        "\n",
        "Neural network initialize"
       ]
      },
      {
       "output_type": "stream",
       "stream": "stdout",
       "text": [
        "\n",
        "Loading storage"
       ]
      },
      {
       "output_type": "stream",
       "stream": "stdout",
       "text": [
        "\n",
        "generate data\n",
        "Generate X_traing, y_traing\n",
        "X_training loading...\n",
        "Loading storage"
       ]
      },
      {
       "output_type": "stream",
       "stream": "stdout",
       "text": [
        "\n",
        "generate data\n",
        "Generate X_traing, y_traing\n",
        "X_training loading...\n",
        "Neural network initialize"
       ]
      },
      {
       "output_type": "stream",
       "stream": "stdout",
       "text": [
        "\n",
        "Neural network initialize"
       ]
      },
      {
       "output_type": "stream",
       "stream": "stdout",
       "text": [
        "\n",
        "Loading storage"
       ]
      },
      {
       "output_type": "stream",
       "stream": "stdout",
       "text": [
        "\n",
        "generate data\n",
        "Generate X_traing, y_traing\n",
        "X_training loading...\n",
        "Loading storage"
       ]
      },
      {
       "output_type": "stream",
       "stream": "stdout",
       "text": [
        "\n",
        "generate data\n",
        "Generate X_traing, y_traing\n",
        "X_training loading...\n",
        "Neural network initialize"
       ]
      },
      {
       "output_type": "stream",
       "stream": "stdout",
       "text": [
        "\n",
        "Neural network initialize"
       ]
      },
      {
       "output_type": "stream",
       "stream": "stdout",
       "text": [
        "\n",
        "Loading storage"
       ]
      },
      {
       "output_type": "stream",
       "stream": "stdout",
       "text": [
        "\n",
        "generate data\n",
        "Generate X_traing, y_traing\n",
        "X_training loading...\n",
        "Loading storage"
       ]
      },
      {
       "output_type": "stream",
       "stream": "stdout",
       "text": [
        "\n",
        "generate data\n",
        "Generate X_traing, y_traing\n",
        "X_training loading...\n",
        "Neural network initialize"
       ]
      },
      {
       "output_type": "stream",
       "stream": "stdout",
       "text": [
        "\n",
        "Neural network initialize"
       ]
      },
      {
       "output_type": "stream",
       "stream": "stdout",
       "text": [
        "\n",
        "Loading storage"
       ]
      },
      {
       "output_type": "stream",
       "stream": "stdout",
       "text": [
        "\n",
        "generate data\n",
        "Generate X_traing, y_traing\n",
        "X_training loading...\n",
        "Loading storage"
       ]
      },
      {
       "output_type": "stream",
       "stream": "stdout",
       "text": [
        "\n",
        "generate data\n",
        "Generate X_traing, y_traing\n",
        "X_training loading...\n",
        "Neural network initialize"
       ]
      },
      {
       "output_type": "stream",
       "stream": "stdout",
       "text": [
        "\n",
        "Neural network initialize"
       ]
      },
      {
       "output_type": "stream",
       "stream": "stdout",
       "text": [
        "\n",
        "Loading storage"
       ]
      },
      {
       "output_type": "stream",
       "stream": "stdout",
       "text": [
        "\n",
        "generate data\n",
        "Generate X_traing, y_traing\n",
        "X_training loading...\n",
        "Loading storage"
       ]
      },
      {
       "output_type": "stream",
       "stream": "stdout",
       "text": [
        "\n",
        "generate data\n",
        "Generate X_traing, y_traing\n",
        "X_training loading...\n",
        "Neural network initialize"
       ]
      },
      {
       "output_type": "stream",
       "stream": "stdout",
       "text": [
        "\n",
        "Neural network initialize"
       ]
      },
      {
       "output_type": "stream",
       "stream": "stdout",
       "text": [
        "\n",
        "Loading storage"
       ]
      },
      {
       "output_type": "stream",
       "stream": "stdout",
       "text": [
        "\n",
        "generate data\n",
        "Generate X_traing, y_traing\n",
        "X_training loading...\n",
        "Loading storage"
       ]
      },
      {
       "output_type": "stream",
       "stream": "stdout",
       "text": [
        "\n",
        "generate data\n",
        "Generate X_traing, y_traing\n",
        "X_training loading...\n",
        "Neural network initialize"
       ]
      },
      {
       "output_type": "stream",
       "stream": "stdout",
       "text": [
        "\n",
        "Neural network initialize"
       ]
      },
      {
       "output_type": "stream",
       "stream": "stdout",
       "text": [
        "\n",
        "Loading storage"
       ]
      },
      {
       "output_type": "stream",
       "stream": "stdout",
       "text": [
        "\n",
        "generate data\n",
        "Generate X_traing, y_traing\n",
        "X_training loading...\n",
        "Loading storage"
       ]
      },
      {
       "output_type": "stream",
       "stream": "stdout",
       "text": [
        "\n",
        "generate data\n",
        "Generate X_traing, y_traing\n",
        "X_training loading...\n",
        "Neural network initialize"
       ]
      },
      {
       "output_type": "stream",
       "stream": "stdout",
       "text": [
        "\n",
        "Neural network initialize"
       ]
      },
      {
       "output_type": "stream",
       "stream": "stdout",
       "text": [
        "\n",
        "Loading storage"
       ]
      },
      {
       "output_type": "stream",
       "stream": "stdout",
       "text": [
        "\n",
        "generate data\n",
        "Generate X_traing, y_traing\n",
        "X_training loading...\n",
        "Loading storage"
       ]
      },
      {
       "output_type": "stream",
       "stream": "stdout",
       "text": [
        "\n",
        "generate data\n",
        "Generate X_traing, y_traing\n",
        "X_training loading...\n",
        "Neural network initialize"
       ]
      },
      {
       "output_type": "stream",
       "stream": "stdout",
       "text": [
        "\n",
        "Neural network initialize"
       ]
      },
      {
       "output_type": "stream",
       "stream": "stdout",
       "text": [
        "\n",
        "Loading storage"
       ]
      },
      {
       "output_type": "stream",
       "stream": "stdout",
       "text": [
        "\n",
        "generate data\n",
        "Generate X_traing, y_traing\n",
        "X_training loading...\n",
        "Loading storage"
       ]
      },
      {
       "output_type": "stream",
       "stream": "stdout",
       "text": [
        "\n",
        "generate data\n",
        "Generate X_traing, y_traing\n",
        "X_training loading...\n",
        "Neural network initialize"
       ]
      },
      {
       "output_type": "stream",
       "stream": "stdout",
       "text": [
        "\n",
        "Neural network initialize"
       ]
      },
      {
       "output_type": "stream",
       "stream": "stdout",
       "text": [
        "\n",
        "Loading storage"
       ]
      },
      {
       "output_type": "stream",
       "stream": "stdout",
       "text": [
        "\n",
        "generate data\n",
        "Generate X_traing, y_traing\n",
        "X_training loading...\n",
        "Loading storage"
       ]
      },
      {
       "output_type": "stream",
       "stream": "stdout",
       "text": [
        "\n",
        "generate data\n",
        "Generate X_traing, y_traing\n",
        "X_training loading...\n"
       ]
      }
     ],
     "prompt_number": 8
    },
    {
     "cell_type": "code",
     "collapsed": false,
     "input": [
      "# ax = pl.subplot()\n",
      "# ax.set_color_cycle(['blue','red'])\n",
      "# ax.plot(nn_pred,'--',label='Predict')\n",
      "# ax.plot(y_test,label='Actual')\n",
      "# pl.show()"
     ],
     "language": "python",
     "metadata": {},
     "outputs": [],
     "prompt_number": 7
    },
    {
     "cell_type": "code",
     "collapsed": false,
     "input": [
      "# results = np.load(\"experiement_12-1-mae_window.npz\")\n",
      "# results.files"
     ],
     "language": "python",
     "metadata": {},
     "outputs": [
      {
       "metadata": {},
       "output_type": "pyout",
       "prompt_number": 15,
       "text": [
        "['mae_gn_window_size']"
       ]
      }
     ],
     "prompt_number": 15
    },
    {
     "cell_type": "code",
     "collapsed": false,
     "input": [
      "# ax = pl.subplot()\n",
      "# ax.plot(gn_pred)\n",
      "# ax.plot(y_test)\n",
      "# pl.show()\n",
      "pd.DataFrame(list_nresult)"
     ],
     "language": "python",
     "metadata": {},
     "outputs": [
      {
       "html": [
        "<div style=\"max-height:1000px;max-width:1500px;overflow:auto;\">\n",
        "<table border=\"1\" class=\"dataframe\">\n",
        "  <thead>\n",
        "    <tr style=\"text-align: right;\">\n",
        "      <th></th>\n",
        "      <th>0</th>\n",
        "      <th>1</th>\n",
        "      <th>2</th>\n",
        "      <th>3</th>\n",
        "      <th>4</th>\n",
        "      <th>5</th>\n",
        "    </tr>\n",
        "  </thead>\n",
        "  <tbody>\n",
        "    <tr>\n",
        "      <th>0 </th>\n",
        "      <td>  38163.449250</td>\n",
        "      <td>  17417.635451</td>\n",
        "      <td> 0.043032</td>\n",
        "      <td> 291875.664974</td>\n",
        "      <td> 185060.854460</td>\n",
        "      <td> 1.433858</td>\n",
        "    </tr>\n",
        "    <tr>\n",
        "      <th>1 </th>\n",
        "      <td>  39727.902689</td>\n",
        "      <td>  17788.534294</td>\n",
        "      <td> 0.043491</td>\n",
        "      <td> 291875.664974</td>\n",
        "      <td> 185060.854460</td>\n",
        "      <td> 1.433858</td>\n",
        "    </tr>\n",
        "    <tr>\n",
        "      <th>2 </th>\n",
        "      <td>  38640.506742</td>\n",
        "      <td>  17201.835114</td>\n",
        "      <td> 0.041636</td>\n",
        "      <td> 189576.310457</td>\n",
        "      <td> 119963.269359</td>\n",
        "      <td> 0.417729</td>\n",
        "    </tr>\n",
        "    <tr>\n",
        "      <th>3 </th>\n",
        "      <td>  39582.923274</td>\n",
        "      <td>  17503.852460</td>\n",
        "      <td> 0.044808</td>\n",
        "      <td> 291462.473957</td>\n",
        "      <td> 184244.197770</td>\n",
        "      <td> 1.421923</td>\n",
        "    </tr>\n",
        "    <tr>\n",
        "      <th>4 </th>\n",
        "      <td>  38649.529935</td>\n",
        "      <td>  17005.997987</td>\n",
        "      <td> 0.041823</td>\n",
        "      <td> 291875.651194</td>\n",
        "      <td> 185060.456161</td>\n",
        "      <td> 1.433854</td>\n",
        "    </tr>\n",
        "    <tr>\n",
        "      <th>5 </th>\n",
        "      <td>  39081.290339</td>\n",
        "      <td>  17348.477748</td>\n",
        "      <td> 0.043360</td>\n",
        "      <td> 291875.598286</td>\n",
        "      <td> 185059.052367</td>\n",
        "      <td> 1.433843</td>\n",
        "    </tr>\n",
        "    <tr>\n",
        "      <th>6 </th>\n",
        "      <td>  37656.989023</td>\n",
        "      <td>  17654.320160</td>\n",
        "      <td> 0.045477</td>\n",
        "      <td> 230721.885608</td>\n",
        "      <td> 130245.536993</td>\n",
        "      <td> 0.325317</td>\n",
        "    </tr>\n",
        "    <tr>\n",
        "      <th>7 </th>\n",
        "      <td>  39443.572549</td>\n",
        "      <td>  19178.172717</td>\n",
        "      <td> 0.048349</td>\n",
        "      <td> 291875.664974</td>\n",
        "      <td> 185060.854460</td>\n",
        "      <td> 1.433858</td>\n",
        "    </tr>\n",
        "    <tr>\n",
        "      <th>8 </th>\n",
        "      <td>  40683.679145</td>\n",
        "      <td>  18590.740943</td>\n",
        "      <td> 0.045757</td>\n",
        "      <td> 239715.525570</td>\n",
        "      <td> 137585.191364</td>\n",
        "      <td> 0.406786</td>\n",
        "    </tr>\n",
        "    <tr>\n",
        "      <th>9 </th>\n",
        "      <td>  39366.249387</td>\n",
        "      <td>  18401.540404</td>\n",
        "      <td> 0.047663</td>\n",
        "      <td> 267218.344480</td>\n",
        "      <td> 159443.746583</td>\n",
        "      <td> 0.966311</td>\n",
        "    </tr>\n",
        "    <tr>\n",
        "      <th>10</th>\n",
        "      <td>  39119.953501</td>\n",
        "      <td>  19041.270883</td>\n",
        "      <td> 0.046681</td>\n",
        "      <td> 255897.769795</td>\n",
        "      <td> 142709.306726</td>\n",
        "      <td> 0.502315</td>\n",
        "    </tr>\n",
        "    <tr>\n",
        "      <th>11</th>\n",
        "      <td>  39276.838633</td>\n",
        "      <td>  19124.232792</td>\n",
        "      <td> 0.044710</td>\n",
        "      <td> 289099.531261</td>\n",
        "      <td> 179613.258741</td>\n",
        "      <td> 1.368096</td>\n",
        "    </tr>\n",
        "    <tr>\n",
        "      <th>12</th>\n",
        "      <td>  37612.445764</td>\n",
        "      <td>  19244.207458</td>\n",
        "      <td> 0.050777</td>\n",
        "      <td> 217784.320649</td>\n",
        "      <td> 140762.128062</td>\n",
        "      <td> 0.597270</td>\n",
        "    </tr>\n",
        "    <tr>\n",
        "      <th>13</th>\n",
        "      <td>  39239.056209</td>\n",
        "      <td>  20012.287348</td>\n",
        "      <td> 0.058355</td>\n",
        "      <td> 281810.328795</td>\n",
        "      <td> 167884.250863</td>\n",
        "      <td> 1.204534</td>\n",
        "    </tr>\n",
        "    <tr>\n",
        "      <th>14</th>\n",
        "      <td>  37137.888033</td>\n",
        "      <td>  19871.102972</td>\n",
        "      <td> 0.054841</td>\n",
        "      <td> 280349.842469</td>\n",
        "      <td> 168398.628775</td>\n",
        "      <td> 1.197587</td>\n",
        "    </tr>\n",
        "    <tr>\n",
        "      <th>15</th>\n",
        "      <td> 291875.664974</td>\n",
        "      <td> 185060.854460</td>\n",
        "      <td> 1.433858</td>\n",
        "      <td> 187996.770110</td>\n",
        "      <td> 116990.535286</td>\n",
        "      <td> 0.351472</td>\n",
        "    </tr>\n",
        "    <tr>\n",
        "      <th>16</th>\n",
        "      <td> 291875.664974</td>\n",
        "      <td> 185060.854460</td>\n",
        "      <td> 1.433858</td>\n",
        "      <td> 191816.350477</td>\n",
        "      <td> 121458.902385</td>\n",
        "      <td> 0.496540</td>\n",
        "    </tr>\n",
        "    <tr>\n",
        "      <th>17</th>\n",
        "      <td>  42649.931332</td>\n",
        "      <td>  21666.383594</td>\n",
        "      <td> 0.064175</td>\n",
        "      <td> 140633.497176</td>\n",
        "      <td>  87224.160604</td>\n",
        "      <td> 0.241683</td>\n",
        "    </tr>\n",
        "    <tr>\n",
        "      <th>18</th>\n",
        "      <td> 291875.664974</td>\n",
        "      <td> 185060.854460</td>\n",
        "      <td> 1.433858</td>\n",
        "      <td> 247594.506763</td>\n",
        "      <td> 153832.946020</td>\n",
        "      <td> 0.470549</td>\n",
        "    </tr>\n",
        "  </tbody>\n",
        "</table>\n",
        "</div>"
       ],
       "metadata": {},
       "output_type": "pyout",
       "prompt_number": 9,
       "text": [
        "                0              1         2              3              4  \\\n",
        "0    38163.449250   17417.635451  0.043032  291875.664974  185060.854460   \n",
        "1    39727.902689   17788.534294  0.043491  291875.664974  185060.854460   \n",
        "2    38640.506742   17201.835114  0.041636  189576.310457  119963.269359   \n",
        "3    39582.923274   17503.852460  0.044808  291462.473957  184244.197770   \n",
        "4    38649.529935   17005.997987  0.041823  291875.651194  185060.456161   \n",
        "5    39081.290339   17348.477748  0.043360  291875.598286  185059.052367   \n",
        "6    37656.989023   17654.320160  0.045477  230721.885608  130245.536993   \n",
        "7    39443.572549   19178.172717  0.048349  291875.664974  185060.854460   \n",
        "8    40683.679145   18590.740943  0.045757  239715.525570  137585.191364   \n",
        "9    39366.249387   18401.540404  0.047663  267218.344480  159443.746583   \n",
        "10   39119.953501   19041.270883  0.046681  255897.769795  142709.306726   \n",
        "11   39276.838633   19124.232792  0.044710  289099.531261  179613.258741   \n",
        "12   37612.445764   19244.207458  0.050777  217784.320649  140762.128062   \n",
        "13   39239.056209   20012.287348  0.058355  281810.328795  167884.250863   \n",
        "14   37137.888033   19871.102972  0.054841  280349.842469  168398.628775   \n",
        "15  291875.664974  185060.854460  1.433858  187996.770110  116990.535286   \n",
        "16  291875.664974  185060.854460  1.433858  191816.350477  121458.902385   \n",
        "17   42649.931332   21666.383594  0.064175  140633.497176   87224.160604   \n",
        "18  291875.664974  185060.854460  1.433858  247594.506763  153832.946020   \n",
        "\n",
        "           5  \n",
        "0   1.433858  \n",
        "1   1.433858  \n",
        "2   0.417729  \n",
        "3   1.421923  \n",
        "4   1.433854  \n",
        "5   1.433843  \n",
        "6   0.325317  \n",
        "7   1.433858  \n",
        "8   0.406786  \n",
        "9   0.966311  \n",
        "10  0.502315  \n",
        "11  1.368096  \n",
        "12  0.597270  \n",
        "13  1.204534  \n",
        "14  1.197587  \n",
        "15  0.351472  \n",
        "16  0.496540  \n",
        "17  0.241683  \n",
        "18  0.470549  "
       ]
      }
     ],
     "prompt_number": 9
    },
    {
     "cell_type": "code",
     "collapsed": false,
     "input": [],
     "language": "python",
     "metadata": {},
     "outputs": []
    }
   ],
   "metadata": {}
  }
 ]
}