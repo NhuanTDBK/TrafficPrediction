{
 "cells": [
  {
   "cell_type": "code",
   "execution_count": 1,
   "metadata": {
    "collapsed": true
   },
   "outputs": [],
   "source": [
    "import numpy as np\n",
    "import pandas as pd\n",
    "import sqlite3"
   ]
  },
  {
   "cell_type": "code",
   "execution_count": 31,
   "metadata": {
    "collapsed": false
   },
   "outputs": [],
   "source": [
    "conn = sqlite3.connect('trafficdb')\n",
    "c = conn.cursor()\n",
    "table_name = \"timetraffic\"\n",
    "table_workload = \"workload\""
   ]
  },
  {
   "cell_type": "code",
   "execution_count": 12,
   "metadata": {
    "collapsed": false
   },
   "outputs": [
    {
     "name": "stdout",
     "output_type": "stream",
     "text": [
      "Count list\n"
     ]
    }
   ],
   "source": [
    "# raw_data_name = sys.argv[1]\n",
    "raw_data = \"ita/output/data.csv\"\n",
    "raw_data = pd.read_csv(raw_data_name)\n",
    "length = raw_data.shape[0]\n",
    "# In[ ]:\n",
    "# dataCount = np.array(np.zeros(length))\n",
    "print \"Count list\"\n",
    "for i in np.arange(0,length):\n",
    "    index = raw_data.irow(i)[\"Timestamp\"]\n",
    "    c.execute('INSERT INTO %s VALUES (%d,%d)'%(table_name,index,1))"
   ]
  },
  {
   "cell_type": "code",
   "execution_count": 32,
   "metadata": {
    "collapsed": false
   },
   "outputs": [],
   "source": [
    "dt = c.execute('select count(timestamp) from %s group by timestamp'%table_name)\n",
    "list = dt.fetchall()\n",
    "start_idx = 0;\n",
    "jump_list = 600;\n",
    "size = len(list)/jump_list\n",
    "dataCount = np.zeros(size)\n",
    "for i in np.arange(size):\n",
    "    tmp_sum = sum([pair[0] for pair in list[start_idx:start_idx+jump_list]])\n",
    "    start_idx += jump_list\n",
    "    c.execute('INSERT INTO %s VALUES (%d,%d)'%(table_workload,i,tmp_sum))"
   ]
  },
  {
   "cell_type": "code",
   "execution_count": 33,
   "metadata": {
    "collapsed": true
   },
   "outputs": [],
   "source": [
    "conn.commit()"
   ]
  },
  {
   "cell_type": "code",
   "execution_count": 34,
   "metadata": {
    "collapsed": true
   },
   "outputs": [],
   "source": [
    "conn.close()"
   ]
  },
  {
   "cell_type": "code",
   "execution_count": null,
   "metadata": {
    "collapsed": true
   },
   "outputs": [],
   "source": []
  }
 ],
 "metadata": {
  "kernelspec": {
   "display_name": "Python 2",
   "language": "python",
   "name": "python2"
  },
  "language_info": {
   "codemirror_mode": {
    "name": "ipython",
    "version": 2
   },
   "file_extension": ".py",
   "mimetype": "text/x-python",
   "name": "python",
   "nbconvert_exporter": "python",
   "pygments_lexer": "ipython2",
   "version": "2.7.6"
  }
 },
 "nbformat": 4,
 "nbformat_minor": 0
}
