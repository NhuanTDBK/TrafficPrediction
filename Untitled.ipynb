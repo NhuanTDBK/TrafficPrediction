{
 "cells": [
  {
   "cell_type": "code",
   "execution_count": 3,
   "metadata": {
    "collapsed": true
   },
   "outputs": [],
   "source": [
    "import pandas as pd\n",
    "import numpy as np\n",
    "import matplotlib.pyplot as pl\n",
    "from pandas import HDFStore\n",
    "store = HDFStore(\"storeTraffic.h5\")"
   ]
  },
  {
   "cell_type": "code",
   "execution_count": 106,
   "metadata": {
    "collapsed": false
   },
   "outputs": [],
   "source": [
    "raw_data_name = \"ita_public_tools/output/data.csv\"\n",
    "raw_data = pd.read_csv(raw_data_name)\n",
    "store = HDFStore(\"storeTraffic.h5\")"
   ]
  },
  {
   "cell_type": "code",
   "execution_count": 84,
   "metadata": {
    "collapsed": false
   },
   "outputs": [],
   "source": [
    "data = raw_data.groupby('Timestamp').count()[\"Timestamp\"]"
   ]
  },
  {
   "cell_type": "code",
   "execution_count": 92,
   "metadata": {
    "collapsed": false
   },
   "outputs": [
    {
     "data": {
      "text/plain": [
       "0    1\n",
       "1    2\n",
       "dtype: int64"
      ]
     },
     "execution_count": 92,
     "metadata": {},
     "output_type": "execute_result"
    }
   ],
   "source": [
    "# n_input = 10\n",
    "# n_row = data.shape[0]\n",
    "# print \"Generate X_training, y_training\"\n",
    "# print \"X_training loading...\"\n",
    "# X_training = np.asarray([[data[t-i-1] for i in range(0,n_input)]\n",
    "#              for t in np.arange(n_input,n_row)])"
   ]
  },
  {
   "cell_type": "code",
   "execution_count": 98,
   "metadata": {
    "collapsed": false
   },
   "outputs": [],
   "source": [
    "range_list = data.shape[0]\n",
    "jump_list = 600\n",
    "init_list = 0;\n",
    "length = data.shape[0]/jump_list\n",
    "dataCount = np.array(np.zeros(length))\n",
    "for i in np.arange(0,length):\n",
    "    tmp = data[init_list:init_list+jump_list]\n",
    "    dataCount[i] = tmp.sum()\n",
    "    init_list+=jump_list"
   ]
  },
  {
   "cell_type": "code",
   "execution_count": null,
   "metadata": {
    "collapsed": false,
    "scrolled": true
   },
   "outputs": [],
   "source": [
    "del store[\"conn\"]\n",
    "store[\"conn\"] = dataCount"
   ]
  },
  {
   "cell_type": "code",
   "execution_count": 100,
   "metadata": {
    "collapsed": false
   },
   "outputs": [],
   "source": [
    "X_training = np.asarray([[dataCount[t-i-1] for i in range(0,n_input)]\n",
    "                 for t in np.arange(10,dataCount.shape[0])])"
   ]
  },
  {
   "cell_type": "code",
   "execution_count": 101,
   "metadata": {
    "collapsed": false
   },
   "outputs": [],
   "source": [
    "n_sample2 = np.asarray(data.iloc[0:10])"
   ]
  },
  {
   "cell_type": "code",
   "execution_count": 102,
   "metadata": {
    "collapsed": false
   },
   "outputs": [
    {
     "data": {
      "text/plain": [
       "array([[ 4454.,  5844.,  5839., ...,  7167.,  4295.,  4597.],\n",
       "       [ 4823.,  4454.,  5844., ...,  5215.,  7167.,  4295.],\n",
       "       [ 5099.,  4823.,  4454., ...,  5996.,  5215.,  7167.],\n",
       "       ..., \n",
       "       [ 5352.,  5635.,  6257., ...,  6965.,  7344.,  6540.],\n",
       "       [ 5033.,  5352.,  5635., ...,  5590.,  6965.,  7344.],\n",
       "       [ 5097.,  5033.,  5352., ...,  5271.,  5590.,  6965.]])"
      ]
     },
     "execution_count": 102,
     "metadata": {},
     "output_type": "execute_result"
    }
   ],
   "source": [
    "X_training"
   ]
  },
  {
   "cell_type": "code",
   "execution_count": null,
   "metadata": {
    "collapsed": true
   },
   "outputs": [],
   "source": [
    "ax = pl.subplot()\n",
    "ax.set_color_cycle(['blue','red'])\n",
    "ax.plot(dataCount,label=\"actual\")\n",
    "ax.legend()\n",
    "pl.show()"
   ]
  },
  {
   "cell_type": "code",
   "execution_count": 108,
   "metadata": {
    "collapsed": false
   },
   "outputs": [
    {
     "name": "stdout",
     "output_type": "stream",
     "text": [
      "Loading storage\n",
      "generate data\n",
      "Count list\n",
      "Saving...\n"
     ]
    }
   ],
   "source": [
    "print \"Loading storage\"\n",
    "data = raw_data.groupby('Timestamp').count()[\"Timestamp\"]\n",
    "print \"generate data\"\n",
    "# Config variable\n",
    "range_list = data.shape[0]\n",
    "jump_list = 600\n",
    "init_list = 0;\n",
    "length = data.shape[0]/jump_list\n",
    "# In[ ]:\n",
    "\n",
    "dataCount = np.array(np.zeros(length))\n",
    "print \"Count list\"\n",
    "for i in np.arange(0,length):\n",
    "    tmp = data[init_list:init_list+jump_list]\n",
    "    dataCount[i] = tmp.sum()\n",
    "    init_list+=jump_list\n",
    "print \"Saving...\"\n",
    "store[\"conn\"]=pd.Series(dataCount)"
   ]
  },
  {
   "cell_type": "code",
   "execution_count": 121,
   "metadata": {
    "collapsed": false
   },
   "outputs": [],
   "source": [
    "dataCount = pd.Series(store[\"conn\"],dtype=np.float64)"
   ]
  },
  {
   "cell_type": "code",
   "execution_count": 122,
   "metadata": {
    "collapsed": false
   },
   "outputs": [],
   "source": [
    "dataNorm = pd.Series(np.zeros(dataCount.shape[0]),dtype=np.float64)"
   ]
  },
  {
   "cell_type": "code",
   "execution_count": 127,
   "metadata": {
    "collapsed": false
   },
   "outputs": [],
   "source": [
    "dataNorm = (dataCount - dataCount.min())/(dataCount.max()-dataCount.min())"
   ]
  },
  {
   "cell_type": "code",
   "execution_count": 5,
   "metadata": {
    "collapsed": false
   },
   "outputs": [],
   "source": [
    "store.close()"
   ]
  },
  {
   "cell_type": "code",
   "execution_count": 14,
   "metadata": {
    "collapsed": false
   },
   "outputs": [
    {
     "ename": "TypeError",
     "evalue": "not enough arguments for format string",
     "output_type": "error",
     "traceback": [
      "\u001b[1;31m---------------------------------------------------------------------------\u001b[0m",
      "\u001b[1;31mTypeError\u001b[0m                                 Traceback (most recent call last)",
      "\u001b[1;32m<ipython-input-14-fc7a6fb139ec>\u001b[0m in \u001b[0;36m<module>\u001b[1;34m()\u001b[0m\n\u001b[1;32m----> 1\u001b[1;33m \u001b[0ma\u001b[0m \u001b[1;33m=\u001b[0m \u001b[1;34m\"name_%s_%s\"\u001b[0m \u001b[1;33m%\u001b[0m\u001b[1;36m1\u001b[0m \u001b[1;33m%\u001b[0m\u001b[1;36m2\u001b[0m\u001b[1;33m\u001b[0m\u001b[0m\n\u001b[0m",
      "\u001b[1;31mTypeError\u001b[0m: not enough arguments for format string"
     ]
    }
   ],
   "source": [
    "a = \"name_%s_%s\" %1 %2"
   ]
  },
  {
   "cell_type": "code",
   "execution_count": 12,
   "metadata": {
    "collapsed": false
   },
   "outputs": [
    {
     "data": {
      "text/plain": [
       "'name_1'"
      ]
     },
     "execution_count": 12,
     "metadata": {},
     "output_type": "execute_result"
    }
   ],
   "source": [
    "a"
   ]
  },
  {
   "cell_type": "code",
   "execution_count": null,
   "metadata": {
    "collapsed": true
   },
   "outputs": [],
   "source": []
  }
 ],
 "metadata": {
  "kernelspec": {
   "display_name": "Python 2",
   "language": "python",
   "name": "python2"
  },
  "language_info": {
   "codemirror_mode": {
    "name": "ipython",
    "version": 2
   },
   "file_extension": ".py",
   "mimetype": "text/x-python",
   "name": "python",
   "nbconvert_exporter": "python",
   "pygments_lexer": "ipython2",
   "version": "2.7.6"
  }
 },
 "nbformat": 4,
 "nbformat_minor": 0
}
