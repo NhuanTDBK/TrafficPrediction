{
 "cells": [
  {
   "cell_type": "code",
   "execution_count": 1,
   "metadata": {
    "collapsed": false
   },
   "outputs": [
    {
     "name": "stderr",
     "output_type": "stream",
     "text": [
      "WARNING:sknn:Theano was already imported and cannot be reconfigured.\n"
     ]
    }
   ],
   "source": [
    "import numpy as np\n",
    "import pandas as pd\n",
    "import matplotlib.pyplot as pl\n",
    "import sklearn\n",
    "from sknn.mlp import Regressor, Layer\n",
    "import pickle\n",
    "from sknn.platform import cpu64\n",
    "from __init__ import *"
   ]
  },
  {
   "cell_type": "code",
   "execution_count": 2,
   "metadata": {
    "collapsed": false
   },
   "outputs": [],
   "source": [
    "nn = Regressor(\n",
    "    layers=[\n",
    "        Layer(\"Rectifier\", units=10),\n",
    "        Layer(\"Linear\")],\n",
    "    learning_rate=0.02,\n",
    "    n_iter=30)\n",
    "#X_training, y_training = get_training()"
   ]
  },
  {
   "cell_type": "code",
   "execution_count": 4,
   "metadata": {
    "collapsed": false
   },
   "outputs": [
    {
     "data": {
      "text/plain": [
       "Regressor(batch_size=1, debug=False, dropout_rate=None, f_stable=0.001,\n",
       "     hidden0=<sknn.nn.Layer `Rectifier`: name=u'hidden0', units=10>,\n",
       "     layers=[<sknn.nn.Layer `Rectifier`: name=u'hidden0', units=10>, <sknn.nn.Layer `Linear`: name=u'output', units=1>],\n",
       "     learning_momentum=0.9, learning_rate=0.02, learning_rule=u'sgd',\n",
       "     loss_type=u'mse', mutator=None, n_iter=30, n_stable=50,\n",
       "     output=<sknn.nn.Layer `Linear`: name=u'output', units=1>,\n",
       "     random_state=None, regularize=None, valid_set=None, valid_size=0.0,\n",
       "     verbose=None, weight_decay=None)"
      ]
     },
     "execution_count": 4,
     "metadata": {},
     "output_type": "execute_result"
    }
   ],
   "source": [
    "nn.fit(X_training,y_training)"
   ]
  },
  {
   "cell_type": "code",
   "execution_count": 5,
   "metadata": {
    "collapsed": false
   },
   "outputs": [],
   "source": [
    "n_input = 11\n",
    "n_sample2 = np.asarray([[raw_data.ix[t-i][4] for i in range(1,n_input)] for t in np.arange(289,289*2)])\n",
    "n_test2 =  np.asarray([raw_data.ix[t][4] for t in np.arange(289+1,289*2+1)])\n"
   ]
  },
  {
   "cell_type": "code",
   "execution_count": 7,
   "metadata": {
    "collapsed": true
   },
   "outputs": [],
   "source": [
    "nn = pickle.load(open('nn.pkl','rb'))"
   ]
  },
  {
   "cell_type": "code",
   "execution_count": 10,
   "metadata": {
    "collapsed": false
   },
   "outputs": [
    {
     "name": "stdout",
     "output_type": "stream",
     "text": [
      "-0.0771971009247\n"
     ]
    }
   ],
   "source": [
    "print nn.score(n_sample2,n_test2)\n",
    "pred = np.asarray(nn.predict(n_sample2))\n",
    "ax = pl.subplot()\n",
    "ax.set_color_cycle(['blue','red'])\n",
    "ax.plot(n_test2,label=\"actual\")\n",
    "ax.plot(pred,label=\"predict\")\n",
    "ax.legend()\n",
    "pl.show()"
   ]
  },
  {
   "cell_type": "code",
   "execution_count": null,
   "metadata": {
    "collapsed": false
   },
   "outputs": [],
   "source": [
    "# pd.DataFrame(zip(pred,n_test2),columns=[\"Prediction\",\"Real\"])"
   ]
  },
  {
   "cell_type": "code",
   "execution_count": null,
   "metadata": {
    "collapsed": false
   },
   "outputs": [],
   "source": []
  },
  {
   "cell_type": "code",
   "execution_count": null,
   "metadata": {
    "collapsed": false
   },
   "outputs": [],
   "source": [
    "n_input = 11\n",
    "n_sample2 = np.asarray([[raw_data.ix[t-i][4] for i in range(1,n_input)] for t in np.arange(289*400,289*410)])\n",
    "n_test2 =  np.asarray([raw_data.ix[t][4] for t in np.arange(289*400+1,289*410+1)])\n",
    "nn.score(n_sample2,n_test2)"
   ]
  },
  {
   "cell_type": "code",
   "execution_count": null,
   "metadata": {
    "collapsed": true
   },
   "outputs": [],
   "source": []
  }
 ],
 "metadata": {
  "kernelspec": {
   "display_name": "Python 2",
   "language": "python",
   "name": "python2"
  },
  "language_info": {
   "codemirror_mode": {
    "name": "ipython",
    "version": 2
   },
   "file_extension": ".py",
   "mimetype": "text/x-python",
   "name": "python",
   "nbconvert_exporter": "python",
   "pygments_lexer": "ipython2",
   "version": "2.7.6"
  }
 },
 "nbformat": 4,
 "nbformat_minor": 0
}
