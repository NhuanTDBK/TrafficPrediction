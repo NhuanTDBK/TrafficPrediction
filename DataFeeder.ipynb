{
 "metadata": {
  "name": "",
  "signature": "sha256:ae25d9eccd1ac75c986e3125d9762b0512e238d67bb0c6a6b1a3b6398e5ffe1e"
 },
 "nbformat": 3,
 "nbformat_minor": 0,
 "worksheets": [
  {
   "cells": [
    {
     "cell_type": "code",
     "collapsed": false,
     "input": [
      "import tensorflow as tf\n",
      "import numpy as np"
     ],
     "language": "python",
     "metadata": {},
     "outputs": [],
     "prompt_number": 1
    },
    {
     "cell_type": "code",
     "collapsed": false,
     "input": [],
     "language": "python",
     "metadata": {},
     "outputs": []
    }
   ],
   "metadata": {}
  }
 ]
}