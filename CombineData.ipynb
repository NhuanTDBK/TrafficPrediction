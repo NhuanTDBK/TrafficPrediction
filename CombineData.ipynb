{
 "cells": [
  {
   "cell_type": "code",
   "execution_count": 1,
   "metadata": {
    "collapsed": false
   },
   "outputs": [],
   "source": [
    "import numpy as np\n",
    "import matplotlib.pyplot as plt\n",
    "\n",
    "from sklearn.cluster import KMeans\n",
    "from sklearn.datasets import make_blobs\n",
    "import pandas as pd\n",
    "from pandas import HDFStore"
   ]
  },
  {
   "cell_type": "code",
   "execution_count": 13,
   "metadata": {
    "collapsed": false
   },
   "outputs": [
    {
     "data": {
      "text/plain": [
       "<class 'pandas.io.pytables.HDFStore'>\n",
       "File path: storeTraffic.h5\n",
       "/auto                      series       (shape->[1])  \n",
       "/connTest                  series       (shape->[142])\n",
       "/connTotal                 series       (shape->[852])\n",
       "/connTrain                 series       (shape->[710])\n",
       "/raw_conn_test             series       (shape->[142])\n",
       "/raw_conn_train            series       (shape->[710])"
      ]
     },
     "execution_count": 13,
     "metadata": {},
     "output_type": "execute_result"
    }
   ],
   "source": [
    "store = HDFStore(\"storeTraffic.h5\")\n",
    "store"
   ]
  },
  {
   "cell_type": "code",
   "execution_count": 7,
   "metadata": {
    "collapsed": true
   },
   "outputs": [],
   "source": [
    "def normalize(dataCount):\n",
    "    dataNorm = pd.Series(np.zeros(dataCount.shape[0]),dtype=np.float64)\n",
    "    dataNorm = (dataCount - dataCount.min())/(dataCount.max()-dataCount.min())\n",
    "    return dataNorm"
   ]
  },
  {
   "cell_type": "code",
   "execution_count": null,
   "metadata": {
    "collapsed": false
   },
   "outputs": [],
   "source": [
    "connTotal = np.array([connTrain,connTest]).flatten()[0]"
   ]
  },
  {
   "cell_type": "code",
   "execution_count": 9,
   "metadata": {
    "collapsed": false
   },
   "outputs": [],
   "source": [
    "conntrain = normalize(store[\"connTotal\"][:710])"
   ]
  },
  {
   "cell_type": "code",
   "execution_count": 10,
   "metadata": {
    "collapsed": true
   },
   "outputs": [],
   "source": [
    "conntest = normalize(store[\"connTotal\"][710:])"
   ]
  },
  {
   "cell_type": "code",
   "execution_count": 11,
   "metadata": {
    "collapsed": true
   },
   "outputs": [],
   "source": [
    "store[\"raw_conn_train\"] = conntrain\n",
    "store[\"raw_conn_test\"] = conntest"
   ]
  },
  {
   "cell_type": "code",
   "execution_count": 14,
   "metadata": {
    "collapsed": false
   },
   "outputs": [
    {
     "data": {
      "text/plain": [
       "0     0.004150\n",
       "1     0.006818\n",
       "2     0.004608\n",
       "3     0.002620\n",
       "4     0.002351\n",
       "5     0.002439\n",
       "6     0.002514\n",
       "7     0.000789\n",
       "8     0.002364\n",
       "9     0.002646\n",
       "10    0.006249\n",
       "11    0.005878\n",
       "12    0.011713\n",
       "13    0.004114\n",
       "14    0.009018\n",
       "...\n",
       "695    0.042119\n",
       "696    0.051733\n",
       "697    0.052699\n",
       "698    0.044391\n",
       "699    0.043372\n",
       "700    0.040845\n",
       "701    0.032978\n",
       "702    0.039923\n",
       "703    0.039407\n",
       "704    0.045286\n",
       "705    0.046106\n",
       "706    0.045048\n",
       "707    0.054873\n",
       "708    0.053541\n",
       "709    0.048368\n",
       "Length: 710, dtype: float64"
      ]
     },
     "execution_count": 14,
     "metadata": {},
     "output_type": "execute_result"
    }
   ],
   "source": [
    "store[\"raw_conn_train\"]"
   ]
  }
 ],
 "metadata": {
  "kernelspec": {
   "display_name": "Python 2",
   "language": "python",
   "name": "python2"
  },
  "language_info": {
   "codemirror_mode": {
    "name": "ipython",
    "version": 2
   },
   "file_extension": ".py",
   "mimetype": "text/x-python",
   "name": "python",
   "nbconvert_exporter": "python",
   "pygments_lexer": "ipython2",
   "version": "2.7.6"
  }
 },
 "nbformat": 4,
 "nbformat_minor": 0
}
